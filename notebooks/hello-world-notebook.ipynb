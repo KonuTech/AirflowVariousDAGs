{
 "cells": [
  {
   "cell_type": "code",
   "execution_count": 1,
   "metadata": {
    "pycharm": {
     "is_executing": true,
     "name": "#%%\n"
    }
   },
   "outputs": [
    {
     "name": "stderr",
     "output_type": "stream",
     "text": [
      "WARNING: An illegal reflective access operation has occurred\n",
      "WARNING: Illegal reflective access by org.apache.spark.unsafe.Platform (file:/usr/local/spark-3.1.2-bin-hadoop3.2/jars/spark-unsafe_2.12-3.1.2.jar) to constructor java.nio.DirectByteBuffer(long,int)\n",
      "WARNING: Please consider reporting this to the maintainers of org.apache.spark.unsafe.Platform\n",
      "WARNING: Use --illegal-access=warn to enable warnings of further illegal reflective access operations\n",
      "WARNING: All illegal access operations will be denied in a future release\n",
      "22/08/23 21:12:35 WARN NativeCodeLoader: Unable to load native-hadoop library for your platform... using builtin-java classes where applicable\n",
      "Using Spark's default log4j profile: org/apache/spark/log4j-defaults.properties\n",
      "Setting default log level to \"WARN\".\n",
      "To adjust logging level use sc.setLogLevel(newLevel). For SparkR, use setLogLevel(newLevel).\n",
      "[Stage 0:>                                                          (0 + 2) / 2]\r"
     ]
    },
    {
     "name": "stdout",
     "output_type": "stream",
     "text": [
      "Lines with a: 653, lines with b: 309\n"
     ]
    },
    {
     "name": "stderr",
     "output_type": "stream",
     "text": [
      "\r",
      "                                                                                \r"
     ]
    }
   ],
   "source": [
    "# Create Spark Context\n",
    "from pyspark import SparkContext\n",
    "sc = SparkContext()\n",
    "\n",
    "# Set file\n",
    "logFile = \"/home/jovyan/work/data/airflow.cfg\"\n",
    "\n",
    "# Read file\n",
    "logData = sc.textFile(logFile).cache()\n",
    "\n",
    "# Get lines with A\n",
    "numAs = logData.filter(lambda s: 'a' in s).count()\n",
    "\n",
    "# Get lines with B \n",
    "numBs = logData.filter(lambda s: 'b' in s).count()\n",
    "\n",
    "# Print result\n",
    "print(\"Lines with a: {}, lines with b: {}\".format(numAs, numBs))"
   ]
  },
  {
   "cell_type": "code",
   "execution_count": null,
   "outputs": [],
   "source": [
    "ls"
   ],
   "metadata": {
    "collapsed": false,
    "pycharm": {
     "name": "#%%\n"
    }
   }
  },
  {
   "cell_type": "code",
   "execution_count": null,
   "outputs": [],
   "source": [
    "pip list"
   ],
   "metadata": {
    "collapsed": false,
    "pycharm": {
     "name": "#%%\n"
    }
   }
  },
  {
   "cell_type": "code",
   "execution_count": null,
   "outputs": [],
   "source": [],
   "metadata": {
    "collapsed": false,
    "pycharm": {
     "name": "#%%\n"
    }
   }
  },
  {
   "cell_type": "code",
   "execution_count": 3,
   "metadata": {
    "pycharm": {
     "name": "#%%\n"
    }
   },
   "outputs": [
    {
     "name": "stdout",
     "output_type": "stream",
     "text": [
      "Package                       Version\n",
      "----------------------------- ----------\n",
      "alembic                       1.7.4\n",
      "altair                        4.1.0\n",
      "anyio                         3.3.3\n",
      "appdirs                       1.4.4\n",
      "argon2-cffi                   21.1.0\n",
      "async-generator               1.10\n",
      "attrs                         21.2.0\n",
      "Babel                         2.9.1\n",
      "backcall                      0.2.0\n",
      "backports.functools-lru-cache 1.6.4\n",
      "beautifulsoup4                4.10.0\n",
      "bleach                        4.1.0\n",
      "blinker                       1.4\n",
      "bokeh                         2.4.1\n",
      "Bottleneck                    1.3.2\n",
      "brotlipy                      0.7.0\n",
      "cached-property               1.5.2\n",
      "certifi                       2021.10.8\n",
      "certipy                       0.1.3\n",
      "cffi                          1.14.6\n",
      "chardet                       4.0.0\n",
      "charset-normalizer            2.0.0\n",
      "click                         8.0.3\n",
      "cloudpickle                   2.0.0\n",
      "colorama                      0.4.4\n",
      "conda                         4.10.3\n",
      "conda-package-handling        1.7.3\n",
      "cryptography                  35.0.0\n",
      "cycler                        0.10.0\n",
      "Cython                        0.29.24\n",
      "cytoolz                       0.11.0\n",
      "dask                          2021.9.1\n",
      "debugpy                       1.4.1\n",
      "decorator                     5.1.0\n",
      "defusedxml                    0.7.1\n",
      "dill                          0.3.4\n",
      "distributed                   2021.9.1\n",
      "entrypoints                   0.3\n",
      "fsspec                        2021.10.1\n",
      "gmpy2                         2.1.0b5\n",
      "greenlet                      1.1.2\n",
      "h5py                          3.4.0\n",
      "HeapDict                      1.0.1\n",
      "idna                          3.1\n",
      "imagecodecs                   2021.8.26\n",
      "imageio                       2.9.0\n",
      "importlib-metadata            4.8.1\n",
      "importlib-resources           5.2.3\n",
      "ipykernel                     6.4.1\n",
      "ipympl                        0.8.0\n",
      "ipython                       7.28.0\n",
      "ipython-genutils              0.2.0\n",
      "ipywidgets                    7.6.5\n",
      "jedi                          0.18.0\n",
      "Jinja2                        3.0.2\n",
      "joblib                        1.1.0\n",
      "json5                         0.9.5\n",
      "jsonschema                    4.1.0\n",
      "jupyter-client                7.0.6\n",
      "jupyter-core                  4.8.1\n",
      "jupyter-server                1.11.1\n",
      "jupyter-telemetry             0.1.0\n",
      "jupyterhub                    1.4.2\n",
      "jupyterlab                    3.2.0\n",
      "jupyterlab-pygments           0.1.2\n",
      "jupyterlab-server             2.8.2\n",
      "jupyterlab-widgets            1.0.2\n",
      "kiwisolver                    1.3.2\n",
      "llvmlite                      0.37.0\n",
      "locket                        0.2.0\n",
      "Mako                          1.1.5\n",
      "mamba                         0.17.0\n",
      "MarkupSafe                    2.0.1\n",
      "matplotlib                    3.4.3\n",
      "matplotlib-inline             0.1.3\n",
      "mistune                       0.8.4\n",
      "mock                          4.0.3\n",
      "mpmath                        1.2.1\n",
      "msgpack                       1.0.2\n",
      "nbclassic                     0.3.2\n",
      "nbclient                      0.5.4\n",
      "nbconvert                     6.2.0\n",
      "nbformat                      5.1.3\n",
      "nest-asyncio                  1.5.1\n",
      "networkx                      2.5\n",
      "notebook                      6.4.4\n",
      "numba                         0.54.1\n",
      "numexpr                       2.7.3\n",
      "numpy                         1.20.3\n",
      "oauthlib                      3.1.1\n",
      "olefile                       0.46\n",
      "packaging                     21.0\n",
      "pamela                        1.0.0\n",
      "pandas                        1.3.4\n",
      "pandocfilters                 1.5.0\n",
      "parso                         0.8.2\n",
      "partd                         1.2.0\n",
      "patsy                         0.5.2\n",
      "pexpect                       4.8.0\n",
      "pickleshare                   0.7.5\n",
      "Pillow                        8.3.2\n",
      "pip                           21.3\n",
      "pooch                         1.5.2\n",
      "prometheus-client             0.11.0\n",
      "prompt-toolkit                3.0.20\n",
      "protobuf                      3.18.1\n",
      "psutil                        5.8.0\n",
      "ptyprocess                    0.7.0\n",
      "pyarrow                       5.0.0\n",
      "pycosat                       0.6.3\n",
      "pycparser                     2.20\n",
      "pycurl                        7.44.1\n",
      "Pygments                      2.10.0\n",
      "PyJWT                         2.3.0\n",
      "pyOpenSSL                     21.0.0\n",
      "pyparsing                     2.4.7\n",
      "pyrsistent                    0.17.3\n",
      "PySocks                       1.7.1\n",
      "pyspark                       3.1.2\n",
      "python-dateutil               2.8.2\n",
      "python-json-logger            2.0.1\n",
      "pytz                          2021.3\n",
      "PyWavelets                    1.1.1\n",
      "PyYAML                        6.0\n",
      "pyzmq                         22.3.0\n",
      "requests                      2.26.0\n",
      "requests-unixsocket           0.2.0\n",
      "ruamel.yaml                   0.17.16\n",
      "ruamel.yaml.clib              0.2.2\n",
      "ruamel-yaml-conda             0.15.80\n",
      "scikit-image                  0.18.3\n",
      "scikit-learn                  1.0\n",
      "scipy                         1.7.1\n",
      "seaborn                       0.11.2\n",
      "Send2Trash                    1.8.0\n",
      "setuptools                    58.2.0\n",
      "six                           1.16.0\n",
      "sniffio                       1.2.0\n",
      "sortedcontainers              2.4.0\n",
      "soupsieve                     2.0.1\n",
      "SQLAlchemy                    1.4.25\n",
      "statsmodels                   0.13.0\n",
      "sympy                         1.9\n",
      "tables                        3.6.1\n",
      "tblib                         1.7.0\n",
      "terminado                     0.12.1\n",
      "testpath                      0.5.0\n",
      "threadpoolctl                 3.0.0\n",
      "tifffile                      2021.10.12\n",
      "toolz                         0.11.1\n",
      "tornado                       6.1\n",
      "tqdm                          4.62.3\n",
      "traitlets                     5.1.0\n",
      "typing-extensions             3.10.0.2\n",
      "urllib3                       1.26.7\n",
      "wcwidth                       0.2.5\n",
      "webencodings                  0.5.1\n",
      "websocket-client              0.57.0\n",
      "wheel                         0.37.0\n",
      "widgetsnbextension            3.5.1\n",
      "xlrd                          2.0.1\n",
      "zict                          2.0.0\n",
      "zipp                          3.6.0\n",
      "Note: you may need to restart the kernel to use updated packages.\n"
     ]
    }
   ],
   "source": [
    "pip list"
   ]
  },
  {
   "cell_type": "code",
   "execution_count": null,
   "metadata": {
    "pycharm": {
     "name": "#%%\n"
    }
   },
   "outputs": [],
   "source": []
  }
 ],
 "metadata": {
  "kernelspec": {
   "display_name": "Python 3 (ipykernel)",
   "language": "python",
   "name": "python3"
  },
  "language_info": {
   "codemirror_mode": {
    "name": "ipython",
    "version": 3
   },
   "file_extension": ".py",
   "mimetype": "text/x-python",
   "name": "python",
   "nbconvert_exporter": "python",
   "pygments_lexer": "ipython3",
   "version": "3.9.7"
  }
 },
 "nbformat": 4,
 "nbformat_minor": 4
}