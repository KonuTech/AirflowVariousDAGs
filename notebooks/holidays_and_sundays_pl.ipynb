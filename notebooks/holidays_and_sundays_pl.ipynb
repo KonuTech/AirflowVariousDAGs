{
 "cells": [
  {
   "cell_type": "code",
   "execution_count": 54,
   "id": "8e5f6ead",
   "metadata": {
    "pycharm": {
     "name": "#%%\n"
    }
   },
   "outputs": [
    {
     "name": "stdout",
     "output_type": "stream",
     "text": [
      "Package                       Version\r\n",
      "----------------------------- ----------\r\n",
      "alembic                       1.7.4\r\n",
      "altair                        4.1.0\r\n",
      "anyio                         3.3.3\r\n",
      "appdirs                       1.4.4\r\n",
      "argon2-cffi                   21.1.0\r\n",
      "async-generator               1.10\r\n",
      "attrs                         21.2.0\r\n",
      "Babel                         2.9.1\r\n",
      "backcall                      0.2.0\r\n",
      "backports.functools-lru-cache 1.6.4\r\n",
      "beautifulsoup4                4.10.0\r\n",
      "bleach                        4.1.0\r\n",
      "blinker                       1.4\r\n",
      "bokeh                         2.4.1\r\n",
      "Bottleneck                    1.3.2\r\n",
      "brotlipy                      0.7.0\r\n",
      "cached-property               1.5.2\r\n",
      "certifi                       2021.10.8\r\n",
      "certipy                       0.1.3\r\n",
      "cffi                          1.14.6\r\n",
      "chardet                       4.0.0\r\n",
      "charset-normalizer            2.0.0\r\n",
      "click                         8.0.3\r\n",
      "cloudpickle                   2.0.0\r\n",
      "colorama                      0.4.4\r\n",
      "conda                         4.10.3\r\n",
      "conda-package-handling        1.7.3\r\n",
      "convertdate                   2.4.0\r\n",
      "cryptography                  35.0.0\r\n",
      "cycler                        0.10.0\r\n",
      "Cython                        0.29.24\r\n",
      "cytoolz                       0.11.0\r\n",
      "dask                          2021.9.1\r\n",
      "debugpy                       1.4.1\r\n",
      "decorator                     5.1.0\r\n",
      "defusedxml                    0.7.1\r\n",
      "dill                          0.3.4\r\n",
      "distributed                   2021.9.1\r\n",
      "entrypoints                   0.3\r\n",
      "fsspec                        2021.10.1\r\n",
      "gmpy2                         2.1.0b5\r\n",
      "greenlet                      1.1.2\r\n",
      "h5py                          3.4.0\r\n",
      "HeapDict                      1.0.1\r\n",
      "hijri-converter               2.2.4\r\n",
      "holidays                      0.15\r\n",
      "idna                          3.1\r\n",
      "imagecodecs                   2021.8.26\r\n",
      "imageio                       2.9.0\r\n",
      "importlib-metadata            4.8.1\r\n",
      "importlib-resources           5.2.3\r\n",
      "ipykernel                     6.4.1\r\n",
      "ipympl                        0.8.0\r\n",
      "ipython                       7.28.0\r\n",
      "ipython-genutils              0.2.0\r\n",
      "ipywidgets                    7.6.5\r\n",
      "jedi                          0.18.0\r\n",
      "Jinja2                        3.0.2\r\n",
      "joblib                        1.1.0\r\n",
      "json5                         0.9.5\r\n",
      "jsonschema                    4.1.0\r\n",
      "jupyter-client                7.0.6\r\n",
      "jupyter-core                  4.8.1\r\n",
      "jupyter-server                1.11.1\r\n",
      "jupyter-telemetry             0.1.0\r\n",
      "jupyterhub                    1.4.2\r\n",
      "jupyterlab                    3.2.0\r\n",
      "jupyterlab-pygments           0.1.2\r\n",
      "jupyterlab-server             2.8.2\r\n",
      "jupyterlab-widgets            1.0.2\r\n",
      "kiwisolver                    1.3.2\r\n",
      "korean-lunar-calendar         0.2.1\r\n",
      "llvmlite                      0.37.0\r\n",
      "locket                        0.2.0\r\n",
      "Mako                          1.1.5\r\n",
      "mamba                         0.17.0\r\n",
      "MarkupSafe                    2.0.1\r\n",
      "matplotlib                    3.4.3\r\n",
      "matplotlib-inline             0.1.3\r\n",
      "mistune                       0.8.4\r\n",
      "mock                          4.0.3\r\n",
      "mpmath                        1.2.1\r\n",
      "msgpack                       1.0.2\r\n",
      "nbclassic                     0.3.2\r\n",
      "nbclient                      0.5.4\r\n",
      "nbconvert                     6.2.0\r\n",
      "nbformat                      5.1.3\r\n",
      "nest-asyncio                  1.5.1\r\n",
      "networkx                      2.5\r\n",
      "notebook                      6.4.4\r\n",
      "numba                         0.54.1\r\n",
      "numexpr                       2.7.3\r\n",
      "numpy                         1.20.3\r\n",
      "oauthlib                      3.1.1\r\n",
      "olefile                       0.46\r\n",
      "packaging                     21.0\r\n",
      "pamela                        1.0.0\r\n",
      "pandas                        1.3.4\r\n",
      "pandocfilters                 1.5.0\r\n",
      "parso                         0.8.2\r\n",
      "partd                         1.2.0\r\n",
      "patsy                         0.5.2\r\n",
      "pexpect                       4.8.0\r\n",
      "pickleshare                   0.7.5\r\n",
      "Pillow                        8.3.2\r\n",
      "pip                           21.3\r\n",
      "pooch                         1.5.2\r\n",
      "prometheus-client             0.11.0\r\n",
      "prompt-toolkit                3.0.20\r\n",
      "protobuf                      3.18.1\r\n",
      "psutil                        5.8.0\r\n",
      "ptyprocess                    0.7.0\r\n",
      "pyarrow                       5.0.0\r\n",
      "pycosat                       0.6.3\r\n",
      "pycparser                     2.20\r\n",
      "pycurl                        7.44.1\r\n",
      "Pygments                      2.10.0\r\n",
      "PyJWT                         2.3.0\r\n",
      "PyMeeus                       0.5.11\r\n",
      "pyOpenSSL                     21.0.0\r\n",
      "pyparsing                     2.4.7\r\n",
      "pyrsistent                    0.17.3\r\n",
      "PySocks                       1.7.1\r\n",
      "pyspark                       3.1.2\r\n",
      "python-dateutil               2.8.2\r\n",
      "python-json-logger            2.0.1\r\n",
      "pytz                          2021.3\r\n",
      "PyWavelets                    1.1.1\r\n",
      "PyYAML                        6.0\r\n",
      "pyzmq                         22.3.0\r\n",
      "requests                      2.26.0\r\n",
      "requests-unixsocket           0.2.0\r\n",
      "ruamel.yaml                   0.17.16\r\n",
      "ruamel.yaml.clib              0.2.2\r\n",
      "ruamel-yaml-conda             0.15.80\r\n",
      "scikit-image                  0.18.3\r\n",
      "scikit-learn                  1.0\r\n",
      "scipy                         1.7.1\r\n",
      "seaborn                       0.11.2\r\n",
      "Send2Trash                    1.8.0\r\n",
      "setuptools                    58.2.0\r\n",
      "six                           1.16.0\r\n",
      "sniffio                       1.2.0\r\n",
      "sortedcontainers              2.4.0\r\n",
      "soupsieve                     2.0.1\r\n",
      "SQLAlchemy                    1.4.25\r\n",
      "statsmodels                   0.13.0\r\n",
      "sympy                         1.9\r\n",
      "tables                        3.6.1\r\n",
      "tblib                         1.7.0\r\n",
      "terminado                     0.12.1\r\n",
      "testpath                      0.5.0\r\n",
      "threadpoolctl                 3.0.0\r\n",
      "tifffile                      2021.10.12\r\n",
      "toolz                         0.11.1\r\n",
      "tornado                       6.1\r\n",
      "tqdm                          4.62.3\r\n",
      "traitlets                     5.1.0\r\n",
      "typing-extensions             3.10.0.2\r\n",
      "urllib3                       1.26.7\r\n",
      "wcwidth                       0.2.5\r\n",
      "webencodings                  0.5.1\r\n",
      "websocket-client              0.57.0\r\n",
      "wheel                         0.37.0\r\n",
      "widgetsnbextension            3.5.1\r\n",
      "xlrd                          2.0.1\r\n",
      "zict                          2.0.0\r\n",
      "zipp                          3.6.0\r\n"
     ]
    }
   ],
   "source": [
    "!pip list"
   ]
  },
  {
   "cell_type": "code",
   "execution_count": 2,
   "id": "8eb3ca64",
   "metadata": {
    "pycharm": {
     "name": "#%%\n"
    }
   },
   "outputs": [
    {
     "name": "stdout",
     "output_type": "stream",
     "text": [
      "Requirement already satisfied: holidays in /opt/conda/lib/python3.9/site-packages (0.15)\r\n",
      "Requirement already satisfied: korean-lunar-calendar in /opt/conda/lib/python3.9/site-packages (from holidays) (0.2.1)\r\n",
      "Requirement already satisfied: hijri-converter in /opt/conda/lib/python3.9/site-packages (from holidays) (2.2.4)\r\n",
      "Requirement already satisfied: convertdate>=2.3.0 in /opt/conda/lib/python3.9/site-packages (from holidays) (2.4.0)\r\n",
      "Requirement already satisfied: python-dateutil in /opt/conda/lib/python3.9/site-packages (from holidays) (2.8.2)\r\n",
      "Requirement already satisfied: pymeeus<=1,>=0.3.13 in /opt/conda/lib/python3.9/site-packages (from convertdate>=2.3.0->holidays) (0.5.11)\r\n",
      "Requirement already satisfied: six>=1.5 in /opt/conda/lib/python3.9/site-packages (from python-dateutil->holidays) (1.16.0)\r\n"
     ]
    }
   ],
   "source": [
    "!pip install holidays"
   ]
  },
  {
   "cell_type": "code",
   "execution_count": 3,
   "id": "06e36c56",
   "metadata": {
    "pycharm": {
     "name": "#%%\n"
    }
   },
   "outputs": [],
   "source": [
    "from datetime import date, timedelta\n",
    "from dateutil import easter\n",
    "from dateutil.relativedelta import *\n",
    "import dateutil.rrule as rrule\n",
    "# import dateutil.relativedelta as relativedelta\n",
    "from datetime import date, datetime"
   ]
  },
  {
   "cell_type": "code",
   "execution_count": 4,
   "id": "23034b1b",
   "metadata": {
    "pycharm": {
     "name": "#%%\n"
    }
   },
   "outputs": [],
   "source": [
    "import holidays"
   ]
  },
  {
   "cell_type": "code",
   "execution_count": 5,
   "id": "7f1f4e0a",
   "metadata": {
    "pycharm": {
     "name": "#%%\n"
    }
   },
   "outputs": [],
   "source": [
    "import pandas as pd"
   ]
  },
  {
   "cell_type": "code",
   "execution_count": 6,
   "id": "8354cddf",
   "metadata": {
    "pycharm": {
     "name": "#%%\n"
    }
   },
   "outputs": [],
   "source": [
    "# US holidays, an example"
   ]
  },
  {
   "cell_type": "code",
   "execution_count": 7,
   "id": "eb2fc8a0",
   "metadata": {
    "pycharm": {
     "name": "#%%\n"
    }
   },
   "outputs": [
    {
     "data": {
      "text/plain": [
       "\"New Year's Day\""
      ]
     },
     "execution_count": 7,
     "metadata": {},
     "output_type": "execute_result"
    }
   ],
   "source": [
    "us_holidays = holidays.US()  # this is a dict\n",
    "# the below is the same, but takes a string:\n",
    "us_holidays = holidays.country_holidays('US')  # this is a dict\n",
    "\n",
    "date(2015, 1, 1) in us_holidays  # True\n",
    "date(2015, 1, 2) in us_holidays  # False\n",
    "us_holidays.get('2014-01-01')  # \"New Year's Day\""
   ]
  },
  {
   "cell_type": "code",
   "execution_count": 8,
   "id": "553b111b",
   "metadata": {
    "pycharm": {
     "name": "#%%\n"
    }
   },
   "outputs": [],
   "source": [
    "# Adding extra holiday, an example"
   ]
  },
  {
   "cell_type": "code",
   "execution_count": 9,
   "id": "d5eeb04b",
   "metadata": {
    "pycharm": {
     "name": "#%%\n"
    }
   },
   "outputs": [
    {
     "name": "stdout",
     "output_type": "stream",
     "text": [
      "False\n",
      "True\n",
      "Holiday\n",
      "Republic Day India, Holiday\n",
      "True\n",
      "True\n",
      "True\n"
     ]
    }
   ],
   "source": [
    "in_holidays = holidays.HolidayBase()\n",
    "\n",
    "# Let's check our republic day\n",
    "print('26-01-2019' in in_holidays)\n",
    "\n",
    "# Add Holiday without description\n",
    "in_holidays.append('26-01-2019')\n",
    "\n",
    "# Let's verify\n",
    "print('26-01-2019' in in_holidays) # True\n",
    "\n",
    "# Let's Check Description\n",
    "print(in_holidays.get('26-01-2019'))\n",
    "\n",
    "# Add Holiday with description\n",
    "in_holidays.append({'26-01-2019':'Republic Day India'})\n",
    "print(in_holidays.get('26-01-2019'))\n",
    "\n",
    "\n",
    "# Add list of Dates Together\n",
    "in_holidays.append(['02-10-2018', '15-08-2018'])\n",
    "print('15-08-2018' in in_holidays) # True\n",
    "print('02-10-2018' in in_holidays) # True\n",
    "\n",
    "# a single date item\n",
    "in_holidays.append(date(2018, 12, 25))\n",
    "print('25-12-2018' in in_holidays) # True\n"
   ]
  },
  {
   "cell_type": "code",
   "execution_count": 10,
   "id": "2e46c197",
   "metadata": {
    "pycharm": {
     "name": "#%%\n"
    }
   },
   "outputs": [],
   "source": [
    "pl_holidays = holidays.PL()"
   ]
  },
  {
   "cell_type": "code",
   "execution_count": 11,
   "id": "f17e85b1",
   "metadata": {
    "pycharm": {
     "name": "#%%\n"
    }
   },
   "outputs": [
    {
     "data": {
      "text/plain": [
       "True"
      ]
     },
     "execution_count": 11,
     "metadata": {},
     "output_type": "execute_result"
    }
   ],
   "source": [
    "date(2015, 1, 1) in pl_holidays"
   ]
  },
  {
   "cell_type": "code",
   "execution_count": 12,
   "id": "19394f58",
   "metadata": {
    "pycharm": {
     "name": "#%%\n"
    }
   },
   "outputs": [
    {
     "data": {
      "text/plain": [
       "False"
      ]
     },
     "execution_count": 12,
     "metadata": {},
     "output_type": "execute_result"
    }
   ],
   "source": [
    "date(2015, 1, 5) in pl_holidays"
   ]
  },
  {
   "cell_type": "code",
   "execution_count": 13,
   "id": "ecd159c0",
   "metadata": {
    "pycharm": {
     "name": "#%%\n"
    }
   },
   "outputs": [
    {
     "data": {
      "text/plain": [
       "True"
      ]
     },
     "execution_count": 13,
     "metadata": {},
     "output_type": "execute_result"
    }
   ],
   "source": [
    "date(2015, 1, 6) in pl_holidays"
   ]
  },
  {
   "cell_type": "code",
   "execution_count": 14,
   "id": "e5b0dc4b",
   "metadata": {
    "pycharm": {
     "name": "#%%\n"
    }
   },
   "outputs": [
    {
     "data": {
      "text/plain": [
       "13"
      ]
     },
     "execution_count": 14,
     "metadata": {},
     "output_type": "execute_result"
    }
   ],
   "source": [
    "len(pl_holidays)"
   ]
  },
  {
   "cell_type": "code",
   "execution_count": 15,
   "id": "3eb18451",
   "metadata": {
    "pycharm": {
     "name": "#%%\n"
    }
   },
   "outputs": [
    {
     "name": "stdout",
     "output_type": "stream",
     "text": [
      "2015-01-01\n",
      "2015-01-06\n",
      "2015-04-05\n",
      "2015-04-06\n",
      "2015-05-01\n",
      "2015-05-03\n",
      "2015-05-24\n",
      "2015-06-04\n",
      "2015-08-15\n",
      "2015-11-01\n",
      "2015-11-11\n",
      "2015-12-25\n",
      "2015-12-26\n"
     ]
    }
   ],
   "source": [
    "for holiday in pl_holidays:\n",
    "    print(holiday)"
   ]
  },
  {
   "cell_type": "code",
   "execution_count": 16,
   "id": "f8e783a4",
   "metadata": {
    "pycharm": {
     "name": "#%%\n"
    }
   },
   "outputs": [],
   "source": [
    "years = range(2010, 2030)"
   ]
  },
  {
   "cell_type": "code",
   "execution_count": 17,
   "id": "f270cdcb",
   "metadata": {
    "pycharm": {
     "name": "#%%\n"
    }
   },
   "outputs": [
    {
     "data": {
      "text/plain": [
       "range(2010, 2030)"
      ]
     },
     "execution_count": 17,
     "metadata": {},
     "output_type": "execute_result"
    }
   ],
   "source": [
    "years"
   ]
  },
  {
   "cell_type": "code",
   "execution_count": 18,
   "id": "b21688f8",
   "metadata": {
    "pycharm": {
     "name": "#%%\n"
    }
   },
   "outputs": [],
   "source": [
    "def get_holidays(years):\n",
    "    \"\"\" Returns Polish hollidays dates (legally considered non-working days) \"\"\"\n",
    "    \n",
    "    output = pd.DataFrame()\n",
    "    \n",
    "    for year in years:\n",
    "        \n",
    "        # holidays\n",
    "        easter_sunday = easter.easter(year)\n",
    "        holidays = {'New Year': date(year,1,1),\n",
    "                    'Trzech Kroli': date(year,1,6),\n",
    "                    'Easter Sunday': easter_sunday,\n",
    "                    'Easter Monday': easter_sunday + timedelta(days=1),\n",
    "                    'Labor Day': date(year,5,1),\n",
    "                    'Constitution Day': date(year,5,3),\n",
    "                    'Pentecost Sunday': easter_sunday + relativedelta(days=+1, weekday=SU(+7)),\n",
    "                    'Corpus Christi': easter_sunday + relativedelta(weekday=TH(+9)),\n",
    "                    'Assumption of the Blessed Virgin Mary': date(year,8,15),\n",
    "                    'All Saints\\' Day': date(year,11,1),\n",
    "                    'Independence Day': date(year,11,11),\n",
    "                    'Christmas  Day': date(year, 12, 25),\n",
    "                    'Boxing Day': date(year, 12, 26),\n",
    "                    }\n",
    "        \n",
    "        # output\n",
    "        output = pd.concat([output, pd.DataFrame([holidays])], ignore_index=True)\n",
    "        output.index.names = ['id']\n",
    "\n",
    "    return output.T"
   ]
  },
  {
   "cell_type": "code",
   "execution_count": 19,
   "id": "a970b3d8",
   "metadata": {
    "pycharm": {
     "name": "#%%\n"
    }
   },
   "outputs": [],
   "source": [
    "df = get_holidays(years)"
   ]
  },
  {
   "cell_type": "code",
   "execution_count": 20,
   "id": "4cb3c000",
   "metadata": {
    "pycharm": {
     "name": "#%%\n"
    }
   },
   "outputs": [
    {
     "name": "stdout",
     "output_type": "stream",
     "text": [
      "<class 'pandas.core.frame.DataFrame'>\n",
      "Index: 13 entries, New Year to Boxing Day\n",
      "Data columns (total 20 columns):\n",
      " #   Column  Non-Null Count  Dtype \n",
      "---  ------  --------------  ----- \n",
      " 0   0       13 non-null     object\n",
      " 1   1       13 non-null     object\n",
      " 2   2       13 non-null     object\n",
      " 3   3       13 non-null     object\n",
      " 4   4       13 non-null     object\n",
      " 5   5       13 non-null     object\n",
      " 6   6       13 non-null     object\n",
      " 7   7       13 non-null     object\n",
      " 8   8       13 non-null     object\n",
      " 9   9       13 non-null     object\n",
      " 10  10      13 non-null     object\n",
      " 11  11      13 non-null     object\n",
      " 12  12      13 non-null     object\n",
      " 13  13      13 non-null     object\n",
      " 14  14      13 non-null     object\n",
      " 15  15      13 non-null     object\n",
      " 16  16      13 non-null     object\n",
      " 17  17      13 non-null     object\n",
      " 18  18      13 non-null     object\n",
      " 19  19      13 non-null     object\n",
      "dtypes: object(20)\n",
      "memory usage: 2.1+ KB\n"
     ]
    }
   ],
   "source": [
    "df.info()"
   ]
  },
  {
   "cell_type": "code",
   "execution_count": 21,
   "id": "7472be2e",
   "metadata": {
    "pycharm": {
     "name": "#%%\n"
    }
   },
   "outputs": [
    {
     "data": {
      "text/html": [
       "<div>\n",
       "<style scoped>\n",
       "    .dataframe tbody tr th:only-of-type {\n",
       "        vertical-align: middle;\n",
       "    }\n",
       "\n",
       "    .dataframe tbody tr th {\n",
       "        vertical-align: top;\n",
       "    }\n",
       "\n",
       "    .dataframe thead th {\n",
       "        text-align: right;\n",
       "    }\n",
       "</style>\n",
       "<table border=\"1\" class=\"dataframe\">\n",
       "  <thead>\n",
       "    <tr style=\"text-align: right;\">\n",
       "      <th>id</th>\n",
       "      <th>0</th>\n",
       "      <th>1</th>\n",
       "      <th>2</th>\n",
       "      <th>3</th>\n",
       "      <th>4</th>\n",
       "      <th>5</th>\n",
       "      <th>6</th>\n",
       "      <th>7</th>\n",
       "      <th>8</th>\n",
       "      <th>9</th>\n",
       "      <th>10</th>\n",
       "      <th>11</th>\n",
       "      <th>12</th>\n",
       "      <th>13</th>\n",
       "      <th>14</th>\n",
       "      <th>15</th>\n",
       "      <th>16</th>\n",
       "      <th>17</th>\n",
       "      <th>18</th>\n",
       "      <th>19</th>\n",
       "    </tr>\n",
       "  </thead>\n",
       "  <tbody>\n",
       "    <tr>\n",
       "      <th>New Year</th>\n",
       "      <td>2010-01-01</td>\n",
       "      <td>2011-01-01</td>\n",
       "      <td>2012-01-01</td>\n",
       "      <td>2013-01-01</td>\n",
       "      <td>2014-01-01</td>\n",
       "      <td>2015-01-01</td>\n",
       "      <td>2016-01-01</td>\n",
       "      <td>2017-01-01</td>\n",
       "      <td>2018-01-01</td>\n",
       "      <td>2019-01-01</td>\n",
       "      <td>2020-01-01</td>\n",
       "      <td>2021-01-01</td>\n",
       "      <td>2022-01-01</td>\n",
       "      <td>2023-01-01</td>\n",
       "      <td>2024-01-01</td>\n",
       "      <td>2025-01-01</td>\n",
       "      <td>2026-01-01</td>\n",
       "      <td>2027-01-01</td>\n",
       "      <td>2028-01-01</td>\n",
       "      <td>2029-01-01</td>\n",
       "    </tr>\n",
       "    <tr>\n",
       "      <th>Trzech Kroli</th>\n",
       "      <td>2010-01-06</td>\n",
       "      <td>2011-01-06</td>\n",
       "      <td>2012-01-06</td>\n",
       "      <td>2013-01-06</td>\n",
       "      <td>2014-01-06</td>\n",
       "      <td>2015-01-06</td>\n",
       "      <td>2016-01-06</td>\n",
       "      <td>2017-01-06</td>\n",
       "      <td>2018-01-06</td>\n",
       "      <td>2019-01-06</td>\n",
       "      <td>2020-01-06</td>\n",
       "      <td>2021-01-06</td>\n",
       "      <td>2022-01-06</td>\n",
       "      <td>2023-01-06</td>\n",
       "      <td>2024-01-06</td>\n",
       "      <td>2025-01-06</td>\n",
       "      <td>2026-01-06</td>\n",
       "      <td>2027-01-06</td>\n",
       "      <td>2028-01-06</td>\n",
       "      <td>2029-01-06</td>\n",
       "    </tr>\n",
       "    <tr>\n",
       "      <th>Easter Sunday</th>\n",
       "      <td>2010-04-04</td>\n",
       "      <td>2011-04-24</td>\n",
       "      <td>2012-04-08</td>\n",
       "      <td>2013-03-31</td>\n",
       "      <td>2014-04-20</td>\n",
       "      <td>2015-04-05</td>\n",
       "      <td>2016-03-27</td>\n",
       "      <td>2017-04-16</td>\n",
       "      <td>2018-04-01</td>\n",
       "      <td>2019-04-21</td>\n",
       "      <td>2020-04-12</td>\n",
       "      <td>2021-04-04</td>\n",
       "      <td>2022-04-17</td>\n",
       "      <td>2023-04-09</td>\n",
       "      <td>2024-03-31</td>\n",
       "      <td>2025-04-20</td>\n",
       "      <td>2026-04-05</td>\n",
       "      <td>2027-03-28</td>\n",
       "      <td>2028-04-16</td>\n",
       "      <td>2029-04-01</td>\n",
       "    </tr>\n",
       "    <tr>\n",
       "      <th>Easter Monday</th>\n",
       "      <td>2010-04-05</td>\n",
       "      <td>2011-04-25</td>\n",
       "      <td>2012-04-09</td>\n",
       "      <td>2013-04-01</td>\n",
       "      <td>2014-04-21</td>\n",
       "      <td>2015-04-06</td>\n",
       "      <td>2016-03-28</td>\n",
       "      <td>2017-04-17</td>\n",
       "      <td>2018-04-02</td>\n",
       "      <td>2019-04-22</td>\n",
       "      <td>2020-04-13</td>\n",
       "      <td>2021-04-05</td>\n",
       "      <td>2022-04-18</td>\n",
       "      <td>2023-04-10</td>\n",
       "      <td>2024-04-01</td>\n",
       "      <td>2025-04-21</td>\n",
       "      <td>2026-04-06</td>\n",
       "      <td>2027-03-29</td>\n",
       "      <td>2028-04-17</td>\n",
       "      <td>2029-04-02</td>\n",
       "    </tr>\n",
       "    <tr>\n",
       "      <th>Labor Day</th>\n",
       "      <td>2010-05-01</td>\n",
       "      <td>2011-05-01</td>\n",
       "      <td>2012-05-01</td>\n",
       "      <td>2013-05-01</td>\n",
       "      <td>2014-05-01</td>\n",
       "      <td>2015-05-01</td>\n",
       "      <td>2016-05-01</td>\n",
       "      <td>2017-05-01</td>\n",
       "      <td>2018-05-01</td>\n",
       "      <td>2019-05-01</td>\n",
       "      <td>2020-05-01</td>\n",
       "      <td>2021-05-01</td>\n",
       "      <td>2022-05-01</td>\n",
       "      <td>2023-05-01</td>\n",
       "      <td>2024-05-01</td>\n",
       "      <td>2025-05-01</td>\n",
       "      <td>2026-05-01</td>\n",
       "      <td>2027-05-01</td>\n",
       "      <td>2028-05-01</td>\n",
       "      <td>2029-05-01</td>\n",
       "    </tr>\n",
       "    <tr>\n",
       "      <th>Constitution Day</th>\n",
       "      <td>2010-05-03</td>\n",
       "      <td>2011-05-03</td>\n",
       "      <td>2012-05-03</td>\n",
       "      <td>2013-05-03</td>\n",
       "      <td>2014-05-03</td>\n",
       "      <td>2015-05-03</td>\n",
       "      <td>2016-05-03</td>\n",
       "      <td>2017-05-03</td>\n",
       "      <td>2018-05-03</td>\n",
       "      <td>2019-05-03</td>\n",
       "      <td>2020-05-03</td>\n",
       "      <td>2021-05-03</td>\n",
       "      <td>2022-05-03</td>\n",
       "      <td>2023-05-03</td>\n",
       "      <td>2024-05-03</td>\n",
       "      <td>2025-05-03</td>\n",
       "      <td>2026-05-03</td>\n",
       "      <td>2027-05-03</td>\n",
       "      <td>2028-05-03</td>\n",
       "      <td>2029-05-03</td>\n",
       "    </tr>\n",
       "    <tr>\n",
       "      <th>Pentecost Sunday</th>\n",
       "      <td>2010-05-23</td>\n",
       "      <td>2011-06-12</td>\n",
       "      <td>2012-05-27</td>\n",
       "      <td>2013-05-19</td>\n",
       "      <td>2014-06-08</td>\n",
       "      <td>2015-05-24</td>\n",
       "      <td>2016-05-15</td>\n",
       "      <td>2017-06-04</td>\n",
       "      <td>2018-05-20</td>\n",
       "      <td>2019-06-09</td>\n",
       "      <td>2020-05-31</td>\n",
       "      <td>2021-05-23</td>\n",
       "      <td>2022-06-05</td>\n",
       "      <td>2023-05-28</td>\n",
       "      <td>2024-05-19</td>\n",
       "      <td>2025-06-08</td>\n",
       "      <td>2026-05-24</td>\n",
       "      <td>2027-05-16</td>\n",
       "      <td>2028-06-04</td>\n",
       "      <td>2029-05-20</td>\n",
       "    </tr>\n",
       "    <tr>\n",
       "      <th>Corpus Christi</th>\n",
       "      <td>2010-06-03</td>\n",
       "      <td>2011-06-23</td>\n",
       "      <td>2012-06-07</td>\n",
       "      <td>2013-05-30</td>\n",
       "      <td>2014-06-19</td>\n",
       "      <td>2015-06-04</td>\n",
       "      <td>2016-05-26</td>\n",
       "      <td>2017-06-15</td>\n",
       "      <td>2018-05-31</td>\n",
       "      <td>2019-06-20</td>\n",
       "      <td>2020-06-11</td>\n",
       "      <td>2021-06-03</td>\n",
       "      <td>2022-06-16</td>\n",
       "      <td>2023-06-08</td>\n",
       "      <td>2024-05-30</td>\n",
       "      <td>2025-06-19</td>\n",
       "      <td>2026-06-04</td>\n",
       "      <td>2027-05-27</td>\n",
       "      <td>2028-06-15</td>\n",
       "      <td>2029-05-31</td>\n",
       "    </tr>\n",
       "    <tr>\n",
       "      <th>Assumption of the Blessed Virgin Mary</th>\n",
       "      <td>2010-08-15</td>\n",
       "      <td>2011-08-15</td>\n",
       "      <td>2012-08-15</td>\n",
       "      <td>2013-08-15</td>\n",
       "      <td>2014-08-15</td>\n",
       "      <td>2015-08-15</td>\n",
       "      <td>2016-08-15</td>\n",
       "      <td>2017-08-15</td>\n",
       "      <td>2018-08-15</td>\n",
       "      <td>2019-08-15</td>\n",
       "      <td>2020-08-15</td>\n",
       "      <td>2021-08-15</td>\n",
       "      <td>2022-08-15</td>\n",
       "      <td>2023-08-15</td>\n",
       "      <td>2024-08-15</td>\n",
       "      <td>2025-08-15</td>\n",
       "      <td>2026-08-15</td>\n",
       "      <td>2027-08-15</td>\n",
       "      <td>2028-08-15</td>\n",
       "      <td>2029-08-15</td>\n",
       "    </tr>\n",
       "    <tr>\n",
       "      <th>All Saints' Day</th>\n",
       "      <td>2010-11-01</td>\n",
       "      <td>2011-11-01</td>\n",
       "      <td>2012-11-01</td>\n",
       "      <td>2013-11-01</td>\n",
       "      <td>2014-11-01</td>\n",
       "      <td>2015-11-01</td>\n",
       "      <td>2016-11-01</td>\n",
       "      <td>2017-11-01</td>\n",
       "      <td>2018-11-01</td>\n",
       "      <td>2019-11-01</td>\n",
       "      <td>2020-11-01</td>\n",
       "      <td>2021-11-01</td>\n",
       "      <td>2022-11-01</td>\n",
       "      <td>2023-11-01</td>\n",
       "      <td>2024-11-01</td>\n",
       "      <td>2025-11-01</td>\n",
       "      <td>2026-11-01</td>\n",
       "      <td>2027-11-01</td>\n",
       "      <td>2028-11-01</td>\n",
       "      <td>2029-11-01</td>\n",
       "    </tr>\n",
       "    <tr>\n",
       "      <th>Independence Day</th>\n",
       "      <td>2010-11-11</td>\n",
       "      <td>2011-11-11</td>\n",
       "      <td>2012-11-11</td>\n",
       "      <td>2013-11-11</td>\n",
       "      <td>2014-11-11</td>\n",
       "      <td>2015-11-11</td>\n",
       "      <td>2016-11-11</td>\n",
       "      <td>2017-11-11</td>\n",
       "      <td>2018-11-11</td>\n",
       "      <td>2019-11-11</td>\n",
       "      <td>2020-11-11</td>\n",
       "      <td>2021-11-11</td>\n",
       "      <td>2022-11-11</td>\n",
       "      <td>2023-11-11</td>\n",
       "      <td>2024-11-11</td>\n",
       "      <td>2025-11-11</td>\n",
       "      <td>2026-11-11</td>\n",
       "      <td>2027-11-11</td>\n",
       "      <td>2028-11-11</td>\n",
       "      <td>2029-11-11</td>\n",
       "    </tr>\n",
       "    <tr>\n",
       "      <th>Christmas  Day</th>\n",
       "      <td>2010-12-25</td>\n",
       "      <td>2011-12-25</td>\n",
       "      <td>2012-12-25</td>\n",
       "      <td>2013-12-25</td>\n",
       "      <td>2014-12-25</td>\n",
       "      <td>2015-12-25</td>\n",
       "      <td>2016-12-25</td>\n",
       "      <td>2017-12-25</td>\n",
       "      <td>2018-12-25</td>\n",
       "      <td>2019-12-25</td>\n",
       "      <td>2020-12-25</td>\n",
       "      <td>2021-12-25</td>\n",
       "      <td>2022-12-25</td>\n",
       "      <td>2023-12-25</td>\n",
       "      <td>2024-12-25</td>\n",
       "      <td>2025-12-25</td>\n",
       "      <td>2026-12-25</td>\n",
       "      <td>2027-12-25</td>\n",
       "      <td>2028-12-25</td>\n",
       "      <td>2029-12-25</td>\n",
       "    </tr>\n",
       "    <tr>\n",
       "      <th>Boxing Day</th>\n",
       "      <td>2010-12-26</td>\n",
       "      <td>2011-12-26</td>\n",
       "      <td>2012-12-26</td>\n",
       "      <td>2013-12-26</td>\n",
       "      <td>2014-12-26</td>\n",
       "      <td>2015-12-26</td>\n",
       "      <td>2016-12-26</td>\n",
       "      <td>2017-12-26</td>\n",
       "      <td>2018-12-26</td>\n",
       "      <td>2019-12-26</td>\n",
       "      <td>2020-12-26</td>\n",
       "      <td>2021-12-26</td>\n",
       "      <td>2022-12-26</td>\n",
       "      <td>2023-12-26</td>\n",
       "      <td>2024-12-26</td>\n",
       "      <td>2025-12-26</td>\n",
       "      <td>2026-12-26</td>\n",
       "      <td>2027-12-26</td>\n",
       "      <td>2028-12-26</td>\n",
       "      <td>2029-12-26</td>\n",
       "    </tr>\n",
       "  </tbody>\n",
       "</table>\n",
       "</div>"
      ],
      "text/plain": [
       "id                                             0           1           2   \\\n",
       "New Year                               2010-01-01  2011-01-01  2012-01-01   \n",
       "Trzech Kroli                           2010-01-06  2011-01-06  2012-01-06   \n",
       "Easter Sunday                          2010-04-04  2011-04-24  2012-04-08   \n",
       "Easter Monday                          2010-04-05  2011-04-25  2012-04-09   \n",
       "Labor Day                              2010-05-01  2011-05-01  2012-05-01   \n",
       "Constitution Day                       2010-05-03  2011-05-03  2012-05-03   \n",
       "Pentecost Sunday                       2010-05-23  2011-06-12  2012-05-27   \n",
       "Corpus Christi                         2010-06-03  2011-06-23  2012-06-07   \n",
       "Assumption of the Blessed Virgin Mary  2010-08-15  2011-08-15  2012-08-15   \n",
       "All Saints' Day                        2010-11-01  2011-11-01  2012-11-01   \n",
       "Independence Day                       2010-11-11  2011-11-11  2012-11-11   \n",
       "Christmas  Day                         2010-12-25  2011-12-25  2012-12-25   \n",
       "Boxing Day                             2010-12-26  2011-12-26  2012-12-26   \n",
       "\n",
       "id                                             3           4           5   \\\n",
       "New Year                               2013-01-01  2014-01-01  2015-01-01   \n",
       "Trzech Kroli                           2013-01-06  2014-01-06  2015-01-06   \n",
       "Easter Sunday                          2013-03-31  2014-04-20  2015-04-05   \n",
       "Easter Monday                          2013-04-01  2014-04-21  2015-04-06   \n",
       "Labor Day                              2013-05-01  2014-05-01  2015-05-01   \n",
       "Constitution Day                       2013-05-03  2014-05-03  2015-05-03   \n",
       "Pentecost Sunday                       2013-05-19  2014-06-08  2015-05-24   \n",
       "Corpus Christi                         2013-05-30  2014-06-19  2015-06-04   \n",
       "Assumption of the Blessed Virgin Mary  2013-08-15  2014-08-15  2015-08-15   \n",
       "All Saints' Day                        2013-11-01  2014-11-01  2015-11-01   \n",
       "Independence Day                       2013-11-11  2014-11-11  2015-11-11   \n",
       "Christmas  Day                         2013-12-25  2014-12-25  2015-12-25   \n",
       "Boxing Day                             2013-12-26  2014-12-26  2015-12-26   \n",
       "\n",
       "id                                             6           7           8   \\\n",
       "New Year                               2016-01-01  2017-01-01  2018-01-01   \n",
       "Trzech Kroli                           2016-01-06  2017-01-06  2018-01-06   \n",
       "Easter Sunday                          2016-03-27  2017-04-16  2018-04-01   \n",
       "Easter Monday                          2016-03-28  2017-04-17  2018-04-02   \n",
       "Labor Day                              2016-05-01  2017-05-01  2018-05-01   \n",
       "Constitution Day                       2016-05-03  2017-05-03  2018-05-03   \n",
       "Pentecost Sunday                       2016-05-15  2017-06-04  2018-05-20   \n",
       "Corpus Christi                         2016-05-26  2017-06-15  2018-05-31   \n",
       "Assumption of the Blessed Virgin Mary  2016-08-15  2017-08-15  2018-08-15   \n",
       "All Saints' Day                        2016-11-01  2017-11-01  2018-11-01   \n",
       "Independence Day                       2016-11-11  2017-11-11  2018-11-11   \n",
       "Christmas  Day                         2016-12-25  2017-12-25  2018-12-25   \n",
       "Boxing Day                             2016-12-26  2017-12-26  2018-12-26   \n",
       "\n",
       "id                                             9           10          11  \\\n",
       "New Year                               2019-01-01  2020-01-01  2021-01-01   \n",
       "Trzech Kroli                           2019-01-06  2020-01-06  2021-01-06   \n",
       "Easter Sunday                          2019-04-21  2020-04-12  2021-04-04   \n",
       "Easter Monday                          2019-04-22  2020-04-13  2021-04-05   \n",
       "Labor Day                              2019-05-01  2020-05-01  2021-05-01   \n",
       "Constitution Day                       2019-05-03  2020-05-03  2021-05-03   \n",
       "Pentecost Sunday                       2019-06-09  2020-05-31  2021-05-23   \n",
       "Corpus Christi                         2019-06-20  2020-06-11  2021-06-03   \n",
       "Assumption of the Blessed Virgin Mary  2019-08-15  2020-08-15  2021-08-15   \n",
       "All Saints' Day                        2019-11-01  2020-11-01  2021-11-01   \n",
       "Independence Day                       2019-11-11  2020-11-11  2021-11-11   \n",
       "Christmas  Day                         2019-12-25  2020-12-25  2021-12-25   \n",
       "Boxing Day                             2019-12-26  2020-12-26  2021-12-26   \n",
       "\n",
       "id                                             12          13          14  \\\n",
       "New Year                               2022-01-01  2023-01-01  2024-01-01   \n",
       "Trzech Kroli                           2022-01-06  2023-01-06  2024-01-06   \n",
       "Easter Sunday                          2022-04-17  2023-04-09  2024-03-31   \n",
       "Easter Monday                          2022-04-18  2023-04-10  2024-04-01   \n",
       "Labor Day                              2022-05-01  2023-05-01  2024-05-01   \n",
       "Constitution Day                       2022-05-03  2023-05-03  2024-05-03   \n",
       "Pentecost Sunday                       2022-06-05  2023-05-28  2024-05-19   \n",
       "Corpus Christi                         2022-06-16  2023-06-08  2024-05-30   \n",
       "Assumption of the Blessed Virgin Mary  2022-08-15  2023-08-15  2024-08-15   \n",
       "All Saints' Day                        2022-11-01  2023-11-01  2024-11-01   \n",
       "Independence Day                       2022-11-11  2023-11-11  2024-11-11   \n",
       "Christmas  Day                         2022-12-25  2023-12-25  2024-12-25   \n",
       "Boxing Day                             2022-12-26  2023-12-26  2024-12-26   \n",
       "\n",
       "id                                             15          16          17  \\\n",
       "New Year                               2025-01-01  2026-01-01  2027-01-01   \n",
       "Trzech Kroli                           2025-01-06  2026-01-06  2027-01-06   \n",
       "Easter Sunday                          2025-04-20  2026-04-05  2027-03-28   \n",
       "Easter Monday                          2025-04-21  2026-04-06  2027-03-29   \n",
       "Labor Day                              2025-05-01  2026-05-01  2027-05-01   \n",
       "Constitution Day                       2025-05-03  2026-05-03  2027-05-03   \n",
       "Pentecost Sunday                       2025-06-08  2026-05-24  2027-05-16   \n",
       "Corpus Christi                         2025-06-19  2026-06-04  2027-05-27   \n",
       "Assumption of the Blessed Virgin Mary  2025-08-15  2026-08-15  2027-08-15   \n",
       "All Saints' Day                        2025-11-01  2026-11-01  2027-11-01   \n",
       "Independence Day                       2025-11-11  2026-11-11  2027-11-11   \n",
       "Christmas  Day                         2025-12-25  2026-12-25  2027-12-25   \n",
       "Boxing Day                             2025-12-26  2026-12-26  2027-12-26   \n",
       "\n",
       "id                                             18          19  \n",
       "New Year                               2028-01-01  2029-01-01  \n",
       "Trzech Kroli                           2028-01-06  2029-01-06  \n",
       "Easter Sunday                          2028-04-16  2029-04-01  \n",
       "Easter Monday                          2028-04-17  2029-04-02  \n",
       "Labor Day                              2028-05-01  2029-05-01  \n",
       "Constitution Day                       2028-05-03  2029-05-03  \n",
       "Pentecost Sunday                       2028-06-04  2029-05-20  \n",
       "Corpus Christi                         2028-06-15  2029-05-31  \n",
       "Assumption of the Blessed Virgin Mary  2028-08-15  2029-08-15  \n",
       "All Saints' Day                        2028-11-01  2029-11-01  \n",
       "Independence Day                       2028-11-11  2029-11-11  \n",
       "Christmas  Day                         2028-12-25  2029-12-25  \n",
       "Boxing Day                             2028-12-26  2029-12-26  "
      ]
     },
     "execution_count": 21,
     "metadata": {},
     "output_type": "execute_result"
    }
   ],
   "source": [
    "df"
   ]
  },
  {
   "cell_type": "code",
   "execution_count": 22,
   "id": "5af54ecd",
   "metadata": {
    "pycharm": {
     "name": "#%%\n"
    }
   },
   "outputs": [
    {
     "data": {
      "text/plain": [
       "id\n",
       "0     2010-01-01\n",
       "1     2011-01-01\n",
       "2     2012-01-01\n",
       "3     2013-01-01\n",
       "4     2014-01-01\n",
       "5     2015-01-01\n",
       "6     2016-01-01\n",
       "7     2017-01-01\n",
       "8     2018-01-01\n",
       "9     2019-01-01\n",
       "10    2020-01-01\n",
       "11    2021-01-01\n",
       "12    2022-01-01\n",
       "13    2023-01-01\n",
       "14    2024-01-01\n",
       "15    2025-01-01\n",
       "16    2026-01-01\n",
       "17    2027-01-01\n",
       "18    2028-01-01\n",
       "19    2029-01-01\n",
       "Name: New Year, dtype: object"
      ]
     },
     "execution_count": 22,
     "metadata": {},
     "output_type": "execute_result"
    }
   ],
   "source": [
    "df.loc['New Year']"
   ]
  },
  {
   "cell_type": "code",
   "execution_count": 23,
   "id": "38908136",
   "metadata": {
    "pycharm": {
     "name": "#%%\n"
    }
   },
   "outputs": [],
   "source": [
    "df_melted = df.stack().reset_index(name='date').rename(columns={'level_0':'holiday', 'id': 'year_id'})"
   ]
  },
  {
   "cell_type": "code",
   "execution_count": 24,
   "id": "6b152095",
   "metadata": {
    "pycharm": {
     "name": "#%%\n"
    }
   },
   "outputs": [],
   "source": [
    "holidays = df_melted.drop(columns='year_id')"
   ]
  },
  {
   "cell_type": "code",
   "execution_count": 25,
   "id": "77d1148d",
   "metadata": {
    "pycharm": {
     "name": "#%%\n"
    }
   },
   "outputs": [],
   "source": [
    "holidays['date'] = pd.to_datetime(holidays['date'])"
   ]
  },
  {
   "cell_type": "code",
   "execution_count": 26,
   "id": "f01f81c3",
   "metadata": {
    "pycharm": {
     "name": "#%%\n"
    }
   },
   "outputs": [
    {
     "data": {
      "text/html": [
       "<div>\n",
       "<style scoped>\n",
       "    .dataframe tbody tr th:only-of-type {\n",
       "        vertical-align: middle;\n",
       "    }\n",
       "\n",
       "    .dataframe tbody tr th {\n",
       "        vertical-align: top;\n",
       "    }\n",
       "\n",
       "    .dataframe thead th {\n",
       "        text-align: right;\n",
       "    }\n",
       "</style>\n",
       "<table border=\"1\" class=\"dataframe\">\n",
       "  <thead>\n",
       "    <tr style=\"text-align: right;\">\n",
       "      <th></th>\n",
       "      <th>holiday</th>\n",
       "      <th>date</th>\n",
       "    </tr>\n",
       "  </thead>\n",
       "  <tbody>\n",
       "    <tr>\n",
       "      <th>0</th>\n",
       "      <td>New Year</td>\n",
       "      <td>2010-01-01</td>\n",
       "    </tr>\n",
       "    <tr>\n",
       "      <th>1</th>\n",
       "      <td>New Year</td>\n",
       "      <td>2011-01-01</td>\n",
       "    </tr>\n",
       "    <tr>\n",
       "      <th>2</th>\n",
       "      <td>New Year</td>\n",
       "      <td>2012-01-01</td>\n",
       "    </tr>\n",
       "    <tr>\n",
       "      <th>3</th>\n",
       "      <td>New Year</td>\n",
       "      <td>2013-01-01</td>\n",
       "    </tr>\n",
       "    <tr>\n",
       "      <th>4</th>\n",
       "      <td>New Year</td>\n",
       "      <td>2014-01-01</td>\n",
       "    </tr>\n",
       "    <tr>\n",
       "      <th>...</th>\n",
       "      <td>...</td>\n",
       "      <td>...</td>\n",
       "    </tr>\n",
       "    <tr>\n",
       "      <th>255</th>\n",
       "      <td>Boxing Day</td>\n",
       "      <td>2025-12-26</td>\n",
       "    </tr>\n",
       "    <tr>\n",
       "      <th>256</th>\n",
       "      <td>Boxing Day</td>\n",
       "      <td>2026-12-26</td>\n",
       "    </tr>\n",
       "    <tr>\n",
       "      <th>257</th>\n",
       "      <td>Boxing Day</td>\n",
       "      <td>2027-12-26</td>\n",
       "    </tr>\n",
       "    <tr>\n",
       "      <th>258</th>\n",
       "      <td>Boxing Day</td>\n",
       "      <td>2028-12-26</td>\n",
       "    </tr>\n",
       "    <tr>\n",
       "      <th>259</th>\n",
       "      <td>Boxing Day</td>\n",
       "      <td>2029-12-26</td>\n",
       "    </tr>\n",
       "  </tbody>\n",
       "</table>\n",
       "<p>260 rows × 2 columns</p>\n",
       "</div>"
      ],
      "text/plain": [
       "        holiday       date\n",
       "0      New Year 2010-01-01\n",
       "1      New Year 2011-01-01\n",
       "2      New Year 2012-01-01\n",
       "3      New Year 2013-01-01\n",
       "4      New Year 2014-01-01\n",
       "..          ...        ...\n",
       "255  Boxing Day 2025-12-26\n",
       "256  Boxing Day 2026-12-26\n",
       "257  Boxing Day 2027-12-26\n",
       "258  Boxing Day 2028-12-26\n",
       "259  Boxing Day 2029-12-26\n",
       "\n",
       "[260 rows x 2 columns]"
      ]
     },
     "execution_count": 26,
     "metadata": {},
     "output_type": "execute_result"
    }
   ],
   "source": [
    "holidays"
   ]
  },
  {
   "cell_type": "code",
   "execution_count": 51,
   "id": "ea227db4",
   "metadata": {
    "pycharm": {
     "name": "#%%\n"
    }
   },
   "outputs": [],
   "source": [
    "year = 2022"
   ]
  },
  {
   "cell_type": "code",
   "execution_count": 52,
   "id": "ad5b8d34",
   "metadata": {
    "pycharm": {
     "name": "#%%\n"
    }
   },
   "outputs": [],
   "source": [
    "easter_sunday = easter.easter(year)"
   ]
  },
  {
   "cell_type": "code",
   "execution_count": 53,
   "id": "6d06b4b6",
   "metadata": {
    "pycharm": {
     "name": "#%%\n"
    }
   },
   "outputs": [
    {
     "name": "stdout",
     "output_type": "stream",
     "text": [
      "2022-01-06\n"
     ]
    }
   ],
   "source": [
    "print(date(year,1,6))"
   ]
  },
  {
   "cell_type": "code",
   "execution_count": 30,
   "id": "58ac2ab6",
   "metadata": {
    "pycharm": {
     "name": "#%%\n"
    }
   },
   "outputs": [],
   "source": [
    "date_to_check = date(year,1,6)"
   ]
  },
  {
   "cell_type": "code",
   "execution_count": 31,
   "id": "c74c4266",
   "metadata": {
    "pycharm": {
     "name": "#%%\n"
    }
   },
   "outputs": [
    {
     "name": "stdout",
     "output_type": "stream",
     "text": [
      "True\n"
     ]
    }
   ],
   "source": [
    "if date_to_check in set(df_melted['date']):\n",
    "    print(True)\n",
    "else:\n",
    "    print(False)"
   ]
  },
  {
   "cell_type": "code",
   "execution_count": 32,
   "id": "b0b6932d",
   "metadata": {
    "pycharm": {
     "name": "#%%\n"
    }
   },
   "outputs": [],
   "source": [
    "date_to_check = date(year,1,5)"
   ]
  },
  {
   "cell_type": "code",
   "execution_count": 33,
   "id": "8cedadd4",
   "metadata": {
    "pycharm": {
     "name": "#%%\n"
    }
   },
   "outputs": [
    {
     "name": "stdout",
     "output_type": "stream",
     "text": [
      "False\n"
     ]
    }
   ],
   "source": [
    "if date_to_check in set(df_melted['date']):\n",
    "    print(True)\n",
    "else:\n",
    "    print(False)"
   ]
  },
  {
   "cell_type": "code",
   "execution_count": 34,
   "id": "8856af64",
   "metadata": {
    "pycharm": {
     "name": "#%%\n"
    }
   },
   "outputs": [],
   "source": [
    "def get_holidays_pl(years):\n",
    "    \"\"\" Returns Polish hollidays dates (legally considered non-working days) \"\"\"\n",
    "    \n",
    "    df = pd.DataFrame()\n",
    "    \n",
    "    for year in years:\n",
    "        \n",
    "        # holidays\n",
    "        easter_sunday = easter.easter(year)\n",
    "        holidays = {'New Year': date(year,1,1),\n",
    "                    'Trzech Kroli': date(year,1,6),\n",
    "                    'Easter Sunday': easter_sunday,\n",
    "                    'Easter Monday': easter_sunday + timedelta(days=1),\n",
    "                    'Labor Day': date(year,5,1),\n",
    "                    'Constitution Day': date(year,5,3),\n",
    "                    'Pentecost Sunday': easter_sunday + relativedelta(days=+1, weekday=SU(+7)),\n",
    "                    'Corpus Christi': easter_sunday + relativedelta(weekday=TH(+9)),\n",
    "                    'Assumption of the Blessed Virgin Mary': date(year,8,15),\n",
    "                    'All Saints\\' Day': date(year,11,1),\n",
    "                    'Independence Day': date(year,11,11),\n",
    "                    'Christmas  Day': date(year, 12, 25),\n",
    "                    'Boxing Day': date(year, 12, 26),\n",
    "                    }\n",
    "        \n",
    "        # output\n",
    "        df = pd.concat([df, pd.DataFrame([holidays])], ignore_index=True)\n",
    "        df.index.names = ['id']\n",
    "        output = df.transpose(copy=True)\n",
    "        output = output.stack().reset_index(name='date').rename(columns={'level_0':'holiday', 'id': 'year_id'})\n",
    "        output = output.drop(columns='year_id')\n",
    "        output['date'] = pd.to_datetime(output['date'])\n",
    "        \n",
    "        print(output.head())\n",
    "\n",
    "    return output"
   ]
  },
  {
   "cell_type": "code",
   "execution_count": 35,
   "id": "dc6d725d",
   "metadata": {
    "pycharm": {
     "name": "#%%\n"
    }
   },
   "outputs": [
    {
     "name": "stdout",
     "output_type": "stream",
     "text": [
      "         holiday       date\n",
      "0       New Year 2010-01-01\n",
      "1   Trzech Kroli 2010-01-06\n",
      "2  Easter Sunday 2010-04-04\n",
      "3  Easter Monday 2010-04-05\n",
      "4      Labor Day 2010-05-01\n",
      "         holiday       date\n",
      "0       New Year 2010-01-01\n",
      "1       New Year 2011-01-01\n",
      "2   Trzech Kroli 2010-01-06\n",
      "3   Trzech Kroli 2011-01-06\n",
      "4  Easter Sunday 2010-04-04\n",
      "        holiday       date\n",
      "0      New Year 2010-01-01\n",
      "1      New Year 2011-01-01\n",
      "2      New Year 2012-01-01\n",
      "3  Trzech Kroli 2010-01-06\n",
      "4  Trzech Kroli 2011-01-06\n",
      "        holiday       date\n",
      "0      New Year 2010-01-01\n",
      "1      New Year 2011-01-01\n",
      "2      New Year 2012-01-01\n",
      "3      New Year 2013-01-01\n",
      "4  Trzech Kroli 2010-01-06\n",
      "    holiday       date\n",
      "0  New Year 2010-01-01\n",
      "1  New Year 2011-01-01\n",
      "2  New Year 2012-01-01\n",
      "3  New Year 2013-01-01\n",
      "4  New Year 2014-01-01\n",
      "    holiday       date\n",
      "0  New Year 2010-01-01\n",
      "1  New Year 2011-01-01\n",
      "2  New Year 2012-01-01\n",
      "3  New Year 2013-01-01\n",
      "4  New Year 2014-01-01\n",
      "    holiday       date\n",
      "0  New Year 2010-01-01\n",
      "1  New Year 2011-01-01\n",
      "2  New Year 2012-01-01\n",
      "3  New Year 2013-01-01\n",
      "4  New Year 2014-01-01\n",
      "    holiday       date\n",
      "0  New Year 2010-01-01\n",
      "1  New Year 2011-01-01\n",
      "2  New Year 2012-01-01\n",
      "3  New Year 2013-01-01\n",
      "4  New Year 2014-01-01\n",
      "    holiday       date\n",
      "0  New Year 2010-01-01\n",
      "1  New Year 2011-01-01\n",
      "2  New Year 2012-01-01\n",
      "3  New Year 2013-01-01\n",
      "4  New Year 2014-01-01\n",
      "    holiday       date\n",
      "0  New Year 2010-01-01\n",
      "1  New Year 2011-01-01\n",
      "2  New Year 2012-01-01\n",
      "3  New Year 2013-01-01\n",
      "4  New Year 2014-01-01\n",
      "    holiday       date\n",
      "0  New Year 2010-01-01\n",
      "1  New Year 2011-01-01\n",
      "2  New Year 2012-01-01\n",
      "3  New Year 2013-01-01\n",
      "4  New Year 2014-01-01\n",
      "    holiday       date\n",
      "0  New Year 2010-01-01\n",
      "1  New Year 2011-01-01\n",
      "2  New Year 2012-01-01\n",
      "3  New Year 2013-01-01\n",
      "4  New Year 2014-01-01\n",
      "    holiday       date\n",
      "0  New Year 2010-01-01\n",
      "1  New Year 2011-01-01\n",
      "2  New Year 2012-01-01\n",
      "3  New Year 2013-01-01\n",
      "4  New Year 2014-01-01\n",
      "    holiday       date\n",
      "0  New Year 2010-01-01\n",
      "1  New Year 2011-01-01\n",
      "2  New Year 2012-01-01\n",
      "3  New Year 2013-01-01\n",
      "4  New Year 2014-01-01\n",
      "    holiday       date\n",
      "0  New Year 2010-01-01\n",
      "1  New Year 2011-01-01\n",
      "2  New Year 2012-01-01\n",
      "3  New Year 2013-01-01\n",
      "4  New Year 2014-01-01\n",
      "    holiday       date\n",
      "0  New Year 2010-01-01\n",
      "1  New Year 2011-01-01\n",
      "2  New Year 2012-01-01\n",
      "3  New Year 2013-01-01\n",
      "4  New Year 2014-01-01\n",
      "    holiday       date\n",
      "0  New Year 2010-01-01\n",
      "1  New Year 2011-01-01\n",
      "2  New Year 2012-01-01\n",
      "3  New Year 2013-01-01\n",
      "4  New Year 2014-01-01\n",
      "    holiday       date\n",
      "0  New Year 2010-01-01\n",
      "1  New Year 2011-01-01\n",
      "2  New Year 2012-01-01\n",
      "3  New Year 2013-01-01\n",
      "4  New Year 2014-01-01\n",
      "    holiday       date\n",
      "0  New Year 2010-01-01\n",
      "1  New Year 2011-01-01\n",
      "2  New Year 2012-01-01\n",
      "3  New Year 2013-01-01\n",
      "4  New Year 2014-01-01\n",
      "    holiday       date\n",
      "0  New Year 2010-01-01\n",
      "1  New Year 2011-01-01\n",
      "2  New Year 2012-01-01\n",
      "3  New Year 2013-01-01\n",
      "4  New Year 2014-01-01\n"
     ]
    }
   ],
   "source": [
    "holidays = get_holidays_pl(years)"
   ]
  },
  {
   "cell_type": "code",
   "execution_count": 36,
   "id": "18391413",
   "metadata": {
    "pycharm": {
     "name": "#%%\n"
    }
   },
   "outputs": [
    {
     "data": {
      "text/html": [
       "<div>\n",
       "<style scoped>\n",
       "    .dataframe tbody tr th:only-of-type {\n",
       "        vertical-align: middle;\n",
       "    }\n",
       "\n",
       "    .dataframe tbody tr th {\n",
       "        vertical-align: top;\n",
       "    }\n",
       "\n",
       "    .dataframe thead th {\n",
       "        text-align: right;\n",
       "    }\n",
       "</style>\n",
       "<table border=\"1\" class=\"dataframe\">\n",
       "  <thead>\n",
       "    <tr style=\"text-align: right;\">\n",
       "      <th></th>\n",
       "      <th>holiday</th>\n",
       "      <th>date</th>\n",
       "    </tr>\n",
       "  </thead>\n",
       "  <tbody>\n",
       "    <tr>\n",
       "      <th>0</th>\n",
       "      <td>New Year</td>\n",
       "      <td>2010-01-01</td>\n",
       "    </tr>\n",
       "    <tr>\n",
       "      <th>1</th>\n",
       "      <td>New Year</td>\n",
       "      <td>2011-01-01</td>\n",
       "    </tr>\n",
       "    <tr>\n",
       "      <th>2</th>\n",
       "      <td>New Year</td>\n",
       "      <td>2012-01-01</td>\n",
       "    </tr>\n",
       "    <tr>\n",
       "      <th>3</th>\n",
       "      <td>New Year</td>\n",
       "      <td>2013-01-01</td>\n",
       "    </tr>\n",
       "    <tr>\n",
       "      <th>4</th>\n",
       "      <td>New Year</td>\n",
       "      <td>2014-01-01</td>\n",
       "    </tr>\n",
       "    <tr>\n",
       "      <th>...</th>\n",
       "      <td>...</td>\n",
       "      <td>...</td>\n",
       "    </tr>\n",
       "    <tr>\n",
       "      <th>255</th>\n",
       "      <td>Boxing Day</td>\n",
       "      <td>2025-12-26</td>\n",
       "    </tr>\n",
       "    <tr>\n",
       "      <th>256</th>\n",
       "      <td>Boxing Day</td>\n",
       "      <td>2026-12-26</td>\n",
       "    </tr>\n",
       "    <tr>\n",
       "      <th>257</th>\n",
       "      <td>Boxing Day</td>\n",
       "      <td>2027-12-26</td>\n",
       "    </tr>\n",
       "    <tr>\n",
       "      <th>258</th>\n",
       "      <td>Boxing Day</td>\n",
       "      <td>2028-12-26</td>\n",
       "    </tr>\n",
       "    <tr>\n",
       "      <th>259</th>\n",
       "      <td>Boxing Day</td>\n",
       "      <td>2029-12-26</td>\n",
       "    </tr>\n",
       "  </tbody>\n",
       "</table>\n",
       "<p>260 rows × 2 columns</p>\n",
       "</div>"
      ],
      "text/plain": [
       "        holiday       date\n",
       "0      New Year 2010-01-01\n",
       "1      New Year 2011-01-01\n",
       "2      New Year 2012-01-01\n",
       "3      New Year 2013-01-01\n",
       "4      New Year 2014-01-01\n",
       "..          ...        ...\n",
       "255  Boxing Day 2025-12-26\n",
       "256  Boxing Day 2026-12-26\n",
       "257  Boxing Day 2027-12-26\n",
       "258  Boxing Day 2028-12-26\n",
       "259  Boxing Day 2029-12-26\n",
       "\n",
       "[260 rows x 2 columns]"
      ]
     },
     "execution_count": 36,
     "metadata": {},
     "output_type": "execute_result"
    }
   ],
   "source": [
    "holidays"
   ]
  },
  {
   "cell_type": "code",
   "execution_count": 37,
   "id": "be01bd4b",
   "metadata": {
    "pycharm": {
     "name": "#%%\n"
    }
   },
   "outputs": [
    {
     "name": "stdout",
     "output_type": "stream",
     "text": [
      "[datetime.datetime(2022, 1, 2, 0, 0), datetime.datetime(2022, 1, 9, 0, 0), datetime.datetime(2022, 1, 16, 0, 0), datetime.datetime(2022, 1, 23, 0, 0), datetime.datetime(2022, 1, 30, 0, 0), datetime.datetime(2022, 2, 6, 0, 0), datetime.datetime(2022, 2, 13, 0, 0), datetime.datetime(2022, 2, 20, 0, 0), datetime.datetime(2022, 2, 27, 0, 0), datetime.datetime(2022, 3, 6, 0, 0), datetime.datetime(2022, 3, 13, 0, 0), datetime.datetime(2022, 3, 20, 0, 0), datetime.datetime(2022, 3, 27, 0, 0), datetime.datetime(2022, 4, 3, 0, 0), datetime.datetime(2022, 4, 10, 0, 0), datetime.datetime(2022, 4, 17, 0, 0), datetime.datetime(2022, 4, 24, 0, 0), datetime.datetime(2022, 5, 1, 0, 0), datetime.datetime(2022, 5, 8, 0, 0), datetime.datetime(2022, 5, 15, 0, 0), datetime.datetime(2022, 5, 22, 0, 0), datetime.datetime(2022, 5, 29, 0, 0), datetime.datetime(2022, 6, 5, 0, 0), datetime.datetime(2022, 6, 12, 0, 0), datetime.datetime(2022, 6, 19, 0, 0), datetime.datetime(2022, 6, 26, 0, 0), datetime.datetime(2022, 7, 3, 0, 0), datetime.datetime(2022, 7, 10, 0, 0), datetime.datetime(2022, 7, 17, 0, 0), datetime.datetime(2022, 7, 24, 0, 0), datetime.datetime(2022, 7, 31, 0, 0), datetime.datetime(2022, 8, 7, 0, 0), datetime.datetime(2022, 8, 14, 0, 0), datetime.datetime(2022, 8, 21, 0, 0), datetime.datetime(2022, 8, 28, 0, 0), datetime.datetime(2022, 9, 4, 0, 0), datetime.datetime(2022, 9, 11, 0, 0), datetime.datetime(2022, 9, 18, 0, 0), datetime.datetime(2022, 9, 25, 0, 0), datetime.datetime(2022, 10, 2, 0, 0), datetime.datetime(2022, 10, 9, 0, 0), datetime.datetime(2022, 10, 16, 0, 0), datetime.datetime(2022, 10, 23, 0, 0), datetime.datetime(2022, 10, 30, 0, 0), datetime.datetime(2022, 11, 6, 0, 0), datetime.datetime(2022, 11, 13, 0, 0), datetime.datetime(2022, 11, 20, 0, 0), datetime.datetime(2022, 11, 27, 0, 0), datetime.datetime(2022, 12, 4, 0, 0), datetime.datetime(2022, 12, 11, 0, 0), datetime.datetime(2022, 12, 18, 0, 0), datetime.datetime(2022, 12, 25, 0, 0)]\n"
     ]
    }
   ],
   "source": [
    "# import dateutil.relativedelta as relativedelta\n",
    "# import dateutil.rrule as rrule\n",
    "# import datetime\n",
    "year=2022\n",
    "before=datetime(year,1,1)\n",
    "after=datetime(year,12,31)\n",
    "rr = rrule.rrule(rrule.WEEKLY, byweekday=SU, dtstart=before)\n",
    "print(rr.between(before, after, inc=True))"
   ]
  },
  {
   "cell_type": "code",
   "execution_count": 38,
   "id": "a7e805f4",
   "metadata": {
    "pycharm": {
     "name": "#%%\n"
    }
   },
   "outputs": [
    {
     "data": {
      "text/plain": [
       "range(2010, 2030)"
      ]
     },
     "execution_count": 38,
     "metadata": {},
     "output_type": "execute_result"
    }
   ],
   "source": [
    "years"
   ]
  },
  {
   "cell_type": "code",
   "execution_count": 39,
   "id": "6edc469b",
   "metadata": {
    "pycharm": {
     "name": "#%%\n"
    }
   },
   "outputs": [
    {
     "data": {
      "text/plain": [
       "2010"
      ]
     },
     "execution_count": 39,
     "metadata": {},
     "output_type": "execute_result"
    }
   ],
   "source": [
    "min(years)"
   ]
  },
  {
   "cell_type": "code",
   "execution_count": 40,
   "id": "d880cccb",
   "metadata": {
    "pycharm": {
     "name": "#%%\n"
    }
   },
   "outputs": [
    {
     "data": {
      "text/plain": [
       "2029"
      ]
     },
     "execution_count": 40,
     "metadata": {},
     "output_type": "execute_result"
    }
   ],
   "source": [
    "max(years)"
   ]
  },
  {
   "cell_type": "code",
   "execution_count": 41,
   "id": "4cf88fed",
   "metadata": {
    "pycharm": {
     "name": "#%%\n"
    }
   },
   "outputs": [],
   "source": [
    "def get_sundays(years):\n",
    "    \"\"\" Returns Sundays \"\"\"\n",
    "\n",
    "    before=datetime(min(years), 1, 1)\n",
    "    after=datetime(max(years), 12, 31)\n",
    "    rr = rrule.rrule(rrule.WEEKLY, byweekday=SU, dtstart=before)\n",
    "\n",
    "    output = pd.DataFrame(rr.between(before, after, inc=True), columns=['date'])\n",
    "    output['holiday'] = 'Sunday'\n",
    "    \n",
    "    print(output.head())\n",
    "\n",
    "    return output"
   ]
  },
  {
   "cell_type": "code",
   "execution_count": 42,
   "id": "04d02f6c",
   "metadata": {
    "pycharm": {
     "name": "#%%\n"
    }
   },
   "outputs": [
    {
     "name": "stdout",
     "output_type": "stream",
     "text": [
      "        date holiday\n",
      "0 2010-01-03  Sunday\n",
      "1 2010-01-10  Sunday\n",
      "2 2010-01-17  Sunday\n",
      "3 2010-01-24  Sunday\n",
      "4 2010-01-31  Sunday\n"
     ]
    }
   ],
   "source": [
    "sundays = get_sundays(years)"
   ]
  },
  {
   "cell_type": "code",
   "execution_count": 43,
   "id": "fc3980b8",
   "metadata": {
    "pycharm": {
     "name": "#%%\n"
    }
   },
   "outputs": [
    {
     "data": {
      "text/html": [
       "<div>\n",
       "<style scoped>\n",
       "    .dataframe tbody tr th:only-of-type {\n",
       "        vertical-align: middle;\n",
       "    }\n",
       "\n",
       "    .dataframe tbody tr th {\n",
       "        vertical-align: top;\n",
       "    }\n",
       "\n",
       "    .dataframe thead th {\n",
       "        text-align: right;\n",
       "    }\n",
       "</style>\n",
       "<table border=\"1\" class=\"dataframe\">\n",
       "  <thead>\n",
       "    <tr style=\"text-align: right;\">\n",
       "      <th></th>\n",
       "      <th>date</th>\n",
       "      <th>holiday</th>\n",
       "    </tr>\n",
       "  </thead>\n",
       "  <tbody>\n",
       "    <tr>\n",
       "      <th>0</th>\n",
       "      <td>2010-01-03</td>\n",
       "      <td>Sunday</td>\n",
       "    </tr>\n",
       "    <tr>\n",
       "      <th>1</th>\n",
       "      <td>2010-01-10</td>\n",
       "      <td>Sunday</td>\n",
       "    </tr>\n",
       "    <tr>\n",
       "      <th>2</th>\n",
       "      <td>2010-01-17</td>\n",
       "      <td>Sunday</td>\n",
       "    </tr>\n",
       "    <tr>\n",
       "      <th>3</th>\n",
       "      <td>2010-01-24</td>\n",
       "      <td>Sunday</td>\n",
       "    </tr>\n",
       "    <tr>\n",
       "      <th>4</th>\n",
       "      <td>2010-01-31</td>\n",
       "      <td>Sunday</td>\n",
       "    </tr>\n",
       "    <tr>\n",
       "      <th>...</th>\n",
       "      <td>...</td>\n",
       "      <td>...</td>\n",
       "    </tr>\n",
       "    <tr>\n",
       "      <th>1039</th>\n",
       "      <td>2029-12-02</td>\n",
       "      <td>Sunday</td>\n",
       "    </tr>\n",
       "    <tr>\n",
       "      <th>1040</th>\n",
       "      <td>2029-12-09</td>\n",
       "      <td>Sunday</td>\n",
       "    </tr>\n",
       "    <tr>\n",
       "      <th>1041</th>\n",
       "      <td>2029-12-16</td>\n",
       "      <td>Sunday</td>\n",
       "    </tr>\n",
       "    <tr>\n",
       "      <th>1042</th>\n",
       "      <td>2029-12-23</td>\n",
       "      <td>Sunday</td>\n",
       "    </tr>\n",
       "    <tr>\n",
       "      <th>1043</th>\n",
       "      <td>2029-12-30</td>\n",
       "      <td>Sunday</td>\n",
       "    </tr>\n",
       "  </tbody>\n",
       "</table>\n",
       "<p>1044 rows × 2 columns</p>\n",
       "</div>"
      ],
      "text/plain": [
       "           date holiday\n",
       "0    2010-01-03  Sunday\n",
       "1    2010-01-10  Sunday\n",
       "2    2010-01-17  Sunday\n",
       "3    2010-01-24  Sunday\n",
       "4    2010-01-31  Sunday\n",
       "...         ...     ...\n",
       "1039 2029-12-02  Sunday\n",
       "1040 2029-12-09  Sunday\n",
       "1041 2029-12-16  Sunday\n",
       "1042 2029-12-23  Sunday\n",
       "1043 2029-12-30  Sunday\n",
       "\n",
       "[1044 rows x 2 columns]"
      ]
     },
     "execution_count": 43,
     "metadata": {},
     "output_type": "execute_result"
    }
   ],
   "source": [
    "sundays"
   ]
  },
  {
   "cell_type": "code",
   "execution_count": 44,
   "id": "94d2e4ef",
   "metadata": {
    "pycharm": {
     "name": "#%%\n"
    }
   },
   "outputs": [
    {
     "name": "stdout",
     "output_type": "stream",
     "text": [
      "<class 'pandas.core.frame.DataFrame'>\n",
      "RangeIndex: 260 entries, 0 to 259\n",
      "Data columns (total 2 columns):\n",
      " #   Column   Non-Null Count  Dtype         \n",
      "---  ------   --------------  -----         \n",
      " 0   holiday  260 non-null    object        \n",
      " 1   date     260 non-null    datetime64[ns]\n",
      "dtypes: datetime64[ns](1), object(1)\n",
      "memory usage: 4.2+ KB\n"
     ]
    }
   ],
   "source": [
    "holidays.info()"
   ]
  },
  {
   "cell_type": "code",
   "execution_count": 45,
   "id": "7482447a",
   "metadata": {
    "pycharm": {
     "name": "#%%\n"
    }
   },
   "outputs": [
    {
     "name": "stdout",
     "output_type": "stream",
     "text": [
      "<class 'pandas.core.frame.DataFrame'>\n",
      "RangeIndex: 1044 entries, 0 to 1043\n",
      "Data columns (total 2 columns):\n",
      " #   Column   Non-Null Count  Dtype         \n",
      "---  ------   --------------  -----         \n",
      " 0   date     1044 non-null   datetime64[ns]\n",
      " 1   holiday  1044 non-null   object        \n",
      "dtypes: datetime64[ns](1), object(1)\n",
      "memory usage: 16.4+ KB\n"
     ]
    }
   ],
   "source": [
    "sundays.info()"
   ]
  },
  {
   "cell_type": "code",
   "execution_count": 46,
   "id": "1044c420",
   "metadata": {
    "pycharm": {
     "name": "#%%\n"
    }
   },
   "outputs": [],
   "source": [
    "calendar = pd.concat([holidays, sundays], ignore_index=True)"
   ]
  },
  {
   "cell_type": "code",
   "execution_count": 47,
   "id": "8440f61d",
   "metadata": {
    "pycharm": {
     "name": "#%%\n"
    }
   },
   "outputs": [
    {
     "data": {
      "text/html": [
       "<div>\n",
       "<style scoped>\n",
       "    .dataframe tbody tr th:only-of-type {\n",
       "        vertical-align: middle;\n",
       "    }\n",
       "\n",
       "    .dataframe tbody tr th {\n",
       "        vertical-align: top;\n",
       "    }\n",
       "\n",
       "    .dataframe thead th {\n",
       "        text-align: right;\n",
       "    }\n",
       "</style>\n",
       "<table border=\"1\" class=\"dataframe\">\n",
       "  <thead>\n",
       "    <tr style=\"text-align: right;\">\n",
       "      <th></th>\n",
       "      <th>holiday</th>\n",
       "      <th>date</th>\n",
       "    </tr>\n",
       "  </thead>\n",
       "  <tbody>\n",
       "    <tr>\n",
       "      <th>0</th>\n",
       "      <td>New Year</td>\n",
       "      <td>2010-01-01</td>\n",
       "    </tr>\n",
       "    <tr>\n",
       "      <th>1</th>\n",
       "      <td>New Year</td>\n",
       "      <td>2011-01-01</td>\n",
       "    </tr>\n",
       "    <tr>\n",
       "      <th>2</th>\n",
       "      <td>New Year</td>\n",
       "      <td>2012-01-01</td>\n",
       "    </tr>\n",
       "    <tr>\n",
       "      <th>3</th>\n",
       "      <td>New Year</td>\n",
       "      <td>2013-01-01</td>\n",
       "    </tr>\n",
       "    <tr>\n",
       "      <th>4</th>\n",
       "      <td>New Year</td>\n",
       "      <td>2014-01-01</td>\n",
       "    </tr>\n",
       "    <tr>\n",
       "      <th>...</th>\n",
       "      <td>...</td>\n",
       "      <td>...</td>\n",
       "    </tr>\n",
       "    <tr>\n",
       "      <th>1299</th>\n",
       "      <td>Sunday</td>\n",
       "      <td>2029-12-02</td>\n",
       "    </tr>\n",
       "    <tr>\n",
       "      <th>1300</th>\n",
       "      <td>Sunday</td>\n",
       "      <td>2029-12-09</td>\n",
       "    </tr>\n",
       "    <tr>\n",
       "      <th>1301</th>\n",
       "      <td>Sunday</td>\n",
       "      <td>2029-12-16</td>\n",
       "    </tr>\n",
       "    <tr>\n",
       "      <th>1302</th>\n",
       "      <td>Sunday</td>\n",
       "      <td>2029-12-23</td>\n",
       "    </tr>\n",
       "    <tr>\n",
       "      <th>1303</th>\n",
       "      <td>Sunday</td>\n",
       "      <td>2029-12-30</td>\n",
       "    </tr>\n",
       "  </tbody>\n",
       "</table>\n",
       "<p>1304 rows × 2 columns</p>\n",
       "</div>"
      ],
      "text/plain": [
       "       holiday       date\n",
       "0     New Year 2010-01-01\n",
       "1     New Year 2011-01-01\n",
       "2     New Year 2012-01-01\n",
       "3     New Year 2013-01-01\n",
       "4     New Year 2014-01-01\n",
       "...        ...        ...\n",
       "1299    Sunday 2029-12-02\n",
       "1300    Sunday 2029-12-09\n",
       "1301    Sunday 2029-12-16\n",
       "1302    Sunday 2029-12-23\n",
       "1303    Sunday 2029-12-30\n",
       "\n",
       "[1304 rows x 2 columns]"
      ]
     },
     "execution_count": 47,
     "metadata": {},
     "output_type": "execute_result"
    }
   ],
   "source": [
    "calendar"
   ]
  },
  {
   "cell_type": "code",
   "execution_count": 48,
   "id": "9a51cdec",
   "metadata": {
    "pycharm": {
     "name": "#%%\n"
    }
   },
   "outputs": [
    {
     "name": "stdout",
     "output_type": "stream",
     "text": [
      "total 44K\r\n",
      "drwxrwxrwx 1 root   root   512 Aug 31 13:26 \u001B[0m\u001B[34;42m.\u001B[0m/\r\n",
      "drwsrwsr-x 1 jovyan users 4.0K Aug 24 06:36 \u001B[01;34m..\u001B[0m/\r\n",
      "-rwxrwxrwx 1 root   root   12K Aug 24 06:46 \u001B[01;32mhello-world-notebook.ipynb\u001B[0m*\r\n",
      "-rw-r--r-- 1 jovyan users  62K Aug 31 13:25 holidays_and_sundays_pl.ipynb\r\n",
      "drwxrwxrwx 1 root   root   512 Aug 31 12:13 \u001B[34;42m.ipynb_checkpoints\u001B[0m/\r\n",
      "-rwxrwxrwx 1 root   root   19K Jun  5 16:49 \u001B[01;32mload-postgres-notebook.ipynb\u001B[0m*\r\n",
      "-rwxrwxrwx 1 root   root  3.8K Jun  5 16:58 \u001B[01;32mread-postgres-notebook.ipynb\u001B[0m*\r\n",
      "-rw-r--r-- 1 jovyan users   21 Aug 31 13:27 test.py\r\n"
     ]
    }
   ],
   "source": [
    "ls -lah"
   ]
  },
  {
   "cell_type": "code",
   "execution_count": 49,
   "id": "cc1886d6",
   "metadata": {
    "pycharm": {
     "name": "#%%\n"
    }
   },
   "outputs": [
    {
     "name": "stdout",
     "output_type": "stream",
     "text": [
      "jovyan\r\n"
     ]
    }
   ],
   "source": [
    "!whoami"
   ]
  },
  {
   "cell_type": "code",
   "execution_count": 50,
   "id": "eb3f563e",
   "metadata": {
    "pycharm": {
     "name": "#%%\n"
    }
   },
   "outputs": [
    {
     "name": "stdout",
     "output_type": "stream",
     "text": [
      "Overwriting test.py\n"
     ]
    }
   ],
   "source": [
    "%%writefile test.py\n",
    "print('hello_world')"
   ]
  },
  {
   "cell_type": "code",
   "execution_count": null,
   "id": "69ebdb5a",
   "metadata": {
    "pycharm": {
     "name": "#%%\n"
    }
   },
   "outputs": [],
   "source": []
  },
  {
   "cell_type": "code",
   "execution_count": null,
   "id": "fa4733bf",
   "metadata": {
    "pycharm": {
     "name": "#%%\n"
    }
   },
   "outputs": [],
   "source": []
  }
 ],
 "metadata": {
  "kernelspec": {
   "display_name": "Python 3 (ipykernel)",
   "language": "python",
   "name": "python3"
  },
  "language_info": {
   "codemirror_mode": {
    "name": "ipython",
    "version": 3
   },
   "file_extension": ".py",
   "mimetype": "text/x-python",
   "name": "python",
   "nbconvert_exporter": "python",
   "pygments_lexer": "ipython3",
   "version": "3.9.7"
  }
 },
 "nbformat": 4,
 "nbformat_minor": 5
}