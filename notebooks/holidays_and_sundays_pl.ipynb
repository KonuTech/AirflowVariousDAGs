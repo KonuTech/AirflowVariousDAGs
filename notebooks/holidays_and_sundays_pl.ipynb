{
 "cells": [
  {
   "cell_type": "code",
   "execution_count": 1,
   "id": "8e5f6ead",
   "metadata": {
    "pycharm": {
     "name": "#%%\n"
    }
   },
   "outputs": [
    {
     "name": "stdout",
     "output_type": "stream",
     "text": [
      "Package                       Version\r\n",
      "----------------------------- ----------\r\n",
      "alembic                       1.7.4\r\n",
      "altair                        4.1.0\r\n",
      "anyio                         3.3.3\r\n",
      "appdirs                       1.4.4\r\n",
      "argon2-cffi                   21.1.0\r\n",
      "async-generator               1.10\r\n",
      "attrs                         21.2.0\r\n",
      "Babel                         2.9.1\r\n",
      "backcall                      0.2.0\r\n",
      "backports.functools-lru-cache 1.6.4\r\n",
      "beautifulsoup4                4.10.0\r\n",
      "bleach                        4.1.0\r\n",
      "blinker                       1.4\r\n",
      "bokeh                         2.4.1\r\n",
      "Bottleneck                    1.3.2\r\n",
      "brotlipy                      0.7.0\r\n",
      "cached-property               1.5.2\r\n",
      "certifi                       2021.10.8\r\n",
      "certipy                       0.1.3\r\n",
      "cffi                          1.14.6\r\n",
      "chardet                       4.0.0\r\n",
      "charset-normalizer            2.0.0\r\n",
      "click                         8.0.3\r\n",
      "cloudpickle                   2.0.0\r\n",
      "colorama                      0.4.4\r\n",
      "conda                         4.10.3\r\n",
      "conda-package-handling        1.7.3\r\n",
      "convertdate                   2.4.0\r\n",
      "cryptography                  35.0.0\r\n",
      "cycler                        0.10.0\r\n",
      "Cython                        0.29.24\r\n",
      "cytoolz                       0.11.0\r\n",
      "dask                          2021.9.1\r\n",
      "debugpy                       1.4.1\r\n",
      "decorator                     5.1.0\r\n",
      "defusedxml                    0.7.1\r\n",
      "dill                          0.3.4\r\n",
      "distributed                   2021.9.1\r\n",
      "entrypoints                   0.3\r\n",
      "fsspec                        2021.10.1\r\n",
      "gmpy2                         2.1.0b5\r\n",
      "greenlet                      1.1.2\r\n",
      "h5py                          3.4.0\r\n",
      "HeapDict                      1.0.1\r\n",
      "hijri-converter               2.2.4\r\n",
      "holidays                      0.15\r\n",
      "idna                          3.1\r\n",
      "imagecodecs                   2021.8.26\r\n",
      "imageio                       2.9.0\r\n",
      "importlib-metadata            4.8.1\r\n",
      "importlib-resources           5.2.3\r\n",
      "ipykernel                     6.4.1\r\n",
      "ipympl                        0.8.0\r\n",
      "ipython                       7.28.0\r\n",
      "ipython-genutils              0.2.0\r\n",
      "ipywidgets                    7.6.5\r\n",
      "jedi                          0.18.0\r\n",
      "Jinja2                        3.0.2\r\n",
      "joblib                        1.1.0\r\n",
      "json5                         0.9.5\r\n",
      "jsonschema                    4.1.0\r\n",
      "jupyter-client                7.0.6\r\n",
      "jupyter-core                  4.8.1\r\n",
      "jupyter-server                1.11.1\r\n",
      "jupyter-telemetry             0.1.0\r\n",
      "jupyterhub                    1.4.2\r\n",
      "jupyterlab                    3.2.0\r\n",
      "jupyterlab-pygments           0.1.2\r\n",
      "jupyterlab-server             2.8.2\r\n",
      "jupyterlab-widgets            1.0.2\r\n",
      "kiwisolver                    1.3.2\r\n",
      "korean-lunar-calendar         0.2.1\r\n",
      "llvmlite                      0.37.0\r\n",
      "locket                        0.2.0\r\n",
      "Mako                          1.1.5\r\n",
      "mamba                         0.17.0\r\n",
      "MarkupSafe                    2.0.1\r\n",
      "matplotlib                    3.4.3\r\n",
      "matplotlib-inline             0.1.3\r\n",
      "mistune                       0.8.4\r\n",
      "mock                          4.0.3\r\n",
      "mpmath                        1.2.1\r\n",
      "msgpack                       1.0.2\r\n",
      "nbclassic                     0.3.2\r\n",
      "nbclient                      0.5.4\r\n",
      "nbconvert                     6.2.0\r\n",
      "nbformat                      5.1.3\r\n",
      "nest-asyncio                  1.5.1\r\n",
      "networkx                      2.5\r\n",
      "notebook                      6.4.4\r\n",
      "numba                         0.54.1\r\n",
      "numexpr                       2.7.3\r\n",
      "numpy                         1.20.3\r\n",
      "oauthlib                      3.1.1\r\n",
      "olefile                       0.46\r\n",
      "packaging                     21.0\r\n",
      "pamela                        1.0.0\r\n",
      "pandas                        1.3.4\r\n",
      "pandocfilters                 1.5.0\r\n",
      "parso                         0.8.2\r\n",
      "partd                         1.2.0\r\n",
      "patsy                         0.5.2\r\n",
      "pexpect                       4.8.0\r\n",
      "pickleshare                   0.7.5\r\n",
      "Pillow                        8.3.2\r\n",
      "pip                           21.3\r\n",
      "pooch                         1.5.2\r\n",
      "prometheus-client             0.11.0\r\n",
      "prompt-toolkit                3.0.20\r\n",
      "protobuf                      3.18.1\r\n",
      "psutil                        5.8.0\r\n",
      "ptyprocess                    0.7.0\r\n",
      "pyarrow                       5.0.0\r\n",
      "pycosat                       0.6.3\r\n",
      "pycparser                     2.20\r\n",
      "pycurl                        7.44.1\r\n",
      "Pygments                      2.10.0\r\n",
      "PyJWT                         2.3.0\r\n",
      "PyMeeus                       0.5.11\r\n",
      "pyOpenSSL                     21.0.0\r\n",
      "pyparsing                     2.4.7\r\n",
      "pyrsistent                    0.17.3\r\n",
      "PySocks                       1.7.1\r\n",
      "pyspark                       3.1.2\r\n",
      "python-dateutil               2.8.2\r\n",
      "python-json-logger            2.0.1\r\n",
      "pytz                          2021.3\r\n",
      "PyWavelets                    1.1.1\r\n",
      "PyYAML                        6.0\r\n",
      "pyzmq                         22.3.0\r\n",
      "requests                      2.26.0\r\n",
      "requests-unixsocket           0.2.0\r\n",
      "ruamel.yaml                   0.17.16\r\n",
      "ruamel.yaml.clib              0.2.2\r\n",
      "ruamel-yaml-conda             0.15.80\r\n",
      "scikit-image                  0.18.3\r\n",
      "scikit-learn                  1.0\r\n",
      "scipy                         1.7.1\r\n",
      "seaborn                       0.11.2\r\n",
      "Send2Trash                    1.8.0\r\n",
      "setuptools                    58.2.0\r\n",
      "six                           1.16.0\r\n",
      "sniffio                       1.2.0\r\n",
      "sortedcontainers              2.4.0\r\n",
      "soupsieve                     2.0.1\r\n",
      "SQLAlchemy                    1.4.25\r\n",
      "statsmodels                   0.13.0\r\n",
      "sympy                         1.9\r\n",
      "tables                        3.6.1\r\n",
      "tblib                         1.7.0\r\n",
      "terminado                     0.12.1\r\n",
      "testpath                      0.5.0\r\n",
      "threadpoolctl                 3.0.0\r\n",
      "tifffile                      2021.10.12\r\n",
      "toolz                         0.11.1\r\n",
      "tornado                       6.1\r\n",
      "tqdm                          4.62.3\r\n",
      "traitlets                     5.1.0\r\n",
      "typing-extensions             3.10.0.2\r\n",
      "urllib3                       1.26.7\r\n",
      "wcwidth                       0.2.5\r\n",
      "webencodings                  0.5.1\r\n",
      "websocket-client              0.57.0\r\n",
      "wheel                         0.37.0\r\n",
      "widgetsnbextension            3.5.1\r\n",
      "xlrd                          2.0.1\r\n",
      "zict                          2.0.0\r\n",
      "zipp                          3.6.0\r\n"
     ]
    }
   ],
   "source": [
    "!pip list"
   ]
  },
  {
   "cell_type": "code",
   "execution_count": 2,
   "id": "8eb3ca64",
   "metadata": {
    "pycharm": {
     "name": "#%%\n"
    }
   },
   "outputs": [
    {
     "name": "stdout",
     "output_type": "stream",
     "text": [
      "Requirement already satisfied: holidays in /opt/conda/lib/python3.9/site-packages (0.15)\r\n",
      "Requirement already satisfied: hijri-converter in /opt/conda/lib/python3.9/site-packages (from holidays) (2.2.4)\r\n",
      "Requirement already satisfied: convertdate>=2.3.0 in /opt/conda/lib/python3.9/site-packages (from holidays) (2.4.0)\r\n",
      "Requirement already satisfied: python-dateutil in /opt/conda/lib/python3.9/site-packages (from holidays) (2.8.2)\r\n",
      "Requirement already satisfied: korean-lunar-calendar in /opt/conda/lib/python3.9/site-packages (from holidays) (0.2.1)\r\n",
      "Requirement already satisfied: pymeeus<=1,>=0.3.13 in /opt/conda/lib/python3.9/site-packages (from convertdate>=2.3.0->holidays) (0.5.11)\r\n",
      "Requirement already satisfied: six>=1.5 in /opt/conda/lib/python3.9/site-packages (from python-dateutil->holidays) (1.16.0)\r\n"
     ]
    }
   ],
   "source": [
    "!pip install holidays"
   ]
  },
  {
   "cell_type": "code",
   "execution_count": 3,
   "id": "06e36c56",
   "metadata": {
    "pycharm": {
     "name": "#%%\n"
    }
   },
   "outputs": [],
   "source": [
    "from datetime import date, timedelta\n",
    "from dateutil import easter\n",
    "from dateutil.relativedelta import *\n",
    "import dateutil.rrule as rrule\n",
    "# import dateutil.relativedelta as relativedelta\n",
    "from datetime import date, datetime"
   ]
  },
  {
   "cell_type": "code",
   "execution_count": 4,
   "id": "23034b1b",
   "metadata": {
    "pycharm": {
     "name": "#%%\n"
    }
   },
   "outputs": [],
   "source": [
    "import holidays"
   ]
  },
  {
   "cell_type": "code",
   "execution_count": 5,
   "id": "7f1f4e0a",
   "metadata": {
    "pycharm": {
     "name": "#%%\n"
    }
   },
   "outputs": [],
   "source": [
    "import pandas as pd"
   ]
  },
  {
   "cell_type": "code",
   "execution_count": 6,
   "id": "8354cddf",
   "metadata": {
    "pycharm": {
     "name": "#%%\n"
    }
   },
   "outputs": [],
   "source": [
    "# US holidays, an example"
   ]
  },
  {
   "cell_type": "code",
   "execution_count": 7,
   "id": "eb2fc8a0",
   "metadata": {
    "pycharm": {
     "name": "#%%\n"
    }
   },
   "outputs": [
    {
     "data": {
      "text/plain": [
       "\"New Year's Day\""
      ]
     },
     "execution_count": 7,
     "metadata": {},
     "output_type": "execute_result"
    }
   ],
   "source": [
    "us_holidays = holidays.US()  # this is a dict\n",
    "# the below is the same, but takes a string:\n",
    "us_holidays = holidays.country_holidays('US')  # this is a dict\n",
    "\n",
    "date(2015, 1, 1) in us_holidays  # True\n",
    "date(2015, 1, 2) in us_holidays  # False\n",
    "us_holidays.get('2014-01-01')  # \"New Year's Day\""
   ]
  },
  {
   "cell_type": "code",
   "execution_count": 8,
   "id": "553b111b",
   "metadata": {
    "pycharm": {
     "name": "#%%\n"
    }
   },
   "outputs": [],
   "source": [
    "# Adding extra holiday, an example"
   ]
  },
  {
   "cell_type": "code",
   "execution_count": 9,
   "id": "d5eeb04b",
   "metadata": {
    "pycharm": {
     "name": "#%%\n"
    }
   },
   "outputs": [
    {
     "name": "stdout",
     "output_type": "stream",
     "text": [
      "False\n",
      "True\n",
      "Holiday\n",
      "Republic Day India, Holiday\n",
      "True\n",
      "True\n",
      "True\n"
     ]
    }
   ],
   "source": [
    "in_holidays = holidays.HolidayBase()\n",
    "\n",
    "# Let's check our republic day\n",
    "print('26-01-2019' in in_holidays)\n",
    "\n",
    "# Add Holiday without description\n",
    "in_holidays.append('26-01-2019')\n",
    "\n",
    "# Let's verify\n",
    "print('26-01-2019' in in_holidays) # True\n",
    "\n",
    "# Let's Check Description\n",
    "print(in_holidays.get('26-01-2019'))\n",
    "\n",
    "# Add Holiday with description\n",
    "in_holidays.append({'26-01-2019':'Republic Day India'})\n",
    "print(in_holidays.get('26-01-2019'))\n",
    "\n",
    "\n",
    "# Add list of Dates Together\n",
    "in_holidays.append(['02-10-2018', '15-08-2018'])\n",
    "print('15-08-2018' in in_holidays) # True\n",
    "print('02-10-2018' in in_holidays) # True\n",
    "\n",
    "# a single date item\n",
    "in_holidays.append(date(2018, 12, 25))\n",
    "print('25-12-2018' in in_holidays) # True\n"
   ]
  },
  {
   "cell_type": "code",
   "execution_count": 10,
   "id": "2e46c197",
   "metadata": {
    "pycharm": {
     "name": "#%%\n"
    }
   },
   "outputs": [],
   "source": [
    "pl_holidays = holidays.PL()"
   ]
  },
  {
   "cell_type": "code",
   "execution_count": 11,
   "id": "f17e85b1",
   "metadata": {
    "pycharm": {
     "name": "#%%\n"
    }
   },
   "outputs": [
    {
     "data": {
      "text/plain": [
       "True"
      ]
     },
     "execution_count": 11,
     "metadata": {},
     "output_type": "execute_result"
    }
   ],
   "source": [
    "date(2015, 1, 1) in pl_holidays"
   ]
  },
  {
   "cell_type": "code",
   "execution_count": 12,
   "id": "19394f58",
   "metadata": {
    "pycharm": {
     "name": "#%%\n"
    }
   },
   "outputs": [
    {
     "data": {
      "text/plain": [
       "False"
      ]
     },
     "execution_count": 12,
     "metadata": {},
     "output_type": "execute_result"
    }
   ],
   "source": [
    "date(2015, 1, 5) in pl_holidays"
   ]
  },
  {
   "cell_type": "code",
   "execution_count": 13,
   "id": "ecd159c0",
   "metadata": {
    "pycharm": {
     "name": "#%%\n"
    }
   },
   "outputs": [
    {
     "data": {
      "text/plain": [
       "True"
      ]
     },
     "execution_count": 13,
     "metadata": {},
     "output_type": "execute_result"
    }
   ],
   "source": [
    "date(2015, 1, 6) in pl_holidays"
   ]
  },
  {
   "cell_type": "code",
   "execution_count": 14,
   "id": "e5b0dc4b",
   "metadata": {
    "pycharm": {
     "name": "#%%\n"
    }
   },
   "outputs": [
    {
     "data": {
      "text/plain": [
       "13"
      ]
     },
     "execution_count": 14,
     "metadata": {},
     "output_type": "execute_result"
    }
   ],
   "source": [
    "len(pl_holidays)"
   ]
  },
  {
   "cell_type": "code",
   "execution_count": 15,
   "id": "3eb18451",
   "metadata": {
    "pycharm": {
     "name": "#%%\n"
    }
   },
   "outputs": [
    {
     "name": "stdout",
     "output_type": "stream",
     "text": [
      "2015-01-01\n",
      "2015-01-06\n",
      "2015-04-05\n",
      "2015-04-06\n",
      "2015-05-01\n",
      "2015-05-03\n",
      "2015-05-24\n",
      "2015-06-04\n",
      "2015-08-15\n",
      "2015-11-01\n",
      "2015-11-11\n",
      "2015-12-25\n",
      "2015-12-26\n"
     ]
    }
   ],
   "source": [
    "for holiday in pl_holidays:\n",
    "    print(holiday)"
   ]
  },
  {
   "cell_type": "code",
   "execution_count": 16,
   "id": "f8e783a4",
   "metadata": {
    "pycharm": {
     "name": "#%%\n"
    }
   },
   "outputs": [],
   "source": [
    "years = range(2019, 2023)"
   ]
  },
  {
   "cell_type": "code",
   "execution_count": 17,
   "id": "f270cdcb",
   "metadata": {
    "pycharm": {
     "name": "#%%\n"
    }
   },
   "outputs": [
    {
     "data": {
      "text/plain": [
       "range(2019, 2023)"
      ]
     },
     "execution_count": 17,
     "metadata": {},
     "output_type": "execute_result"
    }
   ],
   "source": [
    "years"
   ]
  },
  {
   "cell_type": "code",
   "execution_count": 18,
   "id": "b21688f8",
   "metadata": {
    "pycharm": {
     "name": "#%%\n"
    }
   },
   "outputs": [],
   "source": [
    "def get_holidays(years):\n",
    "    \"\"\" Returns Polish hollidays dates (legally considered non-working days) \"\"\"\n",
    "    \n",
    "    output = pd.DataFrame()\n",
    "    \n",
    "    for year in years:\n",
    "        \n",
    "        # holidays\n",
    "        easter_sunday = easter.easter(year)\n",
    "        holidays = {'New Year': date(year,1,1),\n",
    "                    'Trzech Kroli': date(year,1,6),\n",
    "                    'Easter Sunday': easter_sunday,\n",
    "                    'Easter Monday': easter_sunday + timedelta(days=1),\n",
    "                    'Labor Day': date(year,5,1),\n",
    "                    'Constitution Day': date(year,5,3),\n",
    "                    'Pentecost Sunday': easter_sunday + relativedelta(days=+1, weekday=SU(+7)),\n",
    "                    'Corpus Christi': easter_sunday + relativedelta(weekday=TH(+9)),\n",
    "                    'Assumption of the Blessed Virgin Mary': date(year,8,15),\n",
    "                    'All Saints\\' Day': date(year,11,1),\n",
    "                    'Independence Day': date(year,11,11),\n",
    "                    'Christmas  Day': date(year, 12, 25),\n",
    "                    'Boxing Day': date(year, 12, 26),\n",
    "                    }\n",
    "        \n",
    "        # output\n",
    "        output = pd.concat([output, pd.DataFrame([holidays])], ignore_index=True)\n",
    "        output.index.names = ['id']\n",
    "\n",
    "    return output.T"
   ]
  },
  {
   "cell_type": "code",
   "execution_count": 19,
   "id": "a970b3d8",
   "metadata": {
    "pycharm": {
     "name": "#%%\n"
    }
   },
   "outputs": [],
   "source": [
    "df = get_holidays(years)"
   ]
  },
  {
   "cell_type": "code",
   "execution_count": 20,
   "id": "4cb3c000",
   "metadata": {
    "pycharm": {
     "name": "#%%\n"
    }
   },
   "outputs": [
    {
     "name": "stdout",
     "output_type": "stream",
     "text": [
      "<class 'pandas.core.frame.DataFrame'>\n",
      "Index: 13 entries, New Year to Boxing Day\n",
      "Data columns (total 4 columns):\n",
      " #   Column  Non-Null Count  Dtype \n",
      "---  ------  --------------  ----- \n",
      " 0   0       13 non-null     object\n",
      " 1   1       13 non-null     object\n",
      " 2   2       13 non-null     object\n",
      " 3   3       13 non-null     object\n",
      "dtypes: object(4)\n",
      "memory usage: 520.0+ bytes\n"
     ]
    }
   ],
   "source": [
    "df.info()"
   ]
  },
  {
   "cell_type": "code",
   "execution_count": 21,
   "id": "7472be2e",
   "metadata": {
    "pycharm": {
     "name": "#%%\n"
    }
   },
   "outputs": [
    {
     "data": {
      "text/html": [
       "<div>\n",
       "<style scoped>\n",
       "    .dataframe tbody tr th:only-of-type {\n",
       "        vertical-align: middle;\n",
       "    }\n",
       "\n",
       "    .dataframe tbody tr th {\n",
       "        vertical-align: top;\n",
       "    }\n",
       "\n",
       "    .dataframe thead th {\n",
       "        text-align: right;\n",
       "    }\n",
       "</style>\n",
       "<table border=\"1\" class=\"dataframe\">\n",
       "  <thead>\n",
       "    <tr style=\"text-align: right;\">\n",
       "      <th>id</th>\n",
       "      <th>0</th>\n",
       "      <th>1</th>\n",
       "      <th>2</th>\n",
       "      <th>3</th>\n",
       "    </tr>\n",
       "  </thead>\n",
       "  <tbody>\n",
       "    <tr>\n",
       "      <th>New Year</th>\n",
       "      <td>2019-01-01</td>\n",
       "      <td>2020-01-01</td>\n",
       "      <td>2021-01-01</td>\n",
       "      <td>2022-01-01</td>\n",
       "    </tr>\n",
       "    <tr>\n",
       "      <th>Trzech Kroli</th>\n",
       "      <td>2019-01-06</td>\n",
       "      <td>2020-01-06</td>\n",
       "      <td>2021-01-06</td>\n",
       "      <td>2022-01-06</td>\n",
       "    </tr>\n",
       "    <tr>\n",
       "      <th>Easter Sunday</th>\n",
       "      <td>2019-04-21</td>\n",
       "      <td>2020-04-12</td>\n",
       "      <td>2021-04-04</td>\n",
       "      <td>2022-04-17</td>\n",
       "    </tr>\n",
       "    <tr>\n",
       "      <th>Easter Monday</th>\n",
       "      <td>2019-04-22</td>\n",
       "      <td>2020-04-13</td>\n",
       "      <td>2021-04-05</td>\n",
       "      <td>2022-04-18</td>\n",
       "    </tr>\n",
       "    <tr>\n",
       "      <th>Labor Day</th>\n",
       "      <td>2019-05-01</td>\n",
       "      <td>2020-05-01</td>\n",
       "      <td>2021-05-01</td>\n",
       "      <td>2022-05-01</td>\n",
       "    </tr>\n",
       "    <tr>\n",
       "      <th>Constitution Day</th>\n",
       "      <td>2019-05-03</td>\n",
       "      <td>2020-05-03</td>\n",
       "      <td>2021-05-03</td>\n",
       "      <td>2022-05-03</td>\n",
       "    </tr>\n",
       "    <tr>\n",
       "      <th>Pentecost Sunday</th>\n",
       "      <td>2019-06-09</td>\n",
       "      <td>2020-05-31</td>\n",
       "      <td>2021-05-23</td>\n",
       "      <td>2022-06-05</td>\n",
       "    </tr>\n",
       "    <tr>\n",
       "      <th>Corpus Christi</th>\n",
       "      <td>2019-06-20</td>\n",
       "      <td>2020-06-11</td>\n",
       "      <td>2021-06-03</td>\n",
       "      <td>2022-06-16</td>\n",
       "    </tr>\n",
       "    <tr>\n",
       "      <th>Assumption of the Blessed Virgin Mary</th>\n",
       "      <td>2019-08-15</td>\n",
       "      <td>2020-08-15</td>\n",
       "      <td>2021-08-15</td>\n",
       "      <td>2022-08-15</td>\n",
       "    </tr>\n",
       "    <tr>\n",
       "      <th>All Saints' Day</th>\n",
       "      <td>2019-11-01</td>\n",
       "      <td>2020-11-01</td>\n",
       "      <td>2021-11-01</td>\n",
       "      <td>2022-11-01</td>\n",
       "    </tr>\n",
       "    <tr>\n",
       "      <th>Independence Day</th>\n",
       "      <td>2019-11-11</td>\n",
       "      <td>2020-11-11</td>\n",
       "      <td>2021-11-11</td>\n",
       "      <td>2022-11-11</td>\n",
       "    </tr>\n",
       "    <tr>\n",
       "      <th>Christmas  Day</th>\n",
       "      <td>2019-12-25</td>\n",
       "      <td>2020-12-25</td>\n",
       "      <td>2021-12-25</td>\n",
       "      <td>2022-12-25</td>\n",
       "    </tr>\n",
       "    <tr>\n",
       "      <th>Boxing Day</th>\n",
       "      <td>2019-12-26</td>\n",
       "      <td>2020-12-26</td>\n",
       "      <td>2021-12-26</td>\n",
       "      <td>2022-12-26</td>\n",
       "    </tr>\n",
       "  </tbody>\n",
       "</table>\n",
       "</div>"
      ],
      "text/plain": [
       "id                                              0           1           2  \\\n",
       "New Year                               2019-01-01  2020-01-01  2021-01-01   \n",
       "Trzech Kroli                           2019-01-06  2020-01-06  2021-01-06   \n",
       "Easter Sunday                          2019-04-21  2020-04-12  2021-04-04   \n",
       "Easter Monday                          2019-04-22  2020-04-13  2021-04-05   \n",
       "Labor Day                              2019-05-01  2020-05-01  2021-05-01   \n",
       "Constitution Day                       2019-05-03  2020-05-03  2021-05-03   \n",
       "Pentecost Sunday                       2019-06-09  2020-05-31  2021-05-23   \n",
       "Corpus Christi                         2019-06-20  2020-06-11  2021-06-03   \n",
       "Assumption of the Blessed Virgin Mary  2019-08-15  2020-08-15  2021-08-15   \n",
       "All Saints' Day                        2019-11-01  2020-11-01  2021-11-01   \n",
       "Independence Day                       2019-11-11  2020-11-11  2021-11-11   \n",
       "Christmas  Day                         2019-12-25  2020-12-25  2021-12-25   \n",
       "Boxing Day                             2019-12-26  2020-12-26  2021-12-26   \n",
       "\n",
       "id                                              3  \n",
       "New Year                               2022-01-01  \n",
       "Trzech Kroli                           2022-01-06  \n",
       "Easter Sunday                          2022-04-17  \n",
       "Easter Monday                          2022-04-18  \n",
       "Labor Day                              2022-05-01  \n",
       "Constitution Day                       2022-05-03  \n",
       "Pentecost Sunday                       2022-06-05  \n",
       "Corpus Christi                         2022-06-16  \n",
       "Assumption of the Blessed Virgin Mary  2022-08-15  \n",
       "All Saints' Day                        2022-11-01  \n",
       "Independence Day                       2022-11-11  \n",
       "Christmas  Day                         2022-12-25  \n",
       "Boxing Day                             2022-12-26  "
      ]
     },
     "execution_count": 21,
     "metadata": {},
     "output_type": "execute_result"
    }
   ],
   "source": [
    "df"
   ]
  },
  {
   "cell_type": "code",
   "execution_count": 22,
   "id": "5af54ecd",
   "metadata": {
    "pycharm": {
     "name": "#%%\n"
    }
   },
   "outputs": [
    {
     "data": {
      "text/plain": [
       "id\n",
       "0    2019-01-01\n",
       "1    2020-01-01\n",
       "2    2021-01-01\n",
       "3    2022-01-01\n",
       "Name: New Year, dtype: object"
      ]
     },
     "execution_count": 22,
     "metadata": {},
     "output_type": "execute_result"
    }
   ],
   "source": [
    "df.loc['New Year']"
   ]
  },
  {
   "cell_type": "code",
   "execution_count": 23,
   "id": "38908136",
   "metadata": {
    "pycharm": {
     "name": "#%%\n"
    }
   },
   "outputs": [],
   "source": [
    "df_melted = df.stack().reset_index(name='date').rename(columns={'level_0':'holiday', 'id': 'year_id'})"
   ]
  },
  {
   "cell_type": "code",
   "execution_count": 24,
   "id": "6b152095",
   "metadata": {
    "pycharm": {
     "name": "#%%\n"
    }
   },
   "outputs": [],
   "source": [
    "holidays = df_melted.drop(columns='year_id')"
   ]
  },
  {
   "cell_type": "code",
   "execution_count": 25,
   "id": "77d1148d",
   "metadata": {
    "pycharm": {
     "name": "#%%\n"
    }
   },
   "outputs": [],
   "source": [
    "holidays['date'] = pd.to_datetime(holidays['date'])"
   ]
  },
  {
   "cell_type": "code",
   "execution_count": 26,
   "id": "f01f81c3",
   "metadata": {
    "pycharm": {
     "name": "#%%\n"
    }
   },
   "outputs": [
    {
     "data": {
      "text/html": [
       "<div>\n",
       "<style scoped>\n",
       "    .dataframe tbody tr th:only-of-type {\n",
       "        vertical-align: middle;\n",
       "    }\n",
       "\n",
       "    .dataframe tbody tr th {\n",
       "        vertical-align: top;\n",
       "    }\n",
       "\n",
       "    .dataframe thead th {\n",
       "        text-align: right;\n",
       "    }\n",
       "</style>\n",
       "<table border=\"1\" class=\"dataframe\">\n",
       "  <thead>\n",
       "    <tr style=\"text-align: right;\">\n",
       "      <th></th>\n",
       "      <th>holiday</th>\n",
       "      <th>date</th>\n",
       "    </tr>\n",
       "  </thead>\n",
       "  <tbody>\n",
       "    <tr>\n",
       "      <th>0</th>\n",
       "      <td>New Year</td>\n",
       "      <td>2019-01-01</td>\n",
       "    </tr>\n",
       "    <tr>\n",
       "      <th>1</th>\n",
       "      <td>New Year</td>\n",
       "      <td>2020-01-01</td>\n",
       "    </tr>\n",
       "    <tr>\n",
       "      <th>2</th>\n",
       "      <td>New Year</td>\n",
       "      <td>2021-01-01</td>\n",
       "    </tr>\n",
       "    <tr>\n",
       "      <th>3</th>\n",
       "      <td>New Year</td>\n",
       "      <td>2022-01-01</td>\n",
       "    </tr>\n",
       "    <tr>\n",
       "      <th>4</th>\n",
       "      <td>Trzech Kroli</td>\n",
       "      <td>2019-01-06</td>\n",
       "    </tr>\n",
       "    <tr>\n",
       "      <th>5</th>\n",
       "      <td>Trzech Kroli</td>\n",
       "      <td>2020-01-06</td>\n",
       "    </tr>\n",
       "    <tr>\n",
       "      <th>6</th>\n",
       "      <td>Trzech Kroli</td>\n",
       "      <td>2021-01-06</td>\n",
       "    </tr>\n",
       "    <tr>\n",
       "      <th>7</th>\n",
       "      <td>Trzech Kroli</td>\n",
       "      <td>2022-01-06</td>\n",
       "    </tr>\n",
       "    <tr>\n",
       "      <th>8</th>\n",
       "      <td>Easter Sunday</td>\n",
       "      <td>2019-04-21</td>\n",
       "    </tr>\n",
       "    <tr>\n",
       "      <th>9</th>\n",
       "      <td>Easter Sunday</td>\n",
       "      <td>2020-04-12</td>\n",
       "    </tr>\n",
       "    <tr>\n",
       "      <th>10</th>\n",
       "      <td>Easter Sunday</td>\n",
       "      <td>2021-04-04</td>\n",
       "    </tr>\n",
       "    <tr>\n",
       "      <th>11</th>\n",
       "      <td>Easter Sunday</td>\n",
       "      <td>2022-04-17</td>\n",
       "    </tr>\n",
       "    <tr>\n",
       "      <th>12</th>\n",
       "      <td>Easter Monday</td>\n",
       "      <td>2019-04-22</td>\n",
       "    </tr>\n",
       "    <tr>\n",
       "      <th>13</th>\n",
       "      <td>Easter Monday</td>\n",
       "      <td>2020-04-13</td>\n",
       "    </tr>\n",
       "    <tr>\n",
       "      <th>14</th>\n",
       "      <td>Easter Monday</td>\n",
       "      <td>2021-04-05</td>\n",
       "    </tr>\n",
       "    <tr>\n",
       "      <th>15</th>\n",
       "      <td>Easter Monday</td>\n",
       "      <td>2022-04-18</td>\n",
       "    </tr>\n",
       "    <tr>\n",
       "      <th>16</th>\n",
       "      <td>Labor Day</td>\n",
       "      <td>2019-05-01</td>\n",
       "    </tr>\n",
       "    <tr>\n",
       "      <th>17</th>\n",
       "      <td>Labor Day</td>\n",
       "      <td>2020-05-01</td>\n",
       "    </tr>\n",
       "    <tr>\n",
       "      <th>18</th>\n",
       "      <td>Labor Day</td>\n",
       "      <td>2021-05-01</td>\n",
       "    </tr>\n",
       "    <tr>\n",
       "      <th>19</th>\n",
       "      <td>Labor Day</td>\n",
       "      <td>2022-05-01</td>\n",
       "    </tr>\n",
       "    <tr>\n",
       "      <th>20</th>\n",
       "      <td>Constitution Day</td>\n",
       "      <td>2019-05-03</td>\n",
       "    </tr>\n",
       "    <tr>\n",
       "      <th>21</th>\n",
       "      <td>Constitution Day</td>\n",
       "      <td>2020-05-03</td>\n",
       "    </tr>\n",
       "    <tr>\n",
       "      <th>22</th>\n",
       "      <td>Constitution Day</td>\n",
       "      <td>2021-05-03</td>\n",
       "    </tr>\n",
       "    <tr>\n",
       "      <th>23</th>\n",
       "      <td>Constitution Day</td>\n",
       "      <td>2022-05-03</td>\n",
       "    </tr>\n",
       "    <tr>\n",
       "      <th>24</th>\n",
       "      <td>Pentecost Sunday</td>\n",
       "      <td>2019-06-09</td>\n",
       "    </tr>\n",
       "    <tr>\n",
       "      <th>25</th>\n",
       "      <td>Pentecost Sunday</td>\n",
       "      <td>2020-05-31</td>\n",
       "    </tr>\n",
       "    <tr>\n",
       "      <th>26</th>\n",
       "      <td>Pentecost Sunday</td>\n",
       "      <td>2021-05-23</td>\n",
       "    </tr>\n",
       "    <tr>\n",
       "      <th>27</th>\n",
       "      <td>Pentecost Sunday</td>\n",
       "      <td>2022-06-05</td>\n",
       "    </tr>\n",
       "    <tr>\n",
       "      <th>28</th>\n",
       "      <td>Corpus Christi</td>\n",
       "      <td>2019-06-20</td>\n",
       "    </tr>\n",
       "    <tr>\n",
       "      <th>29</th>\n",
       "      <td>Corpus Christi</td>\n",
       "      <td>2020-06-11</td>\n",
       "    </tr>\n",
       "    <tr>\n",
       "      <th>30</th>\n",
       "      <td>Corpus Christi</td>\n",
       "      <td>2021-06-03</td>\n",
       "    </tr>\n",
       "    <tr>\n",
       "      <th>31</th>\n",
       "      <td>Corpus Christi</td>\n",
       "      <td>2022-06-16</td>\n",
       "    </tr>\n",
       "    <tr>\n",
       "      <th>32</th>\n",
       "      <td>Assumption of the Blessed Virgin Mary</td>\n",
       "      <td>2019-08-15</td>\n",
       "    </tr>\n",
       "    <tr>\n",
       "      <th>33</th>\n",
       "      <td>Assumption of the Blessed Virgin Mary</td>\n",
       "      <td>2020-08-15</td>\n",
       "    </tr>\n",
       "    <tr>\n",
       "      <th>34</th>\n",
       "      <td>Assumption of the Blessed Virgin Mary</td>\n",
       "      <td>2021-08-15</td>\n",
       "    </tr>\n",
       "    <tr>\n",
       "      <th>35</th>\n",
       "      <td>Assumption of the Blessed Virgin Mary</td>\n",
       "      <td>2022-08-15</td>\n",
       "    </tr>\n",
       "    <tr>\n",
       "      <th>36</th>\n",
       "      <td>All Saints' Day</td>\n",
       "      <td>2019-11-01</td>\n",
       "    </tr>\n",
       "    <tr>\n",
       "      <th>37</th>\n",
       "      <td>All Saints' Day</td>\n",
       "      <td>2020-11-01</td>\n",
       "    </tr>\n",
       "    <tr>\n",
       "      <th>38</th>\n",
       "      <td>All Saints' Day</td>\n",
       "      <td>2021-11-01</td>\n",
       "    </tr>\n",
       "    <tr>\n",
       "      <th>39</th>\n",
       "      <td>All Saints' Day</td>\n",
       "      <td>2022-11-01</td>\n",
       "    </tr>\n",
       "    <tr>\n",
       "      <th>40</th>\n",
       "      <td>Independence Day</td>\n",
       "      <td>2019-11-11</td>\n",
       "    </tr>\n",
       "    <tr>\n",
       "      <th>41</th>\n",
       "      <td>Independence Day</td>\n",
       "      <td>2020-11-11</td>\n",
       "    </tr>\n",
       "    <tr>\n",
       "      <th>42</th>\n",
       "      <td>Independence Day</td>\n",
       "      <td>2021-11-11</td>\n",
       "    </tr>\n",
       "    <tr>\n",
       "      <th>43</th>\n",
       "      <td>Independence Day</td>\n",
       "      <td>2022-11-11</td>\n",
       "    </tr>\n",
       "    <tr>\n",
       "      <th>44</th>\n",
       "      <td>Christmas  Day</td>\n",
       "      <td>2019-12-25</td>\n",
       "    </tr>\n",
       "    <tr>\n",
       "      <th>45</th>\n",
       "      <td>Christmas  Day</td>\n",
       "      <td>2020-12-25</td>\n",
       "    </tr>\n",
       "    <tr>\n",
       "      <th>46</th>\n",
       "      <td>Christmas  Day</td>\n",
       "      <td>2021-12-25</td>\n",
       "    </tr>\n",
       "    <tr>\n",
       "      <th>47</th>\n",
       "      <td>Christmas  Day</td>\n",
       "      <td>2022-12-25</td>\n",
       "    </tr>\n",
       "    <tr>\n",
       "      <th>48</th>\n",
       "      <td>Boxing Day</td>\n",
       "      <td>2019-12-26</td>\n",
       "    </tr>\n",
       "    <tr>\n",
       "      <th>49</th>\n",
       "      <td>Boxing Day</td>\n",
       "      <td>2020-12-26</td>\n",
       "    </tr>\n",
       "    <tr>\n",
       "      <th>50</th>\n",
       "      <td>Boxing Day</td>\n",
       "      <td>2021-12-26</td>\n",
       "    </tr>\n",
       "    <tr>\n",
       "      <th>51</th>\n",
       "      <td>Boxing Day</td>\n",
       "      <td>2022-12-26</td>\n",
       "    </tr>\n",
       "  </tbody>\n",
       "</table>\n",
       "</div>"
      ],
      "text/plain": [
       "                                  holiday       date\n",
       "0                                New Year 2019-01-01\n",
       "1                                New Year 2020-01-01\n",
       "2                                New Year 2021-01-01\n",
       "3                                New Year 2022-01-01\n",
       "4                            Trzech Kroli 2019-01-06\n",
       "5                            Trzech Kroli 2020-01-06\n",
       "6                            Trzech Kroli 2021-01-06\n",
       "7                            Trzech Kroli 2022-01-06\n",
       "8                           Easter Sunday 2019-04-21\n",
       "9                           Easter Sunday 2020-04-12\n",
       "10                          Easter Sunday 2021-04-04\n",
       "11                          Easter Sunday 2022-04-17\n",
       "12                          Easter Monday 2019-04-22\n",
       "13                          Easter Monday 2020-04-13\n",
       "14                          Easter Monday 2021-04-05\n",
       "15                          Easter Monday 2022-04-18\n",
       "16                              Labor Day 2019-05-01\n",
       "17                              Labor Day 2020-05-01\n",
       "18                              Labor Day 2021-05-01\n",
       "19                              Labor Day 2022-05-01\n",
       "20                       Constitution Day 2019-05-03\n",
       "21                       Constitution Day 2020-05-03\n",
       "22                       Constitution Day 2021-05-03\n",
       "23                       Constitution Day 2022-05-03\n",
       "24                       Pentecost Sunday 2019-06-09\n",
       "25                       Pentecost Sunday 2020-05-31\n",
       "26                       Pentecost Sunday 2021-05-23\n",
       "27                       Pentecost Sunday 2022-06-05\n",
       "28                         Corpus Christi 2019-06-20\n",
       "29                         Corpus Christi 2020-06-11\n",
       "30                         Corpus Christi 2021-06-03\n",
       "31                         Corpus Christi 2022-06-16\n",
       "32  Assumption of the Blessed Virgin Mary 2019-08-15\n",
       "33  Assumption of the Blessed Virgin Mary 2020-08-15\n",
       "34  Assumption of the Blessed Virgin Mary 2021-08-15\n",
       "35  Assumption of the Blessed Virgin Mary 2022-08-15\n",
       "36                        All Saints' Day 2019-11-01\n",
       "37                        All Saints' Day 2020-11-01\n",
       "38                        All Saints' Day 2021-11-01\n",
       "39                        All Saints' Day 2022-11-01\n",
       "40                       Independence Day 2019-11-11\n",
       "41                       Independence Day 2020-11-11\n",
       "42                       Independence Day 2021-11-11\n",
       "43                       Independence Day 2022-11-11\n",
       "44                         Christmas  Day 2019-12-25\n",
       "45                         Christmas  Day 2020-12-25\n",
       "46                         Christmas  Day 2021-12-25\n",
       "47                         Christmas  Day 2022-12-25\n",
       "48                             Boxing Day 2019-12-26\n",
       "49                             Boxing Day 2020-12-26\n",
       "50                             Boxing Day 2021-12-26\n",
       "51                             Boxing Day 2022-12-26"
      ]
     },
     "execution_count": 26,
     "metadata": {},
     "output_type": "execute_result"
    }
   ],
   "source": [
    "holidays"
   ]
  },
  {
   "cell_type": "code",
   "execution_count": 27,
   "id": "ea227db4",
   "metadata": {
    "pycharm": {
     "name": "#%%\n"
    }
   },
   "outputs": [],
   "source": [
    "year = 2022"
   ]
  },
  {
   "cell_type": "code",
   "execution_count": 28,
   "id": "ad5b8d34",
   "metadata": {
    "pycharm": {
     "name": "#%%\n"
    }
   },
   "outputs": [],
   "source": [
    "easter_sunday = easter.easter(year)"
   ]
  },
  {
   "cell_type": "code",
   "execution_count": 29,
   "id": "6d06b4b6",
   "metadata": {
    "pycharm": {
     "name": "#%%\n"
    }
   },
   "outputs": [
    {
     "name": "stdout",
     "output_type": "stream",
     "text": [
      "2022-01-06\n"
     ]
    }
   ],
   "source": [
    "print(date(year,1,6))"
   ]
  },
  {
   "cell_type": "code",
   "execution_count": 30,
   "id": "58ac2ab6",
   "metadata": {
    "pycharm": {
     "name": "#%%\n"
    }
   },
   "outputs": [],
   "source": [
    "date_to_check = date(year,1,6)"
   ]
  },
  {
   "cell_type": "code",
   "execution_count": 31,
   "id": "c74c4266",
   "metadata": {
    "pycharm": {
     "name": "#%%\n"
    }
   },
   "outputs": [
    {
     "name": "stdout",
     "output_type": "stream",
     "text": [
      "True\n"
     ]
    }
   ],
   "source": [
    "if date_to_check in set(df_melted['date']):\n",
    "    print(True)\n",
    "else:\n",
    "    print(False)"
   ]
  },
  {
   "cell_type": "code",
   "execution_count": 32,
   "id": "b0b6932d",
   "metadata": {
    "pycharm": {
     "name": "#%%\n"
    }
   },
   "outputs": [],
   "source": [
    "date_to_check = date(year,1,5)"
   ]
  },
  {
   "cell_type": "code",
   "execution_count": 33,
   "id": "8cedadd4",
   "metadata": {
    "pycharm": {
     "name": "#%%\n"
    }
   },
   "outputs": [
    {
     "name": "stdout",
     "output_type": "stream",
     "text": [
      "False\n"
     ]
    }
   ],
   "source": [
    "if date_to_check in set(df_melted['date']):\n",
    "    print(True)\n",
    "else:\n",
    "    print(False)"
   ]
  },
  {
   "cell_type": "code",
   "execution_count": 34,
   "id": "8856af64",
   "metadata": {
    "pycharm": {
     "name": "#%%\n"
    }
   },
   "outputs": [],
   "source": [
    "def get_holidays_pl(years):\n",
    "    \"\"\" Returns Polish hollidays dates (legally considered non-working days) \"\"\"\n",
    "    \n",
    "    df = pd.DataFrame()\n",
    "    \n",
    "    for year in years:\n",
    "        \n",
    "        # holidays\n",
    "        easter_sunday = easter.easter(year)\n",
    "        holidays = {'New Year': date(year,1,1),\n",
    "                    'Trzech Kroli': date(year,1,6),\n",
    "                    'Easter Sunday': easter_sunday,\n",
    "                    'Easter Monday': easter_sunday + timedelta(days=1),\n",
    "                    'Labor Day': date(year,5,1),\n",
    "                    'Constitution Day': date(year,5,3),\n",
    "                    'Pentecost Sunday': easter_sunday + relativedelta(days=+1, weekday=SU(+7)),\n",
    "                    'Corpus Christi': easter_sunday + relativedelta(weekday=TH(+9)),\n",
    "                    'Assumption of the Blessed Virgin Mary': date(year,8,15),\n",
    "                    'All Saints\\' Day': date(year,11,1),\n",
    "                    'Independence Day': date(year,11,11),\n",
    "                    'Christmas  Day': date(year, 12, 25),\n",
    "                    'Boxing Day': date(year, 12, 26),\n",
    "                    }\n",
    "        \n",
    "        # output\n",
    "        df = pd.concat([df, pd.DataFrame([holidays])], ignore_index=True)\n",
    "        df.index.names = ['id']\n",
    "        output = df.transpose(copy=True)\n",
    "        output = output.stack().reset_index(name='date').rename(columns={'level_0':'holiday', 'id': 'year_id'})\n",
    "        output = output.drop(columns='year_id')\n",
    "        output['date'] = pd.to_datetime(output['date'])\n",
    "        \n",
    "        print(output.head())\n",
    "\n",
    "    return output"
   ]
  },
  {
   "cell_type": "code",
   "execution_count": 35,
   "id": "dc6d725d",
   "metadata": {
    "pycharm": {
     "name": "#%%\n"
    }
   },
   "outputs": [
    {
     "name": "stdout",
     "output_type": "stream",
     "text": [
      "         holiday       date\n",
      "0       New Year 2019-01-01\n",
      "1   Trzech Kroli 2019-01-06\n",
      "2  Easter Sunday 2019-04-21\n",
      "3  Easter Monday 2019-04-22\n",
      "4      Labor Day 2019-05-01\n",
      "         holiday       date\n",
      "0       New Year 2019-01-01\n",
      "1       New Year 2020-01-01\n",
      "2   Trzech Kroli 2019-01-06\n",
      "3   Trzech Kroli 2020-01-06\n",
      "4  Easter Sunday 2019-04-21\n",
      "        holiday       date\n",
      "0      New Year 2019-01-01\n",
      "1      New Year 2020-01-01\n",
      "2      New Year 2021-01-01\n",
      "3  Trzech Kroli 2019-01-06\n",
      "4  Trzech Kroli 2020-01-06\n",
      "        holiday       date\n",
      "0      New Year 2019-01-01\n",
      "1      New Year 2020-01-01\n",
      "2      New Year 2021-01-01\n",
      "3      New Year 2022-01-01\n",
      "4  Trzech Kroli 2019-01-06\n"
     ]
    }
   ],
   "source": [
    "holidays = get_holidays_pl(years)"
   ]
  },
  {
   "cell_type": "code",
   "execution_count": 36,
   "id": "18391413",
   "metadata": {
    "pycharm": {
     "name": "#%%\n"
    }
   },
   "outputs": [
    {
     "data": {
      "text/html": [
       "<div>\n",
       "<style scoped>\n",
       "    .dataframe tbody tr th:only-of-type {\n",
       "        vertical-align: middle;\n",
       "    }\n",
       "\n",
       "    .dataframe tbody tr th {\n",
       "        vertical-align: top;\n",
       "    }\n",
       "\n",
       "    .dataframe thead th {\n",
       "        text-align: right;\n",
       "    }\n",
       "</style>\n",
       "<table border=\"1\" class=\"dataframe\">\n",
       "  <thead>\n",
       "    <tr style=\"text-align: right;\">\n",
       "      <th></th>\n",
       "      <th>holiday</th>\n",
       "      <th>date</th>\n",
       "    </tr>\n",
       "  </thead>\n",
       "  <tbody>\n",
       "    <tr>\n",
       "      <th>0</th>\n",
       "      <td>New Year</td>\n",
       "      <td>2019-01-01</td>\n",
       "    </tr>\n",
       "    <tr>\n",
       "      <th>1</th>\n",
       "      <td>New Year</td>\n",
       "      <td>2020-01-01</td>\n",
       "    </tr>\n",
       "    <tr>\n",
       "      <th>2</th>\n",
       "      <td>New Year</td>\n",
       "      <td>2021-01-01</td>\n",
       "    </tr>\n",
       "    <tr>\n",
       "      <th>3</th>\n",
       "      <td>New Year</td>\n",
       "      <td>2022-01-01</td>\n",
       "    </tr>\n",
       "    <tr>\n",
       "      <th>4</th>\n",
       "      <td>Trzech Kroli</td>\n",
       "      <td>2019-01-06</td>\n",
       "    </tr>\n",
       "    <tr>\n",
       "      <th>5</th>\n",
       "      <td>Trzech Kroli</td>\n",
       "      <td>2020-01-06</td>\n",
       "    </tr>\n",
       "    <tr>\n",
       "      <th>6</th>\n",
       "      <td>Trzech Kroli</td>\n",
       "      <td>2021-01-06</td>\n",
       "    </tr>\n",
       "    <tr>\n",
       "      <th>7</th>\n",
       "      <td>Trzech Kroli</td>\n",
       "      <td>2022-01-06</td>\n",
       "    </tr>\n",
       "    <tr>\n",
       "      <th>8</th>\n",
       "      <td>Easter Sunday</td>\n",
       "      <td>2019-04-21</td>\n",
       "    </tr>\n",
       "    <tr>\n",
       "      <th>9</th>\n",
       "      <td>Easter Sunday</td>\n",
       "      <td>2020-04-12</td>\n",
       "    </tr>\n",
       "    <tr>\n",
       "      <th>10</th>\n",
       "      <td>Easter Sunday</td>\n",
       "      <td>2021-04-04</td>\n",
       "    </tr>\n",
       "    <tr>\n",
       "      <th>11</th>\n",
       "      <td>Easter Sunday</td>\n",
       "      <td>2022-04-17</td>\n",
       "    </tr>\n",
       "    <tr>\n",
       "      <th>12</th>\n",
       "      <td>Easter Monday</td>\n",
       "      <td>2019-04-22</td>\n",
       "    </tr>\n",
       "    <tr>\n",
       "      <th>13</th>\n",
       "      <td>Easter Monday</td>\n",
       "      <td>2020-04-13</td>\n",
       "    </tr>\n",
       "    <tr>\n",
       "      <th>14</th>\n",
       "      <td>Easter Monday</td>\n",
       "      <td>2021-04-05</td>\n",
       "    </tr>\n",
       "    <tr>\n",
       "      <th>15</th>\n",
       "      <td>Easter Monday</td>\n",
       "      <td>2022-04-18</td>\n",
       "    </tr>\n",
       "    <tr>\n",
       "      <th>16</th>\n",
       "      <td>Labor Day</td>\n",
       "      <td>2019-05-01</td>\n",
       "    </tr>\n",
       "    <tr>\n",
       "      <th>17</th>\n",
       "      <td>Labor Day</td>\n",
       "      <td>2020-05-01</td>\n",
       "    </tr>\n",
       "    <tr>\n",
       "      <th>18</th>\n",
       "      <td>Labor Day</td>\n",
       "      <td>2021-05-01</td>\n",
       "    </tr>\n",
       "    <tr>\n",
       "      <th>19</th>\n",
       "      <td>Labor Day</td>\n",
       "      <td>2022-05-01</td>\n",
       "    </tr>\n",
       "    <tr>\n",
       "      <th>20</th>\n",
       "      <td>Constitution Day</td>\n",
       "      <td>2019-05-03</td>\n",
       "    </tr>\n",
       "    <tr>\n",
       "      <th>21</th>\n",
       "      <td>Constitution Day</td>\n",
       "      <td>2020-05-03</td>\n",
       "    </tr>\n",
       "    <tr>\n",
       "      <th>22</th>\n",
       "      <td>Constitution Day</td>\n",
       "      <td>2021-05-03</td>\n",
       "    </tr>\n",
       "    <tr>\n",
       "      <th>23</th>\n",
       "      <td>Constitution Day</td>\n",
       "      <td>2022-05-03</td>\n",
       "    </tr>\n",
       "    <tr>\n",
       "      <th>24</th>\n",
       "      <td>Pentecost Sunday</td>\n",
       "      <td>2019-06-09</td>\n",
       "    </tr>\n",
       "    <tr>\n",
       "      <th>25</th>\n",
       "      <td>Pentecost Sunday</td>\n",
       "      <td>2020-05-31</td>\n",
       "    </tr>\n",
       "    <tr>\n",
       "      <th>26</th>\n",
       "      <td>Pentecost Sunday</td>\n",
       "      <td>2021-05-23</td>\n",
       "    </tr>\n",
       "    <tr>\n",
       "      <th>27</th>\n",
       "      <td>Pentecost Sunday</td>\n",
       "      <td>2022-06-05</td>\n",
       "    </tr>\n",
       "    <tr>\n",
       "      <th>28</th>\n",
       "      <td>Corpus Christi</td>\n",
       "      <td>2019-06-20</td>\n",
       "    </tr>\n",
       "    <tr>\n",
       "      <th>29</th>\n",
       "      <td>Corpus Christi</td>\n",
       "      <td>2020-06-11</td>\n",
       "    </tr>\n",
       "    <tr>\n",
       "      <th>30</th>\n",
       "      <td>Corpus Christi</td>\n",
       "      <td>2021-06-03</td>\n",
       "    </tr>\n",
       "    <tr>\n",
       "      <th>31</th>\n",
       "      <td>Corpus Christi</td>\n",
       "      <td>2022-06-16</td>\n",
       "    </tr>\n",
       "    <tr>\n",
       "      <th>32</th>\n",
       "      <td>Assumption of the Blessed Virgin Mary</td>\n",
       "      <td>2019-08-15</td>\n",
       "    </tr>\n",
       "    <tr>\n",
       "      <th>33</th>\n",
       "      <td>Assumption of the Blessed Virgin Mary</td>\n",
       "      <td>2020-08-15</td>\n",
       "    </tr>\n",
       "    <tr>\n",
       "      <th>34</th>\n",
       "      <td>Assumption of the Blessed Virgin Mary</td>\n",
       "      <td>2021-08-15</td>\n",
       "    </tr>\n",
       "    <tr>\n",
       "      <th>35</th>\n",
       "      <td>Assumption of the Blessed Virgin Mary</td>\n",
       "      <td>2022-08-15</td>\n",
       "    </tr>\n",
       "    <tr>\n",
       "      <th>36</th>\n",
       "      <td>All Saints' Day</td>\n",
       "      <td>2019-11-01</td>\n",
       "    </tr>\n",
       "    <tr>\n",
       "      <th>37</th>\n",
       "      <td>All Saints' Day</td>\n",
       "      <td>2020-11-01</td>\n",
       "    </tr>\n",
       "    <tr>\n",
       "      <th>38</th>\n",
       "      <td>All Saints' Day</td>\n",
       "      <td>2021-11-01</td>\n",
       "    </tr>\n",
       "    <tr>\n",
       "      <th>39</th>\n",
       "      <td>All Saints' Day</td>\n",
       "      <td>2022-11-01</td>\n",
       "    </tr>\n",
       "    <tr>\n",
       "      <th>40</th>\n",
       "      <td>Independence Day</td>\n",
       "      <td>2019-11-11</td>\n",
       "    </tr>\n",
       "    <tr>\n",
       "      <th>41</th>\n",
       "      <td>Independence Day</td>\n",
       "      <td>2020-11-11</td>\n",
       "    </tr>\n",
       "    <tr>\n",
       "      <th>42</th>\n",
       "      <td>Independence Day</td>\n",
       "      <td>2021-11-11</td>\n",
       "    </tr>\n",
       "    <tr>\n",
       "      <th>43</th>\n",
       "      <td>Independence Day</td>\n",
       "      <td>2022-11-11</td>\n",
       "    </tr>\n",
       "    <tr>\n",
       "      <th>44</th>\n",
       "      <td>Christmas  Day</td>\n",
       "      <td>2019-12-25</td>\n",
       "    </tr>\n",
       "    <tr>\n",
       "      <th>45</th>\n",
       "      <td>Christmas  Day</td>\n",
       "      <td>2020-12-25</td>\n",
       "    </tr>\n",
       "    <tr>\n",
       "      <th>46</th>\n",
       "      <td>Christmas  Day</td>\n",
       "      <td>2021-12-25</td>\n",
       "    </tr>\n",
       "    <tr>\n",
       "      <th>47</th>\n",
       "      <td>Christmas  Day</td>\n",
       "      <td>2022-12-25</td>\n",
       "    </tr>\n",
       "    <tr>\n",
       "      <th>48</th>\n",
       "      <td>Boxing Day</td>\n",
       "      <td>2019-12-26</td>\n",
       "    </tr>\n",
       "    <tr>\n",
       "      <th>49</th>\n",
       "      <td>Boxing Day</td>\n",
       "      <td>2020-12-26</td>\n",
       "    </tr>\n",
       "    <tr>\n",
       "      <th>50</th>\n",
       "      <td>Boxing Day</td>\n",
       "      <td>2021-12-26</td>\n",
       "    </tr>\n",
       "    <tr>\n",
       "      <th>51</th>\n",
       "      <td>Boxing Day</td>\n",
       "      <td>2022-12-26</td>\n",
       "    </tr>\n",
       "  </tbody>\n",
       "</table>\n",
       "</div>"
      ],
      "text/plain": [
       "                                  holiday       date\n",
       "0                                New Year 2019-01-01\n",
       "1                                New Year 2020-01-01\n",
       "2                                New Year 2021-01-01\n",
       "3                                New Year 2022-01-01\n",
       "4                            Trzech Kroli 2019-01-06\n",
       "5                            Trzech Kroli 2020-01-06\n",
       "6                            Trzech Kroli 2021-01-06\n",
       "7                            Trzech Kroli 2022-01-06\n",
       "8                           Easter Sunday 2019-04-21\n",
       "9                           Easter Sunday 2020-04-12\n",
       "10                          Easter Sunday 2021-04-04\n",
       "11                          Easter Sunday 2022-04-17\n",
       "12                          Easter Monday 2019-04-22\n",
       "13                          Easter Monday 2020-04-13\n",
       "14                          Easter Monday 2021-04-05\n",
       "15                          Easter Monday 2022-04-18\n",
       "16                              Labor Day 2019-05-01\n",
       "17                              Labor Day 2020-05-01\n",
       "18                              Labor Day 2021-05-01\n",
       "19                              Labor Day 2022-05-01\n",
       "20                       Constitution Day 2019-05-03\n",
       "21                       Constitution Day 2020-05-03\n",
       "22                       Constitution Day 2021-05-03\n",
       "23                       Constitution Day 2022-05-03\n",
       "24                       Pentecost Sunday 2019-06-09\n",
       "25                       Pentecost Sunday 2020-05-31\n",
       "26                       Pentecost Sunday 2021-05-23\n",
       "27                       Pentecost Sunday 2022-06-05\n",
       "28                         Corpus Christi 2019-06-20\n",
       "29                         Corpus Christi 2020-06-11\n",
       "30                         Corpus Christi 2021-06-03\n",
       "31                         Corpus Christi 2022-06-16\n",
       "32  Assumption of the Blessed Virgin Mary 2019-08-15\n",
       "33  Assumption of the Blessed Virgin Mary 2020-08-15\n",
       "34  Assumption of the Blessed Virgin Mary 2021-08-15\n",
       "35  Assumption of the Blessed Virgin Mary 2022-08-15\n",
       "36                        All Saints' Day 2019-11-01\n",
       "37                        All Saints' Day 2020-11-01\n",
       "38                        All Saints' Day 2021-11-01\n",
       "39                        All Saints' Day 2022-11-01\n",
       "40                       Independence Day 2019-11-11\n",
       "41                       Independence Day 2020-11-11\n",
       "42                       Independence Day 2021-11-11\n",
       "43                       Independence Day 2022-11-11\n",
       "44                         Christmas  Day 2019-12-25\n",
       "45                         Christmas  Day 2020-12-25\n",
       "46                         Christmas  Day 2021-12-25\n",
       "47                         Christmas  Day 2022-12-25\n",
       "48                             Boxing Day 2019-12-26\n",
       "49                             Boxing Day 2020-12-26\n",
       "50                             Boxing Day 2021-12-26\n",
       "51                             Boxing Day 2022-12-26"
      ]
     },
     "execution_count": 36,
     "metadata": {},
     "output_type": "execute_result"
    }
   ],
   "source": [
    "holidays"
   ]
  },
  {
   "cell_type": "code",
   "execution_count": 37,
   "id": "be01bd4b",
   "metadata": {
    "pycharm": {
     "name": "#%%\n"
    }
   },
   "outputs": [
    {
     "name": "stdout",
     "output_type": "stream",
     "text": [
      "[datetime.datetime(2022, 1, 2, 0, 0), datetime.datetime(2022, 1, 9, 0, 0), datetime.datetime(2022, 1, 16, 0, 0), datetime.datetime(2022, 1, 23, 0, 0), datetime.datetime(2022, 1, 30, 0, 0), datetime.datetime(2022, 2, 6, 0, 0), datetime.datetime(2022, 2, 13, 0, 0), datetime.datetime(2022, 2, 20, 0, 0), datetime.datetime(2022, 2, 27, 0, 0), datetime.datetime(2022, 3, 6, 0, 0), datetime.datetime(2022, 3, 13, 0, 0), datetime.datetime(2022, 3, 20, 0, 0), datetime.datetime(2022, 3, 27, 0, 0), datetime.datetime(2022, 4, 3, 0, 0), datetime.datetime(2022, 4, 10, 0, 0), datetime.datetime(2022, 4, 17, 0, 0), datetime.datetime(2022, 4, 24, 0, 0), datetime.datetime(2022, 5, 1, 0, 0), datetime.datetime(2022, 5, 8, 0, 0), datetime.datetime(2022, 5, 15, 0, 0), datetime.datetime(2022, 5, 22, 0, 0), datetime.datetime(2022, 5, 29, 0, 0), datetime.datetime(2022, 6, 5, 0, 0), datetime.datetime(2022, 6, 12, 0, 0), datetime.datetime(2022, 6, 19, 0, 0), datetime.datetime(2022, 6, 26, 0, 0), datetime.datetime(2022, 7, 3, 0, 0), datetime.datetime(2022, 7, 10, 0, 0), datetime.datetime(2022, 7, 17, 0, 0), datetime.datetime(2022, 7, 24, 0, 0), datetime.datetime(2022, 7, 31, 0, 0), datetime.datetime(2022, 8, 7, 0, 0), datetime.datetime(2022, 8, 14, 0, 0), datetime.datetime(2022, 8, 21, 0, 0), datetime.datetime(2022, 8, 28, 0, 0), datetime.datetime(2022, 9, 4, 0, 0), datetime.datetime(2022, 9, 11, 0, 0), datetime.datetime(2022, 9, 18, 0, 0), datetime.datetime(2022, 9, 25, 0, 0), datetime.datetime(2022, 10, 2, 0, 0), datetime.datetime(2022, 10, 9, 0, 0), datetime.datetime(2022, 10, 16, 0, 0), datetime.datetime(2022, 10, 23, 0, 0), datetime.datetime(2022, 10, 30, 0, 0), datetime.datetime(2022, 11, 6, 0, 0), datetime.datetime(2022, 11, 13, 0, 0), datetime.datetime(2022, 11, 20, 0, 0), datetime.datetime(2022, 11, 27, 0, 0), datetime.datetime(2022, 12, 4, 0, 0), datetime.datetime(2022, 12, 11, 0, 0), datetime.datetime(2022, 12, 18, 0, 0), datetime.datetime(2022, 12, 25, 0, 0)]\n"
     ]
    }
   ],
   "source": [
    "# import dateutil.relativedelta as relativedelta\n",
    "# import dateutil.rrule as rrule\n",
    "# import datetime\n",
    "year=2022\n",
    "before=datetime(year,1,1)\n",
    "after=datetime(year,12,31)\n",
    "rr = rrule.rrule(rrule.WEEKLY, byweekday=SU, dtstart=before)\n",
    "print(rr.between(before, after, inc=True))"
   ]
  },
  {
   "cell_type": "code",
   "execution_count": 38,
   "id": "a7e805f4",
   "metadata": {
    "pycharm": {
     "name": "#%%\n"
    }
   },
   "outputs": [
    {
     "data": {
      "text/plain": [
       "range(2019, 2023)"
      ]
     },
     "execution_count": 38,
     "metadata": {},
     "output_type": "execute_result"
    }
   ],
   "source": [
    "years"
   ]
  },
  {
   "cell_type": "code",
   "execution_count": 39,
   "id": "6edc469b",
   "metadata": {
    "pycharm": {
     "name": "#%%\n"
    }
   },
   "outputs": [
    {
     "data": {
      "text/plain": [
       "2019"
      ]
     },
     "execution_count": 39,
     "metadata": {},
     "output_type": "execute_result"
    }
   ],
   "source": [
    "min(years)"
   ]
  },
  {
   "cell_type": "code",
   "execution_count": 40,
   "id": "d880cccb",
   "metadata": {
    "pycharm": {
     "name": "#%%\n"
    }
   },
   "outputs": [
    {
     "data": {
      "text/plain": [
       "2022"
      ]
     },
     "execution_count": 40,
     "metadata": {},
     "output_type": "execute_result"
    }
   ],
   "source": [
    "max(years)"
   ]
  },
  {
   "cell_type": "code",
   "execution_count": 41,
   "id": "4cf88fed",
   "metadata": {
    "pycharm": {
     "name": "#%%\n"
    }
   },
   "outputs": [],
   "source": [
    "def get_sundays(years):\n",
    "    \"\"\" Returns Sundays \"\"\"\n",
    "\n",
    "    before=datetime(min(years), 1, 1)\n",
    "    after=datetime(max(years), 12, 31)\n",
    "    rr = rrule.rrule(rrule.WEEKLY, byweekday=SU, dtstart=before)\n",
    "\n",
    "    output = pd.DataFrame(rr.between(before, after, inc=True), columns=['date'])\n",
    "    output['holiday'] = 'Sunday'\n",
    "    \n",
    "    print(output.head())\n",
    "\n",
    "    return output"
   ]
  },
  {
   "cell_type": "code",
   "execution_count": 42,
   "id": "04d02f6c",
   "metadata": {
    "pycharm": {
     "name": "#%%\n"
    }
   },
   "outputs": [
    {
     "name": "stdout",
     "output_type": "stream",
     "text": [
      "        date holiday\n",
      "0 2019-01-06  Sunday\n",
      "1 2019-01-13  Sunday\n",
      "2 2019-01-20  Sunday\n",
      "3 2019-01-27  Sunday\n",
      "4 2019-02-03  Sunday\n"
     ]
    }
   ],
   "source": [
    "sundays = get_sundays(years)"
   ]
  },
  {
   "cell_type": "code",
   "execution_count": 43,
   "id": "fc3980b8",
   "metadata": {
    "pycharm": {
     "name": "#%%\n"
    }
   },
   "outputs": [
    {
     "data": {
      "text/html": [
       "<div>\n",
       "<style scoped>\n",
       "    .dataframe tbody tr th:only-of-type {\n",
       "        vertical-align: middle;\n",
       "    }\n",
       "\n",
       "    .dataframe tbody tr th {\n",
       "        vertical-align: top;\n",
       "    }\n",
       "\n",
       "    .dataframe thead th {\n",
       "        text-align: right;\n",
       "    }\n",
       "</style>\n",
       "<table border=\"1\" class=\"dataframe\">\n",
       "  <thead>\n",
       "    <tr style=\"text-align: right;\">\n",
       "      <th></th>\n",
       "      <th>date</th>\n",
       "      <th>holiday</th>\n",
       "    </tr>\n",
       "  </thead>\n",
       "  <tbody>\n",
       "    <tr>\n",
       "      <th>0</th>\n",
       "      <td>2019-01-06</td>\n",
       "      <td>Sunday</td>\n",
       "    </tr>\n",
       "    <tr>\n",
       "      <th>1</th>\n",
       "      <td>2019-01-13</td>\n",
       "      <td>Sunday</td>\n",
       "    </tr>\n",
       "    <tr>\n",
       "      <th>2</th>\n",
       "      <td>2019-01-20</td>\n",
       "      <td>Sunday</td>\n",
       "    </tr>\n",
       "    <tr>\n",
       "      <th>3</th>\n",
       "      <td>2019-01-27</td>\n",
       "      <td>Sunday</td>\n",
       "    </tr>\n",
       "    <tr>\n",
       "      <th>4</th>\n",
       "      <td>2019-02-03</td>\n",
       "      <td>Sunday</td>\n",
       "    </tr>\n",
       "    <tr>\n",
       "      <th>...</th>\n",
       "      <td>...</td>\n",
       "      <td>...</td>\n",
       "    </tr>\n",
       "    <tr>\n",
       "      <th>203</th>\n",
       "      <td>2022-11-27</td>\n",
       "      <td>Sunday</td>\n",
       "    </tr>\n",
       "    <tr>\n",
       "      <th>204</th>\n",
       "      <td>2022-12-04</td>\n",
       "      <td>Sunday</td>\n",
       "    </tr>\n",
       "    <tr>\n",
       "      <th>205</th>\n",
       "      <td>2022-12-11</td>\n",
       "      <td>Sunday</td>\n",
       "    </tr>\n",
       "    <tr>\n",
       "      <th>206</th>\n",
       "      <td>2022-12-18</td>\n",
       "      <td>Sunday</td>\n",
       "    </tr>\n",
       "    <tr>\n",
       "      <th>207</th>\n",
       "      <td>2022-12-25</td>\n",
       "      <td>Sunday</td>\n",
       "    </tr>\n",
       "  </tbody>\n",
       "</table>\n",
       "<p>208 rows × 2 columns</p>\n",
       "</div>"
      ],
      "text/plain": [
       "          date holiday\n",
       "0   2019-01-06  Sunday\n",
       "1   2019-01-13  Sunday\n",
       "2   2019-01-20  Sunday\n",
       "3   2019-01-27  Sunday\n",
       "4   2019-02-03  Sunday\n",
       "..         ...     ...\n",
       "203 2022-11-27  Sunday\n",
       "204 2022-12-04  Sunday\n",
       "205 2022-12-11  Sunday\n",
       "206 2022-12-18  Sunday\n",
       "207 2022-12-25  Sunday\n",
       "\n",
       "[208 rows x 2 columns]"
      ]
     },
     "execution_count": 43,
     "metadata": {},
     "output_type": "execute_result"
    }
   ],
   "source": [
    "sundays"
   ]
  },
  {
   "cell_type": "code",
   "execution_count": 44,
   "id": "94d2e4ef",
   "metadata": {
    "pycharm": {
     "name": "#%%\n"
    }
   },
   "outputs": [
    {
     "name": "stdout",
     "output_type": "stream",
     "text": [
      "<class 'pandas.core.frame.DataFrame'>\n",
      "RangeIndex: 52 entries, 0 to 51\n",
      "Data columns (total 2 columns):\n",
      " #   Column   Non-Null Count  Dtype         \n",
      "---  ------   --------------  -----         \n",
      " 0   holiday  52 non-null     object        \n",
      " 1   date     52 non-null     datetime64[ns]\n",
      "dtypes: datetime64[ns](1), object(1)\n",
      "memory usage: 960.0+ bytes\n"
     ]
    }
   ],
   "source": [
    "holidays.info()"
   ]
  },
  {
   "cell_type": "code",
   "execution_count": 45,
   "id": "7482447a",
   "metadata": {
    "pycharm": {
     "name": "#%%\n"
    }
   },
   "outputs": [
    {
     "name": "stdout",
     "output_type": "stream",
     "text": [
      "<class 'pandas.core.frame.DataFrame'>\n",
      "RangeIndex: 208 entries, 0 to 207\n",
      "Data columns (total 2 columns):\n",
      " #   Column   Non-Null Count  Dtype         \n",
      "---  ------   --------------  -----         \n",
      " 0   date     208 non-null    datetime64[ns]\n",
      " 1   holiday  208 non-null    object        \n",
      "dtypes: datetime64[ns](1), object(1)\n",
      "memory usage: 3.4+ KB\n"
     ]
    }
   ],
   "source": [
    "sundays.info()"
   ]
  },
  {
   "cell_type": "code",
   "execution_count": 46,
   "id": "1044c420",
   "metadata": {
    "pycharm": {
     "name": "#%%\n"
    }
   },
   "outputs": [],
   "source": [
    "calendar = pd.concat([holidays, sundays], ignore_index=True)"
   ]
  },
  {
   "cell_type": "code",
   "execution_count": 47,
   "id": "8440f61d",
   "metadata": {
    "pycharm": {
     "name": "#%%\n"
    }
   },
   "outputs": [
    {
     "data": {
      "text/html": [
       "<div>\n",
       "<style scoped>\n",
       "    .dataframe tbody tr th:only-of-type {\n",
       "        vertical-align: middle;\n",
       "    }\n",
       "\n",
       "    .dataframe tbody tr th {\n",
       "        vertical-align: top;\n",
       "    }\n",
       "\n",
       "    .dataframe thead th {\n",
       "        text-align: right;\n",
       "    }\n",
       "</style>\n",
       "<table border=\"1\" class=\"dataframe\">\n",
       "  <thead>\n",
       "    <tr style=\"text-align: right;\">\n",
       "      <th></th>\n",
       "      <th>holiday</th>\n",
       "      <th>date</th>\n",
       "    </tr>\n",
       "  </thead>\n",
       "  <tbody>\n",
       "    <tr>\n",
       "      <th>0</th>\n",
       "      <td>New Year</td>\n",
       "      <td>2019-01-01</td>\n",
       "    </tr>\n",
       "    <tr>\n",
       "      <th>1</th>\n",
       "      <td>New Year</td>\n",
       "      <td>2020-01-01</td>\n",
       "    </tr>\n",
       "    <tr>\n",
       "      <th>2</th>\n",
       "      <td>New Year</td>\n",
       "      <td>2021-01-01</td>\n",
       "    </tr>\n",
       "    <tr>\n",
       "      <th>3</th>\n",
       "      <td>New Year</td>\n",
       "      <td>2022-01-01</td>\n",
       "    </tr>\n",
       "    <tr>\n",
       "      <th>4</th>\n",
       "      <td>Trzech Kroli</td>\n",
       "      <td>2019-01-06</td>\n",
       "    </tr>\n",
       "    <tr>\n",
       "      <th>...</th>\n",
       "      <td>...</td>\n",
       "      <td>...</td>\n",
       "    </tr>\n",
       "    <tr>\n",
       "      <th>255</th>\n",
       "      <td>Sunday</td>\n",
       "      <td>2022-11-27</td>\n",
       "    </tr>\n",
       "    <tr>\n",
       "      <th>256</th>\n",
       "      <td>Sunday</td>\n",
       "      <td>2022-12-04</td>\n",
       "    </tr>\n",
       "    <tr>\n",
       "      <th>257</th>\n",
       "      <td>Sunday</td>\n",
       "      <td>2022-12-11</td>\n",
       "    </tr>\n",
       "    <tr>\n",
       "      <th>258</th>\n",
       "      <td>Sunday</td>\n",
       "      <td>2022-12-18</td>\n",
       "    </tr>\n",
       "    <tr>\n",
       "      <th>259</th>\n",
       "      <td>Sunday</td>\n",
       "      <td>2022-12-25</td>\n",
       "    </tr>\n",
       "  </tbody>\n",
       "</table>\n",
       "<p>260 rows × 2 columns</p>\n",
       "</div>"
      ],
      "text/plain": [
       "          holiday       date\n",
       "0        New Year 2019-01-01\n",
       "1        New Year 2020-01-01\n",
       "2        New Year 2021-01-01\n",
       "3        New Year 2022-01-01\n",
       "4    Trzech Kroli 2019-01-06\n",
       "..            ...        ...\n",
       "255        Sunday 2022-11-27\n",
       "256        Sunday 2022-12-04\n",
       "257        Sunday 2022-12-11\n",
       "258        Sunday 2022-12-18\n",
       "259        Sunday 2022-12-25\n",
       "\n",
       "[260 rows x 2 columns]"
      ]
     },
     "execution_count": 47,
     "metadata": {},
     "output_type": "execute_result"
    }
   ],
   "source": [
    "calendar"
   ]
  },
  {
   "cell_type": "code",
   "execution_count": 48,
   "id": "9a51cdec",
   "metadata": {
    "pycharm": {
     "name": "#%%\n"
    }
   },
   "outputs": [
    {
     "name": "stdout",
     "output_type": "stream",
     "text": [
      "total 1.5M\r\n",
      "drwxrwxrwx 1 root   root   512 Sep  4 03:44 \u001b[0m\u001b[34;42m.\u001b[0m/\r\n",
      "drwsrwsr-x 1 jovyan users 4.0K Sep  2 21:33 \u001b[01;34m..\u001b[0m/\r\n",
      "-rwxrwxrwx 1 root   root  1.6M Sep  4 03:21 \u001b[01;32m202209040523_nbp_exchangerates.csv\u001b[0m*\r\n",
      "-rwxrwxrwx 1 root   root  1.8M Sep  3 05:46 \u001b[01;32mexcursions_data.csv\u001b[0m*\r\n",
      "-rwxrwxrwx 1 root   root   12K Aug 24 06:46 \u001b[01;32mhello-world-notebook.ipynb\u001b[0m*\r\n",
      "-rw-r--r-- 1 jovyan users 119K Sep  4 03:44 holidays_and_sundays_pl.ipynb\r\n",
      "drwxrwxrwx 1 root   root   512 Aug 31 16:52 \u001b[34;42m.ipynb_checkpoints\u001b[0m/\r\n",
      "-rwxrwxrwx 1 root   root   19K Jun  5 16:49 \u001b[01;32mload-postgres-notebook.ipynb\u001b[0m*\r\n",
      "-rwxrwxrwx 1 root   root  203K Sep  1 17:12 \u001b[01;32mnbp_exchangerates.csv\u001b[0m*\r\n",
      "-rw-r--r-- 1 jovyan users 197K Sep  3 12:52 nbp_exchange_rates.ipynb\r\n",
      "-rwxrwxrwx 1 root   root  3.8K Jun  5 16:58 \u001b[01;32mread-postgres-notebook.ipynb\u001b[0m*\r\n",
      "-rw-r--r-- 1 jovyan users   21 Sep  4 03:34 test.py\r\n"
     ]
    }
   ],
   "source": [
    "ls -lah"
   ]
  },
  {
   "cell_type": "code",
   "execution_count": 49,
   "id": "cc1886d6",
   "metadata": {
    "pycharm": {
     "name": "#%%\n"
    }
   },
   "outputs": [
    {
     "name": "stdout",
     "output_type": "stream",
     "text": [
      "jovyan\r\n"
     ]
    }
   ],
   "source": [
    "!whoami"
   ]
  },
  {
   "cell_type": "code",
   "execution_count": 50,
   "id": "eb3f563e",
   "metadata": {
    "pycharm": {
     "name": "#%%\n"
    }
   },
   "outputs": [
    {
     "name": "stdout",
     "output_type": "stream",
     "text": [
      "Overwriting test.py\n"
     ]
    }
   ],
   "source": [
    "%%writefile test.py\n",
    "print('hello_world')"
   ]
  },
  {
   "cell_type": "code",
   "execution_count": 51,
   "id": "fa4733bf",
   "metadata": {
    "pycharm": {
     "name": "#%%\n"
    }
   },
   "outputs": [
    {
     "data": {
      "text/plain": [
       "'2022-08-29'"
      ]
     },
     "execution_count": 51,
     "metadata": {},
     "output_type": "execute_result"
    }
   ],
   "source": [
    "monday = '2022-08-29'\n",
    "monday"
   ]
  },
  {
   "cell_type": "code",
   "execution_count": 52,
   "id": "68c1af1c",
   "metadata": {},
   "outputs": [
    {
     "data": {
      "text/plain": [
       "Timestamp('2022-08-29 00:00:00')"
      ]
     },
     "execution_count": 52,
     "metadata": {},
     "output_type": "execute_result"
    }
   ],
   "source": [
    "current_dttm = pd.to_datetime(monday)\n",
    "current_dttm"
   ]
  },
  {
   "cell_type": "code",
   "execution_count": 53,
   "id": "5d76307b",
   "metadata": {},
   "outputs": [
    {
     "data": {
      "text/plain": [
       "Timestamp('2022-08-28 00:00:00')"
      ]
     },
     "execution_count": 53,
     "metadata": {},
     "output_type": "execute_result"
    }
   ],
   "source": [
    "# dt_minus_one = (current_dttm - timedelta(days=1)).strftime(\"%Y-%m-%d\")\n",
    "dt_minus_one = (current_dttm - timedelta(days=1))\n",
    "dt_minus_one"
   ]
  },
  {
   "cell_type": "code",
   "execution_count": 54,
   "id": "a6e57d3b",
   "metadata": {},
   "outputs": [
    {
     "name": "stdout",
     "output_type": "stream",
     "text": [
      "2022-08-29\n",
      "nie ma\n"
     ]
    }
   ],
   "source": [
    "print(monday)\n",
    "if monday in sorted(set(calendar['date'])):\n",
    "    print('jest')\n",
    "else:\n",
    "    print('nie ma')"
   ]
  },
  {
   "cell_type": "code",
   "execution_count": 55,
   "id": "1cfd38bd",
   "metadata": {},
   "outputs": [
    {
     "name": "stdout",
     "output_type": "stream",
     "text": [
      "2022-08-28 00:00:00\n",
      "jest\n"
     ]
    }
   ],
   "source": [
    "print(dt_minus_one)\n",
    "if dt_minus_one in sorted(set(calendar['date'])):\n",
    "    print('jest')\n",
    "else:\n",
    "    print('nie ma')"
   ]
  },
  {
   "cell_type": "code",
   "execution_count": 56,
   "id": "3dc88e2f",
   "metadata": {},
   "outputs": [
    {
     "data": {
      "text/html": [
       "<div>\n",
       "<style scoped>\n",
       "    .dataframe tbody tr th:only-of-type {\n",
       "        vertical-align: middle;\n",
       "    }\n",
       "\n",
       "    .dataframe tbody tr th {\n",
       "        vertical-align: top;\n",
       "    }\n",
       "\n",
       "    .dataframe thead th {\n",
       "        text-align: right;\n",
       "    }\n",
       "</style>\n",
       "<table border=\"1\" class=\"dataframe\">\n",
       "  <thead>\n",
       "    <tr style=\"text-align: right;\">\n",
       "      <th></th>\n",
       "      <th>holiday</th>\n",
       "      <th>date</th>\n",
       "    </tr>\n",
       "  </thead>\n",
       "  <tbody>\n",
       "    <tr>\n",
       "      <th>0</th>\n",
       "      <td>New Year</td>\n",
       "      <td>2019-01-01</td>\n",
       "    </tr>\n",
       "    <tr>\n",
       "      <th>1</th>\n",
       "      <td>New Year</td>\n",
       "      <td>2020-01-01</td>\n",
       "    </tr>\n",
       "    <tr>\n",
       "      <th>2</th>\n",
       "      <td>New Year</td>\n",
       "      <td>2021-01-01</td>\n",
       "    </tr>\n",
       "    <tr>\n",
       "      <th>3</th>\n",
       "      <td>New Year</td>\n",
       "      <td>2022-01-01</td>\n",
       "    </tr>\n",
       "    <tr>\n",
       "      <th>4</th>\n",
       "      <td>Trzech Kroli</td>\n",
       "      <td>2019-01-06</td>\n",
       "    </tr>\n",
       "    <tr>\n",
       "      <th>...</th>\n",
       "      <td>...</td>\n",
       "      <td>...</td>\n",
       "    </tr>\n",
       "    <tr>\n",
       "      <th>237</th>\n",
       "      <td>Sunday</td>\n",
       "      <td>2022-07-24</td>\n",
       "    </tr>\n",
       "    <tr>\n",
       "      <th>238</th>\n",
       "      <td>Sunday</td>\n",
       "      <td>2022-07-31</td>\n",
       "    </tr>\n",
       "    <tr>\n",
       "      <th>239</th>\n",
       "      <td>Sunday</td>\n",
       "      <td>2022-08-07</td>\n",
       "    </tr>\n",
       "    <tr>\n",
       "      <th>240</th>\n",
       "      <td>Sunday</td>\n",
       "      <td>2022-08-14</td>\n",
       "    </tr>\n",
       "    <tr>\n",
       "      <th>241</th>\n",
       "      <td>Sunday</td>\n",
       "      <td>2022-08-21</td>\n",
       "    </tr>\n",
       "  </tbody>\n",
       "</table>\n",
       "<p>238 rows × 2 columns</p>\n",
       "</div>"
      ],
      "text/plain": [
       "          holiday       date\n",
       "0        New Year 2019-01-01\n",
       "1        New Year 2020-01-01\n",
       "2        New Year 2021-01-01\n",
       "3        New Year 2022-01-01\n",
       "4    Trzech Kroli 2019-01-06\n",
       "..            ...        ...\n",
       "237        Sunday 2022-07-24\n",
       "238        Sunday 2022-07-31\n",
       "239        Sunday 2022-08-07\n",
       "240        Sunday 2022-08-14\n",
       "241        Sunday 2022-08-21\n",
       "\n",
       "[238 rows x 2 columns]"
      ]
     },
     "execution_count": 56,
     "metadata": {},
     "output_type": "execute_result"
    }
   ],
   "source": [
    "calendar[calendar['date'] <  dt_minus_one]"
   ]
  },
  {
   "cell_type": "code",
   "execution_count": 57,
   "id": "facbbe68",
   "metadata": {},
   "outputs": [
    {
     "name": "stdout",
     "output_type": "stream",
     "text": [
      "Number of business days is: 20\n"
     ]
    }
   ],
   "source": [
    "import datetime\n",
    "import numpy as np\n",
    "\n",
    "start = datetime.date(2022, 2, 15)\n",
    "end = datetime.date(2022, 3, 16)\n",
    "\n",
    "# include holidays in a list\n",
    "days = np.busday_count(start, end, holidays=['2022-02-21'])\n",
    "print('Number of business days is:', days)"
   ]
  },
  {
   "cell_type": "code",
   "execution_count": 58,
   "id": "90a0f33a",
   "metadata": {},
   "outputs": [],
   "source": [
    "bdd = np.busdaycalendar(\n",
    "            holidays=['2011-07-01', '2011-07-04', '2011-07-17'])"
   ]
  },
  {
   "cell_type": "code",
   "execution_count": 59,
   "id": "45c5561d",
   "metadata": {},
   "outputs": [
    {
     "data": {
      "text/plain": [
       "array([ True,  True,  True,  True,  True, False, False])"
      ]
     },
     "execution_count": 59,
     "metadata": {},
     "output_type": "execute_result"
    }
   ],
   "source": [
    "bdd.weekmask"
   ]
  },
  {
   "cell_type": "code",
   "execution_count": 60,
   "id": "afde8055",
   "metadata": {},
   "outputs": [
    {
     "name": "stderr",
     "output_type": "stream",
     "text": [
      "/tmp/ipykernel_62/647495292.py:6: FutureWarning: The pandas.datetime class is deprecated and will be removed from pandas in a future version. Import from datetime module instead.\n",
      "  july_5 = pd.datetime(2018, 7, 5)\n"
     ]
    }
   ],
   "source": [
    "import pandas as pd\n",
    "from pandas.tseries.holiday import USFederalHolidayCalendar\n",
    "from pandas.tseries.offsets import CustomBusinessDay\n",
    "US_BUSINESS_DAY = CustomBusinessDay(calendar=USFederalHolidayCalendar())\n",
    "\n",
    "july_5 = pd.datetime(2018, 7, 5)\n",
    "result = july_5 - 2 * US_BUSINESS_DAY # 2018-7-2"
   ]
  },
  {
   "cell_type": "code",
   "execution_count": 61,
   "id": "051ae54f",
   "metadata": {},
   "outputs": [
    {
     "data": {
      "text/plain": [
       "Timestamp('2018-07-02 00:00:00')"
      ]
     },
     "execution_count": 61,
     "metadata": {},
     "output_type": "execute_result"
    }
   ],
   "source": [
    "result"
   ]
  },
  {
   "cell_type": "code",
   "execution_count": 62,
   "id": "61ffe4cd",
   "metadata": {},
   "outputs": [],
   "source": [
    "holidays = calendar['date']"
   ]
  },
  {
   "cell_type": "code",
   "execution_count": 63,
   "id": "58608ae3",
   "metadata": {},
   "outputs": [
    {
     "data": {
      "text/plain": [
       "[Timestamp('2019-01-01 00:00:00'),\n",
       " Timestamp('2020-01-01 00:00:00'),\n",
       " Timestamp('2021-01-01 00:00:00'),\n",
       " Timestamp('2022-01-01 00:00:00'),\n",
       " Timestamp('2019-01-06 00:00:00'),\n",
       " Timestamp('2020-01-06 00:00:00'),\n",
       " Timestamp('2021-01-06 00:00:00'),\n",
       " Timestamp('2022-01-06 00:00:00'),\n",
       " Timestamp('2019-04-21 00:00:00'),\n",
       " Timestamp('2020-04-12 00:00:00'),\n",
       " Timestamp('2021-04-04 00:00:00'),\n",
       " Timestamp('2022-04-17 00:00:00'),\n",
       " Timestamp('2019-04-22 00:00:00'),\n",
       " Timestamp('2020-04-13 00:00:00'),\n",
       " Timestamp('2021-04-05 00:00:00'),\n",
       " Timestamp('2022-04-18 00:00:00'),\n",
       " Timestamp('2019-05-01 00:00:00'),\n",
       " Timestamp('2020-05-01 00:00:00'),\n",
       " Timestamp('2021-05-01 00:00:00'),\n",
       " Timestamp('2022-05-01 00:00:00'),\n",
       " Timestamp('2019-05-03 00:00:00'),\n",
       " Timestamp('2020-05-03 00:00:00'),\n",
       " Timestamp('2021-05-03 00:00:00'),\n",
       " Timestamp('2022-05-03 00:00:00'),\n",
       " Timestamp('2019-06-09 00:00:00'),\n",
       " Timestamp('2020-05-31 00:00:00'),\n",
       " Timestamp('2021-05-23 00:00:00'),\n",
       " Timestamp('2022-06-05 00:00:00'),\n",
       " Timestamp('2019-06-20 00:00:00'),\n",
       " Timestamp('2020-06-11 00:00:00'),\n",
       " Timestamp('2021-06-03 00:00:00'),\n",
       " Timestamp('2022-06-16 00:00:00'),\n",
       " Timestamp('2019-08-15 00:00:00'),\n",
       " Timestamp('2020-08-15 00:00:00'),\n",
       " Timestamp('2021-08-15 00:00:00'),\n",
       " Timestamp('2022-08-15 00:00:00'),\n",
       " Timestamp('2019-11-01 00:00:00'),\n",
       " Timestamp('2020-11-01 00:00:00'),\n",
       " Timestamp('2021-11-01 00:00:00'),\n",
       " Timestamp('2022-11-01 00:00:00'),\n",
       " Timestamp('2019-11-11 00:00:00'),\n",
       " Timestamp('2020-11-11 00:00:00'),\n",
       " Timestamp('2021-11-11 00:00:00'),\n",
       " Timestamp('2022-11-11 00:00:00'),\n",
       " Timestamp('2019-12-25 00:00:00'),\n",
       " Timestamp('2020-12-25 00:00:00'),\n",
       " Timestamp('2021-12-25 00:00:00'),\n",
       " Timestamp('2022-12-25 00:00:00'),\n",
       " Timestamp('2019-12-26 00:00:00'),\n",
       " Timestamp('2020-12-26 00:00:00'),\n",
       " Timestamp('2021-12-26 00:00:00'),\n",
       " Timestamp('2022-12-26 00:00:00'),\n",
       " Timestamp('2019-01-06 00:00:00'),\n",
       " Timestamp('2019-01-13 00:00:00'),\n",
       " Timestamp('2019-01-20 00:00:00'),\n",
       " Timestamp('2019-01-27 00:00:00'),\n",
       " Timestamp('2019-02-03 00:00:00'),\n",
       " Timestamp('2019-02-10 00:00:00'),\n",
       " Timestamp('2019-02-17 00:00:00'),\n",
       " Timestamp('2019-02-24 00:00:00'),\n",
       " Timestamp('2019-03-03 00:00:00'),\n",
       " Timestamp('2019-03-10 00:00:00'),\n",
       " Timestamp('2019-03-17 00:00:00'),\n",
       " Timestamp('2019-03-24 00:00:00'),\n",
       " Timestamp('2019-03-31 00:00:00'),\n",
       " Timestamp('2019-04-07 00:00:00'),\n",
       " Timestamp('2019-04-14 00:00:00'),\n",
       " Timestamp('2019-04-21 00:00:00'),\n",
       " Timestamp('2019-04-28 00:00:00'),\n",
       " Timestamp('2019-05-05 00:00:00'),\n",
       " Timestamp('2019-05-12 00:00:00'),\n",
       " Timestamp('2019-05-19 00:00:00'),\n",
       " Timestamp('2019-05-26 00:00:00'),\n",
       " Timestamp('2019-06-02 00:00:00'),\n",
       " Timestamp('2019-06-09 00:00:00'),\n",
       " Timestamp('2019-06-16 00:00:00'),\n",
       " Timestamp('2019-06-23 00:00:00'),\n",
       " Timestamp('2019-06-30 00:00:00'),\n",
       " Timestamp('2019-07-07 00:00:00'),\n",
       " Timestamp('2019-07-14 00:00:00'),\n",
       " Timestamp('2019-07-21 00:00:00'),\n",
       " Timestamp('2019-07-28 00:00:00'),\n",
       " Timestamp('2019-08-04 00:00:00'),\n",
       " Timestamp('2019-08-11 00:00:00'),\n",
       " Timestamp('2019-08-18 00:00:00'),\n",
       " Timestamp('2019-08-25 00:00:00'),\n",
       " Timestamp('2019-09-01 00:00:00'),\n",
       " Timestamp('2019-09-08 00:00:00'),\n",
       " Timestamp('2019-09-15 00:00:00'),\n",
       " Timestamp('2019-09-22 00:00:00'),\n",
       " Timestamp('2019-09-29 00:00:00'),\n",
       " Timestamp('2019-10-06 00:00:00'),\n",
       " Timestamp('2019-10-13 00:00:00'),\n",
       " Timestamp('2019-10-20 00:00:00'),\n",
       " Timestamp('2019-10-27 00:00:00'),\n",
       " Timestamp('2019-11-03 00:00:00'),\n",
       " Timestamp('2019-11-10 00:00:00'),\n",
       " Timestamp('2019-11-17 00:00:00'),\n",
       " Timestamp('2019-11-24 00:00:00'),\n",
       " Timestamp('2019-12-01 00:00:00'),\n",
       " Timestamp('2019-12-08 00:00:00'),\n",
       " Timestamp('2019-12-15 00:00:00'),\n",
       " Timestamp('2019-12-22 00:00:00'),\n",
       " Timestamp('2019-12-29 00:00:00'),\n",
       " Timestamp('2020-01-05 00:00:00'),\n",
       " Timestamp('2020-01-12 00:00:00'),\n",
       " Timestamp('2020-01-19 00:00:00'),\n",
       " Timestamp('2020-01-26 00:00:00'),\n",
       " Timestamp('2020-02-02 00:00:00'),\n",
       " Timestamp('2020-02-09 00:00:00'),\n",
       " Timestamp('2020-02-16 00:00:00'),\n",
       " Timestamp('2020-02-23 00:00:00'),\n",
       " Timestamp('2020-03-01 00:00:00'),\n",
       " Timestamp('2020-03-08 00:00:00'),\n",
       " Timestamp('2020-03-15 00:00:00'),\n",
       " Timestamp('2020-03-22 00:00:00'),\n",
       " Timestamp('2020-03-29 00:00:00'),\n",
       " Timestamp('2020-04-05 00:00:00'),\n",
       " Timestamp('2020-04-12 00:00:00'),\n",
       " Timestamp('2020-04-19 00:00:00'),\n",
       " Timestamp('2020-04-26 00:00:00'),\n",
       " Timestamp('2020-05-03 00:00:00'),\n",
       " Timestamp('2020-05-10 00:00:00'),\n",
       " Timestamp('2020-05-17 00:00:00'),\n",
       " Timestamp('2020-05-24 00:00:00'),\n",
       " Timestamp('2020-05-31 00:00:00'),\n",
       " Timestamp('2020-06-07 00:00:00'),\n",
       " Timestamp('2020-06-14 00:00:00'),\n",
       " Timestamp('2020-06-21 00:00:00'),\n",
       " Timestamp('2020-06-28 00:00:00'),\n",
       " Timestamp('2020-07-05 00:00:00'),\n",
       " Timestamp('2020-07-12 00:00:00'),\n",
       " Timestamp('2020-07-19 00:00:00'),\n",
       " Timestamp('2020-07-26 00:00:00'),\n",
       " Timestamp('2020-08-02 00:00:00'),\n",
       " Timestamp('2020-08-09 00:00:00'),\n",
       " Timestamp('2020-08-16 00:00:00'),\n",
       " Timestamp('2020-08-23 00:00:00'),\n",
       " Timestamp('2020-08-30 00:00:00'),\n",
       " Timestamp('2020-09-06 00:00:00'),\n",
       " Timestamp('2020-09-13 00:00:00'),\n",
       " Timestamp('2020-09-20 00:00:00'),\n",
       " Timestamp('2020-09-27 00:00:00'),\n",
       " Timestamp('2020-10-04 00:00:00'),\n",
       " Timestamp('2020-10-11 00:00:00'),\n",
       " Timestamp('2020-10-18 00:00:00'),\n",
       " Timestamp('2020-10-25 00:00:00'),\n",
       " Timestamp('2020-11-01 00:00:00'),\n",
       " Timestamp('2020-11-08 00:00:00'),\n",
       " Timestamp('2020-11-15 00:00:00'),\n",
       " Timestamp('2020-11-22 00:00:00'),\n",
       " Timestamp('2020-11-29 00:00:00'),\n",
       " Timestamp('2020-12-06 00:00:00'),\n",
       " Timestamp('2020-12-13 00:00:00'),\n",
       " Timestamp('2020-12-20 00:00:00'),\n",
       " Timestamp('2020-12-27 00:00:00'),\n",
       " Timestamp('2021-01-03 00:00:00'),\n",
       " Timestamp('2021-01-10 00:00:00'),\n",
       " Timestamp('2021-01-17 00:00:00'),\n",
       " Timestamp('2021-01-24 00:00:00'),\n",
       " Timestamp('2021-01-31 00:00:00'),\n",
       " Timestamp('2021-02-07 00:00:00'),\n",
       " Timestamp('2021-02-14 00:00:00'),\n",
       " Timestamp('2021-02-21 00:00:00'),\n",
       " Timestamp('2021-02-28 00:00:00'),\n",
       " Timestamp('2021-03-07 00:00:00'),\n",
       " Timestamp('2021-03-14 00:00:00'),\n",
       " Timestamp('2021-03-21 00:00:00'),\n",
       " Timestamp('2021-03-28 00:00:00'),\n",
       " Timestamp('2021-04-04 00:00:00'),\n",
       " Timestamp('2021-04-11 00:00:00'),\n",
       " Timestamp('2021-04-18 00:00:00'),\n",
       " Timestamp('2021-04-25 00:00:00'),\n",
       " Timestamp('2021-05-02 00:00:00'),\n",
       " Timestamp('2021-05-09 00:00:00'),\n",
       " Timestamp('2021-05-16 00:00:00'),\n",
       " Timestamp('2021-05-23 00:00:00'),\n",
       " Timestamp('2021-05-30 00:00:00'),\n",
       " Timestamp('2021-06-06 00:00:00'),\n",
       " Timestamp('2021-06-13 00:00:00'),\n",
       " Timestamp('2021-06-20 00:00:00'),\n",
       " Timestamp('2021-06-27 00:00:00'),\n",
       " Timestamp('2021-07-04 00:00:00'),\n",
       " Timestamp('2021-07-11 00:00:00'),\n",
       " Timestamp('2021-07-18 00:00:00'),\n",
       " Timestamp('2021-07-25 00:00:00'),\n",
       " Timestamp('2021-08-01 00:00:00'),\n",
       " Timestamp('2021-08-08 00:00:00'),\n",
       " Timestamp('2021-08-15 00:00:00'),\n",
       " Timestamp('2021-08-22 00:00:00'),\n",
       " Timestamp('2021-08-29 00:00:00'),\n",
       " Timestamp('2021-09-05 00:00:00'),\n",
       " Timestamp('2021-09-12 00:00:00'),\n",
       " Timestamp('2021-09-19 00:00:00'),\n",
       " Timestamp('2021-09-26 00:00:00'),\n",
       " Timestamp('2021-10-03 00:00:00'),\n",
       " Timestamp('2021-10-10 00:00:00'),\n",
       " Timestamp('2021-10-17 00:00:00'),\n",
       " Timestamp('2021-10-24 00:00:00'),\n",
       " Timestamp('2021-10-31 00:00:00'),\n",
       " Timestamp('2021-11-07 00:00:00'),\n",
       " Timestamp('2021-11-14 00:00:00'),\n",
       " Timestamp('2021-11-21 00:00:00'),\n",
       " Timestamp('2021-11-28 00:00:00'),\n",
       " Timestamp('2021-12-05 00:00:00'),\n",
       " Timestamp('2021-12-12 00:00:00'),\n",
       " Timestamp('2021-12-19 00:00:00'),\n",
       " Timestamp('2021-12-26 00:00:00'),\n",
       " Timestamp('2022-01-02 00:00:00'),\n",
       " Timestamp('2022-01-09 00:00:00'),\n",
       " Timestamp('2022-01-16 00:00:00'),\n",
       " Timestamp('2022-01-23 00:00:00'),\n",
       " Timestamp('2022-01-30 00:00:00'),\n",
       " Timestamp('2022-02-06 00:00:00'),\n",
       " Timestamp('2022-02-13 00:00:00'),\n",
       " Timestamp('2022-02-20 00:00:00'),\n",
       " Timestamp('2022-02-27 00:00:00'),\n",
       " Timestamp('2022-03-06 00:00:00'),\n",
       " Timestamp('2022-03-13 00:00:00'),\n",
       " Timestamp('2022-03-20 00:00:00'),\n",
       " Timestamp('2022-03-27 00:00:00'),\n",
       " Timestamp('2022-04-03 00:00:00'),\n",
       " Timestamp('2022-04-10 00:00:00'),\n",
       " Timestamp('2022-04-17 00:00:00'),\n",
       " Timestamp('2022-04-24 00:00:00'),\n",
       " Timestamp('2022-05-01 00:00:00'),\n",
       " Timestamp('2022-05-08 00:00:00'),\n",
       " Timestamp('2022-05-15 00:00:00'),\n",
       " Timestamp('2022-05-22 00:00:00'),\n",
       " Timestamp('2022-05-29 00:00:00'),\n",
       " Timestamp('2022-06-05 00:00:00'),\n",
       " Timestamp('2022-06-12 00:00:00'),\n",
       " Timestamp('2022-06-19 00:00:00'),\n",
       " Timestamp('2022-06-26 00:00:00'),\n",
       " Timestamp('2022-07-03 00:00:00'),\n",
       " Timestamp('2022-07-10 00:00:00'),\n",
       " Timestamp('2022-07-17 00:00:00'),\n",
       " Timestamp('2022-07-24 00:00:00'),\n",
       " Timestamp('2022-07-31 00:00:00'),\n",
       " Timestamp('2022-08-07 00:00:00'),\n",
       " Timestamp('2022-08-14 00:00:00'),\n",
       " Timestamp('2022-08-21 00:00:00'),\n",
       " Timestamp('2022-08-28 00:00:00'),\n",
       " Timestamp('2022-09-04 00:00:00'),\n",
       " Timestamp('2022-09-11 00:00:00'),\n",
       " Timestamp('2022-09-18 00:00:00'),\n",
       " Timestamp('2022-09-25 00:00:00'),\n",
       " Timestamp('2022-10-02 00:00:00'),\n",
       " Timestamp('2022-10-09 00:00:00'),\n",
       " Timestamp('2022-10-16 00:00:00'),\n",
       " Timestamp('2022-10-23 00:00:00'),\n",
       " Timestamp('2022-10-30 00:00:00'),\n",
       " Timestamp('2022-11-06 00:00:00'),\n",
       " Timestamp('2022-11-13 00:00:00'),\n",
       " Timestamp('2022-11-20 00:00:00'),\n",
       " Timestamp('2022-11-27 00:00:00'),\n",
       " Timestamp('2022-12-04 00:00:00'),\n",
       " Timestamp('2022-12-11 00:00:00'),\n",
       " Timestamp('2022-12-18 00:00:00'),\n",
       " Timestamp('2022-12-25 00:00:00')]"
      ]
     },
     "execution_count": 63,
     "metadata": {},
     "output_type": "execute_result"
    }
   ],
   "source": [
    "list(holidays)"
   ]
  },
  {
   "cell_type": "code",
   "execution_count": 64,
   "id": "86e6d422",
   "metadata": {},
   "outputs": [],
   "source": [
    "working_days = pd.bdate_range(start='1/1/2019', end='1/1/2023', holidays=list(holidays), weekmask=\"Mon Tue Wed Thu Fri\", freq='C')"
   ]
  },
  {
   "cell_type": "code",
   "execution_count": 65,
   "id": "066d7fa8",
   "metadata": {},
   "outputs": [
    {
     "data": {
      "text/plain": [
       "DatetimeIndex(['2019-01-02', '2019-01-03', '2019-01-04', '2019-01-07',\n",
       "               '2019-01-08', '2019-01-09', '2019-01-10', '2019-01-11',\n",
       "               '2019-01-14', '2019-01-15',\n",
       "               ...\n",
       "               '2022-12-16', '2022-12-19', '2022-12-20', '2022-12-21',\n",
       "               '2022-12-22', '2022-12-23', '2022-12-27', '2022-12-28',\n",
       "               '2022-12-29', '2022-12-30'],\n",
       "              dtype='datetime64[ns]', length=1012, freq='C')"
      ]
     },
     "execution_count": 65,
     "metadata": {},
     "output_type": "execute_result"
    }
   ],
   "source": [
    "working_days"
   ]
  },
  {
   "cell_type": "code",
   "execution_count": 66,
   "id": "d34a4c74",
   "metadata": {},
   "outputs": [
    {
     "data": {
      "text/plain": [
       "DatetimeIndex(['2019-01-02', '2019-01-03', '2019-01-04', '2019-01-07',\n",
       "               '2019-01-08', '2019-01-09', '2019-01-10', '2019-01-11',\n",
       "               '2019-01-14', '2019-01-15',\n",
       "               ...\n",
       "               '2022-12-16', '2022-12-19', '2022-12-20', '2022-12-21',\n",
       "               '2022-12-22', '2022-12-23', '2022-12-27', '2022-12-28',\n",
       "               '2022-12-29', '2022-12-30'],\n",
       "              dtype='datetime64[ns]', length=1012, freq='C')"
      ]
     },
     "execution_count": 66,
     "metadata": {},
     "output_type": "execute_result"
    }
   ],
   "source": [
    "working_days"
   ]
  },
  {
   "cell_type": "code",
   "execution_count": 67,
   "id": "7e45ff71",
   "metadata": {},
   "outputs": [
    {
     "data": {
      "text/plain": [
       "Timestamp('2022-12-29 00:00:00', freq='C')"
      ]
     },
     "execution_count": 67,
     "metadata": {},
     "output_type": "execute_result"
    }
   ],
   "source": [
    "list(working_days[working_days < '2022-12-30'])[-1]"
   ]
  },
  {
   "cell_type": "code",
   "execution_count": 68,
   "id": "151dcafb",
   "metadata": {},
   "outputs": [],
   "source": [
    "wd = pd.DataFrame(working_days, columns=['date'])"
   ]
  },
  {
   "cell_type": "code",
   "execution_count": 69,
   "id": "12d11289",
   "metadata": {},
   "outputs": [
    {
     "data": {
      "text/html": [
       "<div>\n",
       "<style scoped>\n",
       "    .dataframe tbody tr th:only-of-type {\n",
       "        vertical-align: middle;\n",
       "    }\n",
       "\n",
       "    .dataframe tbody tr th {\n",
       "        vertical-align: top;\n",
       "    }\n",
       "\n",
       "    .dataframe thead th {\n",
       "        text-align: right;\n",
       "    }\n",
       "</style>\n",
       "<table border=\"1\" class=\"dataframe\">\n",
       "  <thead>\n",
       "    <tr style=\"text-align: right;\">\n",
       "      <th></th>\n",
       "      <th>date</th>\n",
       "    </tr>\n",
       "  </thead>\n",
       "  <tbody>\n",
       "    <tr>\n",
       "      <th>0</th>\n",
       "      <td>2019-01-02</td>\n",
       "    </tr>\n",
       "    <tr>\n",
       "      <th>1</th>\n",
       "      <td>2019-01-03</td>\n",
       "    </tr>\n",
       "    <tr>\n",
       "      <th>2</th>\n",
       "      <td>2019-01-04</td>\n",
       "    </tr>\n",
       "    <tr>\n",
       "      <th>3</th>\n",
       "      <td>2019-01-07</td>\n",
       "    </tr>\n",
       "    <tr>\n",
       "      <th>4</th>\n",
       "      <td>2019-01-08</td>\n",
       "    </tr>\n",
       "    <tr>\n",
       "      <th>...</th>\n",
       "      <td>...</td>\n",
       "    </tr>\n",
       "    <tr>\n",
       "      <th>1007</th>\n",
       "      <td>2022-12-23</td>\n",
       "    </tr>\n",
       "    <tr>\n",
       "      <th>1008</th>\n",
       "      <td>2022-12-27</td>\n",
       "    </tr>\n",
       "    <tr>\n",
       "      <th>1009</th>\n",
       "      <td>2022-12-28</td>\n",
       "    </tr>\n",
       "    <tr>\n",
       "      <th>1010</th>\n",
       "      <td>2022-12-29</td>\n",
       "    </tr>\n",
       "    <tr>\n",
       "      <th>1011</th>\n",
       "      <td>2022-12-30</td>\n",
       "    </tr>\n",
       "  </tbody>\n",
       "</table>\n",
       "<p>1012 rows × 1 columns</p>\n",
       "</div>"
      ],
      "text/plain": [
       "           date\n",
       "0    2019-01-02\n",
       "1    2019-01-03\n",
       "2    2019-01-04\n",
       "3    2019-01-07\n",
       "4    2019-01-08\n",
       "...         ...\n",
       "1007 2022-12-23\n",
       "1008 2022-12-27\n",
       "1009 2022-12-28\n",
       "1010 2022-12-29\n",
       "1011 2022-12-30\n",
       "\n",
       "[1012 rows x 1 columns]"
      ]
     },
     "execution_count": 69,
     "metadata": {},
     "output_type": "execute_result"
    }
   ],
   "source": [
    "wd"
   ]
  },
  {
   "cell_type": "code",
   "execution_count": 70,
   "id": "369029e7",
   "metadata": {},
   "outputs": [
    {
     "name": "stdout",
     "output_type": "stream",
     "text": [
      "<class 'pandas.core.frame.DataFrame'>\n",
      "RangeIndex: 1012 entries, 0 to 1011\n",
      "Data columns (total 1 columns):\n",
      " #   Column  Non-Null Count  Dtype         \n",
      "---  ------  --------------  -----         \n",
      " 0   date    1012 non-null   datetime64[ns]\n",
      "dtypes: datetime64[ns](1)\n",
      "memory usage: 8.0 KB\n"
     ]
    }
   ],
   "source": [
    "wd.info()"
   ]
  },
  {
   "cell_type": "code",
   "execution_count": 71,
   "id": "b6bf4022",
   "metadata": {},
   "outputs": [
    {
     "data": {
      "text/plain": [
       "Timestamp('2022-12-30 00:00:00')"
      ]
     },
     "execution_count": 71,
     "metadata": {},
     "output_type": "execute_result"
    }
   ],
   "source": [
    "wd.loc[wd['date'].idxmax()][0]"
   ]
  },
  {
   "cell_type": "code",
   "execution_count": 72,
   "id": "4bd7236f",
   "metadata": {},
   "outputs": [
    {
     "name": "stdout",
     "output_type": "stream",
     "text": [
      "\u001b[0m\u001b[01;32m202209040523_nbp_exchangerates.csv\u001b[0m*  \u001b[01;32mnbp_exchangerates.csv\u001b[0m*\r\n",
      "\u001b[01;32mexcursions_data.csv\u001b[0m*                 nbp_exchange_rates.ipynb\r\n",
      "\u001b[01;32mhello-world-notebook.ipynb\u001b[0m*          \u001b[01;32mread-postgres-notebook.ipynb\u001b[0m*\r\n",
      "holidays_and_sundays_pl.ipynb        test.py\r\n",
      "\u001b[01;32mload-postgres-notebook.ipynb\u001b[0m*\r\n"
     ]
    }
   ],
   "source": [
    "ls"
   ]
  },
  {
   "cell_type": "code",
   "execution_count": 73,
   "id": "ead467ec",
   "metadata": {},
   "outputs": [],
   "source": [
    "df = pd.read_csv('202209040523_nbp_exchangerates.csv')"
   ]
  },
  {
   "cell_type": "code",
   "execution_count": 74,
   "id": "e32cc879",
   "metadata": {},
   "outputs": [
    {
     "data": {
      "text/html": [
       "<div>\n",
       "<style scoped>\n",
       "    .dataframe tbody tr th:only-of-type {\n",
       "        vertical-align: middle;\n",
       "    }\n",
       "\n",
       "    .dataframe tbody tr th {\n",
       "        vertical-align: top;\n",
       "    }\n",
       "\n",
       "    .dataframe thead th {\n",
       "        text-align: right;\n",
       "    }\n",
       "</style>\n",
       "<table border=\"1\" class=\"dataframe\">\n",
       "  <thead>\n",
       "    <tr style=\"text-align: right;\">\n",
       "      <th></th>\n",
       "      <th>SP_Paid</th>\n",
       "      <th>SP_ValueCalculated</th>\n",
       "      <th>SP_ExchangeRate</th>\n",
       "    </tr>\n",
       "  </thead>\n",
       "  <tbody>\n",
       "    <tr>\n",
       "      <th>count</th>\n",
       "      <td>39019.000000</td>\n",
       "      <td>11435.000000</td>\n",
       "      <td>11435.000000</td>\n",
       "    </tr>\n",
       "    <tr>\n",
       "      <th>mean</th>\n",
       "      <td>570.539486</td>\n",
       "      <td>2716.640961</td>\n",
       "      <td>4.381793</td>\n",
       "    </tr>\n",
       "    <tr>\n",
       "      <th>std</th>\n",
       "      <td>778.506861</td>\n",
       "      <td>5202.586340</td>\n",
       "      <td>0.646131</td>\n",
       "    </tr>\n",
       "    <tr>\n",
       "      <th>min</th>\n",
       "      <td>0.870000</td>\n",
       "      <td>0.155469</td>\n",
       "      <td>0.012834</td>\n",
       "    </tr>\n",
       "    <tr>\n",
       "      <th>25%</th>\n",
       "      <td>305.570000</td>\n",
       "      <td>1393.241720</td>\n",
       "      <td>4.506700</td>\n",
       "    </tr>\n",
       "    <tr>\n",
       "      <th>50%</th>\n",
       "      <td>434.060000</td>\n",
       "      <td>1956.301200</td>\n",
       "      <td>4.549900</td>\n",
       "    </tr>\n",
       "    <tr>\n",
       "      <th>75%</th>\n",
       "      <td>614.860000</td>\n",
       "      <td>2632.195440</td>\n",
       "      <td>4.580600</td>\n",
       "    </tr>\n",
       "    <tr>\n",
       "      <th>max</th>\n",
       "      <td>39447.600000</td>\n",
       "      <td>170823.887040</td>\n",
       "      <td>5.358200</td>\n",
       "    </tr>\n",
       "  </tbody>\n",
       "</table>\n",
       "</div>"
      ],
      "text/plain": [
       "            SP_Paid  SP_ValueCalculated  SP_ExchangeRate\n",
       "count  39019.000000        11435.000000     11435.000000\n",
       "mean     570.539486         2716.640961         4.381793\n",
       "std      778.506861         5202.586340         0.646131\n",
       "min        0.870000            0.155469         0.012834\n",
       "25%      305.570000         1393.241720         4.506700\n",
       "50%      434.060000         1956.301200         4.549900\n",
       "75%      614.860000         2632.195440         4.580600\n",
       "max    39447.600000       170823.887040         5.358200"
      ]
     },
     "execution_count": 74,
     "metadata": {},
     "output_type": "execute_result"
    }
   ],
   "source": [
    "df.describe()"
   ]
  },
  {
   "cell_type": "code",
   "execution_count": 75,
   "id": "fa3eb3a7",
   "metadata": {},
   "outputs": [
    {
     "name": "stdout",
     "output_type": "stream",
     "text": [
      "<class 'pandas.core.frame.DataFrame'>\n",
      "RangeIndex: 39019 entries, 0 to 39018\n",
      "Data columns (total 7 columns):\n",
      " #   Column              Non-Null Count  Dtype  \n",
      "---  ------              --------------  -----  \n",
      " 0   SP_BookingNumber    39019 non-null  object \n",
      " 1   SP_Destination      39019 non-null  object \n",
      " 2   SP_PaidCurrency     39019 non-null  object \n",
      " 3   SP_Paid             39019 non-null  float64\n",
      " 4   SP_TourDate         39019 non-null  object \n",
      " 5   SP_ValueCalculated  11435 non-null  float64\n",
      " 6   SP_ExchangeRate     11435 non-null  float64\n",
      "dtypes: float64(3), object(4)\n",
      "memory usage: 2.1+ MB\n"
     ]
    }
   ],
   "source": [
    "df.info()"
   ]
  },
  {
   "cell_type": "code",
   "execution_count": 76,
   "id": "1766eb48",
   "metadata": {},
   "outputs": [
    {
     "data": {
      "text/plain": [
       "array(['PLN', 'EUR', 'CZK', 'USD', 'RUB', 'HUF', 'GBP'], dtype=object)"
      ]
     },
     "execution_count": 76,
     "metadata": {},
     "output_type": "execute_result"
    }
   ],
   "source": [
    "df['SP_PaidCurrency'].unique()"
   ]
  },
  {
   "cell_type": "code",
   "execution_count": 77,
   "id": "8cd9df16",
   "metadata": {},
   "outputs": [],
   "source": [
    "foreign_currencies = df[df['SP_PaidCurrency'].isin(['CZK', 'EUR', 'GBP', 'HUF', 'RUB', 'USD'])]"
   ]
  },
  {
   "cell_type": "code",
   "execution_count": 78,
   "id": "39f29483",
   "metadata": {},
   "outputs": [
    {
     "data": {
      "text/html": [
       "<div>\n",
       "<style scoped>\n",
       "    .dataframe tbody tr th:only-of-type {\n",
       "        vertical-align: middle;\n",
       "    }\n",
       "\n",
       "    .dataframe tbody tr th {\n",
       "        vertical-align: top;\n",
       "    }\n",
       "\n",
       "    .dataframe thead th {\n",
       "        text-align: right;\n",
       "    }\n",
       "</style>\n",
       "<table border=\"1\" class=\"dataframe\">\n",
       "  <thead>\n",
       "    <tr style=\"text-align: right;\">\n",
       "      <th></th>\n",
       "      <th>SP_BookingNumber</th>\n",
       "      <th>SP_Destination</th>\n",
       "      <th>SP_PaidCurrency</th>\n",
       "      <th>SP_Paid</th>\n",
       "      <th>SP_TourDate</th>\n",
       "      <th>SP_ValueCalculated</th>\n",
       "      <th>SP_ExchangeRate</th>\n",
       "    </tr>\n",
       "  </thead>\n",
       "  <tbody>\n",
       "    <tr>\n",
       "      <th>2</th>\n",
       "      <td>S0067688</td>\n",
       "      <td>SID</td>\n",
       "      <td>EUR</td>\n",
       "      <td>512.95</td>\n",
       "      <td>2022-01-13</td>\n",
       "      <td>2325.304940</td>\n",
       "      <td>4.5332</td>\n",
       "    </tr>\n",
       "    <tr>\n",
       "      <th>3</th>\n",
       "      <td>S0067687</td>\n",
       "      <td>FNC</td>\n",
       "      <td>EUR</td>\n",
       "      <td>486.86</td>\n",
       "      <td>2022-01-11</td>\n",
       "      <td>2209.224622</td>\n",
       "      <td>4.5377</td>\n",
       "    </tr>\n",
       "    <tr>\n",
       "      <th>4</th>\n",
       "      <td>S0067686</td>\n",
       "      <td>SID</td>\n",
       "      <td>EUR</td>\n",
       "      <td>512.95</td>\n",
       "      <td>2022-01-13</td>\n",
       "      <td>2325.304940</td>\n",
       "      <td>4.5332</td>\n",
       "    </tr>\n",
       "    <tr>\n",
       "      <th>5</th>\n",
       "      <td>S0067685</td>\n",
       "      <td>SID</td>\n",
       "      <td>EUR</td>\n",
       "      <td>169.05</td>\n",
       "      <td>2022-01-11</td>\n",
       "      <td>767.098185</td>\n",
       "      <td>4.5377</td>\n",
       "    </tr>\n",
       "    <tr>\n",
       "      <th>9</th>\n",
       "      <td>S0067628</td>\n",
       "      <td>SID</td>\n",
       "      <td>EUR</td>\n",
       "      <td>169.05</td>\n",
       "      <td>2022-01-11</td>\n",
       "      <td>767.098185</td>\n",
       "      <td>4.5377</td>\n",
       "    </tr>\n",
       "    <tr>\n",
       "      <th>...</th>\n",
       "      <td>...</td>\n",
       "      <td>...</td>\n",
       "      <td>...</td>\n",
       "      <td>...</td>\n",
       "      <td>...</td>\n",
       "      <td>...</td>\n",
       "      <td>...</td>\n",
       "    </tr>\n",
       "    <tr>\n",
       "      <th>38988</th>\n",
       "      <td>S0000059</td>\n",
       "      <td>NOS</td>\n",
       "      <td>EUR</td>\n",
       "      <td>486.15</td>\n",
       "      <td>2019-07-17</td>\n",
       "      <td>2070.123930</td>\n",
       "      <td>4.2582</td>\n",
       "    </tr>\n",
       "    <tr>\n",
       "      <th>38992</th>\n",
       "      <td>S0000049</td>\n",
       "      <td>FAO</td>\n",
       "      <td>EUR</td>\n",
       "      <td>453.74</td>\n",
       "      <td>2019-08-07</td>\n",
       "      <td>1955.437904</td>\n",
       "      <td>4.3096</td>\n",
       "    </tr>\n",
       "    <tr>\n",
       "      <th>38993</th>\n",
       "      <td>S0000048</td>\n",
       "      <td>FAO</td>\n",
       "      <td>EUR</td>\n",
       "      <td>486.15</td>\n",
       "      <td>2019-08-03</td>\n",
       "      <td>2094.577275</td>\n",
       "      <td>4.3085</td>\n",
       "    </tr>\n",
       "    <tr>\n",
       "      <th>38996</th>\n",
       "      <td>S0000039</td>\n",
       "      <td>BOJ</td>\n",
       "      <td>EUR</td>\n",
       "      <td>375.03</td>\n",
       "      <td>2019-07-27</td>\n",
       "      <td>1599.315435</td>\n",
       "      <td>4.2645</td>\n",
       "    </tr>\n",
       "    <tr>\n",
       "      <th>39015</th>\n",
       "      <td>W0005227</td>\n",
       "      <td>BCN</td>\n",
       "      <td>EUR</td>\n",
       "      <td>78.71</td>\n",
       "      <td>2019-09-11</td>\n",
       "      <td>341.207850</td>\n",
       "      <td>4.3350</td>\n",
       "    </tr>\n",
       "  </tbody>\n",
       "</table>\n",
       "<p>12765 rows × 7 columns</p>\n",
       "</div>"
      ],
      "text/plain": [
       "      SP_BookingNumber SP_Destination SP_PaidCurrency  SP_Paid SP_TourDate  \\\n",
       "2             S0067688            SID             EUR   512.95  2022-01-13   \n",
       "3             S0067687            FNC             EUR   486.86  2022-01-11   \n",
       "4             S0067686            SID             EUR   512.95  2022-01-13   \n",
       "5             S0067685            SID             EUR   169.05  2022-01-11   \n",
       "9             S0067628            SID             EUR   169.05  2022-01-11   \n",
       "...                ...            ...             ...      ...         ...   \n",
       "38988         S0000059            NOS             EUR   486.15  2019-07-17   \n",
       "38992         S0000049            FAO             EUR   453.74  2019-08-07   \n",
       "38993         S0000048            FAO             EUR   486.15  2019-08-03   \n",
       "38996         S0000039            BOJ             EUR   375.03  2019-07-27   \n",
       "39015         W0005227            BCN             EUR    78.71  2019-09-11   \n",
       "\n",
       "       SP_ValueCalculated  SP_ExchangeRate  \n",
       "2             2325.304940           4.5332  \n",
       "3             2209.224622           4.5377  \n",
       "4             2325.304940           4.5332  \n",
       "5              767.098185           4.5377  \n",
       "9              767.098185           4.5377  \n",
       "...                   ...              ...  \n",
       "38988         2070.123930           4.2582  \n",
       "38992         1955.437904           4.3096  \n",
       "38993         2094.577275           4.3085  \n",
       "38996         1599.315435           4.2645  \n",
       "39015          341.207850           4.3350  \n",
       "\n",
       "[12765 rows x 7 columns]"
      ]
     },
     "execution_count": 78,
     "metadata": {},
     "output_type": "execute_result"
    }
   ],
   "source": [
    "foreign_currencies"
   ]
  },
  {
   "cell_type": "code",
   "execution_count": 79,
   "id": "e48d37a6",
   "metadata": {},
   "outputs": [],
   "source": [
    "missing_exchange_rates = foreign_currencies[foreign_currencies['SP_ExchangeRate'].isnull()]"
   ]
  },
  {
   "cell_type": "code",
   "execution_count": 80,
   "id": "01bb1e3c",
   "metadata": {},
   "outputs": [
    {
     "data": {
      "text/html": [
       "<div>\n",
       "<style scoped>\n",
       "    .dataframe tbody tr th:only-of-type {\n",
       "        vertical-align: middle;\n",
       "    }\n",
       "\n",
       "    .dataframe tbody tr th {\n",
       "        vertical-align: top;\n",
       "    }\n",
       "\n",
       "    .dataframe thead th {\n",
       "        text-align: right;\n",
       "    }\n",
       "</style>\n",
       "<table border=\"1\" class=\"dataframe\">\n",
       "  <thead>\n",
       "    <tr style=\"text-align: right;\">\n",
       "      <th></th>\n",
       "      <th>SP_BookingNumber</th>\n",
       "      <th>SP_Destination</th>\n",
       "      <th>SP_PaidCurrency</th>\n",
       "      <th>SP_Paid</th>\n",
       "      <th>SP_TourDate</th>\n",
       "      <th>SP_ValueCalculated</th>\n",
       "      <th>SP_ExchangeRate</th>\n",
       "    </tr>\n",
       "  </thead>\n",
       "  <tbody>\n",
       "    <tr>\n",
       "      <th>35150</th>\n",
       "      <td>S0008519</td>\n",
       "      <td>ZTH</td>\n",
       "      <td>EUR</td>\n",
       "      <td>250.02</td>\n",
       "      <td>2019-08-09</td>\n",
       "      <td>NaN</td>\n",
       "      <td>NaN</td>\n",
       "    </tr>\n",
       "    <tr>\n",
       "      <th>34987</th>\n",
       "      <td>S0008829</td>\n",
       "      <td>AGP</td>\n",
       "      <td>EUR</td>\n",
       "      <td>416.70</td>\n",
       "      <td>2019-08-09</td>\n",
       "      <td>NaN</td>\n",
       "      <td>NaN</td>\n",
       "    </tr>\n",
       "    <tr>\n",
       "      <th>35024</th>\n",
       "      <td>S0008756</td>\n",
       "      <td>ZTH</td>\n",
       "      <td>EUR</td>\n",
       "      <td>416.70</td>\n",
       "      <td>2019-08-13</td>\n",
       "      <td>NaN</td>\n",
       "      <td>NaN</td>\n",
       "    </tr>\n",
       "    <tr>\n",
       "      <th>35095</th>\n",
       "      <td>S0008617</td>\n",
       "      <td>BJV</td>\n",
       "      <td>EUR</td>\n",
       "      <td>422.26</td>\n",
       "      <td>2019-09-18</td>\n",
       "      <td>NaN</td>\n",
       "      <td>NaN</td>\n",
       "    </tr>\n",
       "    <tr>\n",
       "      <th>26002</th>\n",
       "      <td>S0027159</td>\n",
       "      <td>HRG</td>\n",
       "      <td>EUR</td>\n",
       "      <td>104.87</td>\n",
       "      <td>2019-10-30</td>\n",
       "      <td>NaN</td>\n",
       "      <td>NaN</td>\n",
       "    </tr>\n",
       "    <tr>\n",
       "      <th>...</th>\n",
       "      <td>...</td>\n",
       "      <td>...</td>\n",
       "      <td>...</td>\n",
       "      <td>...</td>\n",
       "      <td>...</td>\n",
       "      <td>...</td>\n",
       "      <td>...</td>\n",
       "    </tr>\n",
       "    <tr>\n",
       "      <th>1030</th>\n",
       "      <td>S0066175</td>\n",
       "      <td>SLL</td>\n",
       "      <td>USD</td>\n",
       "      <td>898.69</td>\n",
       "      <td>2021-11-24</td>\n",
       "      <td>NaN</td>\n",
       "      <td>NaN</td>\n",
       "    </tr>\n",
       "    <tr>\n",
       "      <th>905</th>\n",
       "      <td>S0066320</td>\n",
       "      <td>SLL</td>\n",
       "      <td>USD</td>\n",
       "      <td>906.33</td>\n",
       "      <td>2021-11-24</td>\n",
       "      <td>NaN</td>\n",
       "      <td>NaN</td>\n",
       "    </tr>\n",
       "    <tr>\n",
       "      <th>904</th>\n",
       "      <td>S0066321</td>\n",
       "      <td>SLL</td>\n",
       "      <td>USD</td>\n",
       "      <td>906.33</td>\n",
       "      <td>2021-11-24</td>\n",
       "      <td>NaN</td>\n",
       "      <td>NaN</td>\n",
       "    </tr>\n",
       "    <tr>\n",
       "      <th>903</th>\n",
       "      <td>S0066322</td>\n",
       "      <td>SLL</td>\n",
       "      <td>USD</td>\n",
       "      <td>906.33</td>\n",
       "      <td>2021-11-24</td>\n",
       "      <td>NaN</td>\n",
       "      <td>NaN</td>\n",
       "    </tr>\n",
       "    <tr>\n",
       "      <th>900</th>\n",
       "      <td>S0066325</td>\n",
       "      <td>HRG</td>\n",
       "      <td>EUR</td>\n",
       "      <td>6700.37</td>\n",
       "      <td>2021-11-28</td>\n",
       "      <td>NaN</td>\n",
       "      <td>NaN</td>\n",
       "    </tr>\n",
       "  </tbody>\n",
       "</table>\n",
       "<p>1330 rows × 7 columns</p>\n",
       "</div>"
      ],
      "text/plain": [
       "      SP_BookingNumber SP_Destination SP_PaidCurrency  SP_Paid SP_TourDate  \\\n",
       "35150         S0008519            ZTH             EUR   250.02  2019-08-09   \n",
       "34987         S0008829            AGP             EUR   416.70  2019-08-09   \n",
       "35024         S0008756            ZTH             EUR   416.70  2019-08-13   \n",
       "35095         S0008617            BJV             EUR   422.26  2019-09-18   \n",
       "26002         S0027159            HRG             EUR   104.87  2019-10-30   \n",
       "...                ...            ...             ...      ...         ...   \n",
       "1030          S0066175            SLL             USD   898.69  2021-11-24   \n",
       "905           S0066320            SLL             USD   906.33  2021-11-24   \n",
       "904           S0066321            SLL             USD   906.33  2021-11-24   \n",
       "903           S0066322            SLL             USD   906.33  2021-11-24   \n",
       "900           S0066325            HRG             EUR  6700.37  2021-11-28   \n",
       "\n",
       "       SP_ValueCalculated  SP_ExchangeRate  \n",
       "35150                 NaN              NaN  \n",
       "34987                 NaN              NaN  \n",
       "35024                 NaN              NaN  \n",
       "35095                 NaN              NaN  \n",
       "26002                 NaN              NaN  \n",
       "...                   ...              ...  \n",
       "1030                  NaN              NaN  \n",
       "905                   NaN              NaN  \n",
       "904                   NaN              NaN  \n",
       "903                   NaN              NaN  \n",
       "900                   NaN              NaN  \n",
       "\n",
       "[1330 rows x 7 columns]"
      ]
     },
     "execution_count": 80,
     "metadata": {},
     "output_type": "execute_result"
    }
   ],
   "source": [
    "missing_exchange_rates.sort_values(['SP_TourDate'])"
   ]
  },
  {
   "cell_type": "code",
   "execution_count": 81,
   "id": "ecfb2ced",
   "metadata": {},
   "outputs": [
    {
     "data": {
      "text/html": [
       "<div>\n",
       "<style scoped>\n",
       "    .dataframe tbody tr th:only-of-type {\n",
       "        vertical-align: middle;\n",
       "    }\n",
       "\n",
       "    .dataframe tbody tr th {\n",
       "        vertical-align: top;\n",
       "    }\n",
       "\n",
       "    .dataframe thead th {\n",
       "        text-align: right;\n",
       "    }\n",
       "</style>\n",
       "<table border=\"1\" class=\"dataframe\">\n",
       "  <thead>\n",
       "    <tr style=\"text-align: right;\">\n",
       "      <th></th>\n",
       "      <th>SP_BookingNumber</th>\n",
       "      <th>SP_Destination</th>\n",
       "      <th>SP_PaidCurrency</th>\n",
       "      <th>SP_Paid</th>\n",
       "      <th>SP_TourDate</th>\n",
       "      <th>SP_ValueCalculated</th>\n",
       "      <th>SP_ExchangeRate</th>\n",
       "    </tr>\n",
       "  </thead>\n",
       "  <tbody>\n",
       "  </tbody>\n",
       "</table>\n",
       "</div>"
      ],
      "text/plain": [
       "Empty DataFrame\n",
       "Columns: [SP_BookingNumber, SP_Destination, SP_PaidCurrency, SP_Paid, SP_TourDate, SP_ValueCalculated, SP_ExchangeRate]\n",
       "Index: []"
      ]
     },
     "execution_count": 81,
     "metadata": {},
     "output_type": "execute_result"
    }
   ],
   "source": [
    "missing_exchange_rates[missing_exchange_rates['SP_TourDate'] == '2020-05-08']"
   ]
  },
  {
   "cell_type": "markdown",
   "id": "68fd215f",
   "metadata": {},
   "source": [
    "# Avro"
   ]
  },
  {
   "cell_type": "code",
   "execution_count": 87,
   "id": "e60eb0d5",
   "metadata": {},
   "outputs": [
    {
     "name": "stdout",
     "output_type": "stream",
     "text": [
      "Collecting pandavro\n",
      "  Downloading pandavro-1.7.1.tar.gz (8.1 kB)\n",
      "  Preparing metadata (setup.py) ... \u001b[?25ldone\n",
      "\u001b[?25hCollecting fastavro==1.5.1\n",
      "  Downloading fastavro-1.5.1-cp39-cp39-manylinux_2_17_x86_64.manylinux2014_x86_64.whl (2.6 MB)\n",
      "     |████████████████████████████████| 2.6 MB 2.3 MB/s            \n",
      "\u001b[?25hRequirement already satisfied: pandas>=1.1 in /opt/conda/lib/python3.9/site-packages (from pandavro) (1.3.4)\n",
      "Requirement already satisfied: numpy>=1.15.4 in /opt/conda/lib/python3.9/site-packages (from pandavro) (1.20.3)\n",
      "Requirement already satisfied: python-dateutil>=2.7.3 in /opt/conda/lib/python3.9/site-packages (from pandas>=1.1->pandavro) (2.8.2)\n",
      "Requirement already satisfied: pytz>=2017.3 in /opt/conda/lib/python3.9/site-packages (from pandas>=1.1->pandavro) (2021.3)\n",
      "Requirement already satisfied: six>=1.5 in /opt/conda/lib/python3.9/site-packages (from python-dateutil>=2.7.3->pandas>=1.1->pandavro) (1.16.0)\n",
      "Building wheels for collected packages: pandavro\n",
      "  Building wheel for pandavro (setup.py) ... \u001b[?25ldone\n",
      "\u001b[?25h  Created wheel for pandavro: filename=pandavro-1.7.1-py3-none-any.whl size=5688 sha256=bb90b0becb16a2ccda3b99935e2ada7473a7a4072cdc93a72177f46dd3009701\n",
      "  Stored in directory: /home/jovyan/.cache/pip/wheels/45/12/aa/aa640f089d2d14477165fe23e5310f4b219ecd5ae87ff6ca74\n",
      "Successfully built pandavro\n",
      "Installing collected packages: fastavro, pandavro\n",
      "Successfully installed fastavro-1.5.1 pandavro-1.7.1\n"
     ]
    }
   ],
   "source": [
    "!pip install pandavro"
   ]
  },
  {
   "cell_type": "code",
   "execution_count": 89,
   "id": "e630c3c9",
   "metadata": {},
   "outputs": [],
   "source": [
    "import pandavro as pdx"
   ]
  },
  {
   "cell_type": "code",
   "execution_count": 90,
   "id": "f4ff0914",
   "metadata": {},
   "outputs": [
    {
     "name": "stdout",
     "output_type": "stream",
     "text": [
      "\u001b[0m\u001b[01;32m202209040523_nbp_exchangerates.csv\u001b[0m*    \u001b[01;32mload-postgres-notebook.ipynb\u001b[0m*\r\n",
      "\u001b[01;32mbusiness_readynbp_exchangerates.avro\u001b[0m*  \u001b[01;32mnbp_exchangerates.csv\u001b[0m*\r\n",
      "\u001b[01;32mexcursions_data.csv\u001b[0m*                   nbp_exchange_rates.ipynb\r\n",
      "\u001b[01;32mhello-world-notebook.ipynb\u001b[0m*            \u001b[01;32mread-postgres-notebook.ipynb\u001b[0m*\r\n",
      "holidays_and_sundays_pl.ipynb          test.py\r\n"
     ]
    }
   ],
   "source": [
    "ls"
   ]
  },
  {
   "cell_type": "code",
   "execution_count": 91,
   "id": "edaa103f",
   "metadata": {},
   "outputs": [
    {
     "name": "stdout",
     "output_type": "stream",
     "text": [
      "<class 'pandas.core.frame.DataFrame'>\n"
     ]
    }
   ],
   "source": [
    "# Read the data back\n",
    "as_avro = pdx.from_avro('business_readynbp_exchangerates.avro')\n",
    "print(type(as_avro))"
   ]
  },
  {
   "cell_type": "code",
   "execution_count": 92,
   "id": "5a9e384b",
   "metadata": {},
   "outputs": [
    {
     "data": {
      "text/html": [
       "<div>\n",
       "<style scoped>\n",
       "    .dataframe tbody tr th:only-of-type {\n",
       "        vertical-align: middle;\n",
       "    }\n",
       "\n",
       "    .dataframe tbody tr th {\n",
       "        vertical-align: top;\n",
       "    }\n",
       "\n",
       "    .dataframe thead th {\n",
       "        text-align: right;\n",
       "    }\n",
       "</style>\n",
       "<table border=\"1\" class=\"dataframe\">\n",
       "  <thead>\n",
       "    <tr style=\"text-align: right;\">\n",
       "      <th></th>\n",
       "      <th>SP_BookingNumber</th>\n",
       "      <th>SP_Destination</th>\n",
       "      <th>SP_PaidCurrency</th>\n",
       "      <th>SP_Paid</th>\n",
       "      <th>SP_TourDate</th>\n",
       "      <th>SP_ValueCalculated</th>\n",
       "      <th>SP_ExchangeRate</th>\n",
       "    </tr>\n",
       "  </thead>\n",
       "  <tbody>\n",
       "    <tr>\n",
       "      <th>0</th>\n",
       "      <td>S0067486</td>\n",
       "      <td>ZNZ</td>\n",
       "      <td>PLN</td>\n",
       "      <td>399.07</td>\n",
       "      <td>2022-01-11</td>\n",
       "      <td>NaN</td>\n",
       "      <td>NaN</td>\n",
       "    </tr>\n",
       "    <tr>\n",
       "      <th>1</th>\n",
       "      <td>S0067691</td>\n",
       "      <td>RMF</td>\n",
       "      <td>PLN</td>\n",
       "      <td>685.35</td>\n",
       "      <td>2022-01-14</td>\n",
       "      <td>NaN</td>\n",
       "      <td>NaN</td>\n",
       "    </tr>\n",
       "    <tr>\n",
       "      <th>2</th>\n",
       "      <td>S0067688</td>\n",
       "      <td>SID</td>\n",
       "      <td>EUR</td>\n",
       "      <td>512.95</td>\n",
       "      <td>2022-01-13</td>\n",
       "      <td>2325.304940</td>\n",
       "      <td>4.5332</td>\n",
       "    </tr>\n",
       "    <tr>\n",
       "      <th>3</th>\n",
       "      <td>S0067687</td>\n",
       "      <td>FNC</td>\n",
       "      <td>EUR</td>\n",
       "      <td>486.86</td>\n",
       "      <td>2022-01-11</td>\n",
       "      <td>2209.224622</td>\n",
       "      <td>4.5377</td>\n",
       "    </tr>\n",
       "    <tr>\n",
       "      <th>4</th>\n",
       "      <td>S0067686</td>\n",
       "      <td>SID</td>\n",
       "      <td>EUR</td>\n",
       "      <td>512.95</td>\n",
       "      <td>2022-01-13</td>\n",
       "      <td>2325.304940</td>\n",
       "      <td>4.5332</td>\n",
       "    </tr>\n",
       "    <tr>\n",
       "      <th>...</th>\n",
       "      <td>...</td>\n",
       "      <td>...</td>\n",
       "      <td>...</td>\n",
       "      <td>...</td>\n",
       "      <td>...</td>\n",
       "      <td>...</td>\n",
       "      <td>...</td>\n",
       "    </tr>\n",
       "    <tr>\n",
       "      <th>39014</th>\n",
       "      <td>W0005250</td>\n",
       "      <td>CHQ</td>\n",
       "      <td>PLN</td>\n",
       "      <td>364.61</td>\n",
       "      <td>2019-08-06</td>\n",
       "      <td>NaN</td>\n",
       "      <td>NaN</td>\n",
       "    </tr>\n",
       "    <tr>\n",
       "      <th>39015</th>\n",
       "      <td>W0005227</td>\n",
       "      <td>BCN</td>\n",
       "      <td>EUR</td>\n",
       "      <td>78.71</td>\n",
       "      <td>2019-09-11</td>\n",
       "      <td>341.207850</td>\n",
       "      <td>4.3350</td>\n",
       "    </tr>\n",
       "    <tr>\n",
       "      <th>39016</th>\n",
       "      <td>W0005214</td>\n",
       "      <td>TIA</td>\n",
       "      <td>PLN</td>\n",
       "      <td>486.15</td>\n",
       "      <td>2019-06-06</td>\n",
       "      <td>NaN</td>\n",
       "      <td>NaN</td>\n",
       "    </tr>\n",
       "    <tr>\n",
       "      <th>39017</th>\n",
       "      <td>W0005168</td>\n",
       "      <td>RKV</td>\n",
       "      <td>PLN</td>\n",
       "      <td>1111.20</td>\n",
       "      <td>2019-06-15</td>\n",
       "      <td>NaN</td>\n",
       "      <td>NaN</td>\n",
       "    </tr>\n",
       "    <tr>\n",
       "      <th>39018</th>\n",
       "      <td>W0005160</td>\n",
       "      <td>OTP</td>\n",
       "      <td>PLN</td>\n",
       "      <td>2391.86</td>\n",
       "      <td>2019-05-29</td>\n",
       "      <td>NaN</td>\n",
       "      <td>NaN</td>\n",
       "    </tr>\n",
       "  </tbody>\n",
       "</table>\n",
       "<p>39019 rows × 7 columns</p>\n",
       "</div>"
      ],
      "text/plain": [
       "      SP_BookingNumber SP_Destination SP_PaidCurrency  SP_Paid SP_TourDate  \\\n",
       "0             S0067486            ZNZ             PLN   399.07  2022-01-11   \n",
       "1             S0067691            RMF             PLN   685.35  2022-01-14   \n",
       "2             S0067688            SID             EUR   512.95  2022-01-13   \n",
       "3             S0067687            FNC             EUR   486.86  2022-01-11   \n",
       "4             S0067686            SID             EUR   512.95  2022-01-13   \n",
       "...                ...            ...             ...      ...         ...   \n",
       "39014         W0005250            CHQ             PLN   364.61  2019-08-06   \n",
       "39015         W0005227            BCN             EUR    78.71  2019-09-11   \n",
       "39016         W0005214            TIA             PLN   486.15  2019-06-06   \n",
       "39017         W0005168            RKV             PLN  1111.20  2019-06-15   \n",
       "39018         W0005160            OTP             PLN  2391.86  2019-05-29   \n",
       "\n",
       "       SP_ValueCalculated  SP_ExchangeRate  \n",
       "0                     NaN              NaN  \n",
       "1                     NaN              NaN  \n",
       "2             2325.304940           4.5332  \n",
       "3             2209.224622           4.5377  \n",
       "4             2325.304940           4.5332  \n",
       "...                   ...              ...  \n",
       "39014                 NaN              NaN  \n",
       "39015          341.207850           4.3350  \n",
       "39016                 NaN              NaN  \n",
       "39017                 NaN              NaN  \n",
       "39018                 NaN              NaN  \n",
       "\n",
       "[39019 rows x 7 columns]"
      ]
     },
     "execution_count": 92,
     "metadata": {},
     "output_type": "execute_result"
    }
   ],
   "source": [
    "as_avro"
   ]
  },
  {
   "cell_type": "code",
   "execution_count": null,
   "id": "8e28cf4e",
   "metadata": {},
   "outputs": [],
   "source": []
  }
 ],
 "metadata": {
  "kernelspec": {
   "display_name": "Python 3 (ipykernel)",
   "language": "python",
   "name": "python3"
  },
  "language_info": {
   "codemirror_mode": {
    "name": "ipython",
    "version": 3
   },
   "file_extension": ".py",
   "mimetype": "text/x-python",
   "name": "python",
   "nbconvert_exporter": "python",
   "pygments_lexer": "ipython3",
   "version": "3.9.7"
  }
 },
 "nbformat": 4,
 "nbformat_minor": 5
}
