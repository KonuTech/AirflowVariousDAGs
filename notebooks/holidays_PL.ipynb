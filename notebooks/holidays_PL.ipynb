{
 "cells": [
  {
   "cell_type": "code",
   "execution_count": 1,
   "id": "35391a6c",
   "metadata": {},
   "outputs": [
    {
     "name": "stdout",
     "output_type": "stream",
     "text": [
      "Package                       Version\r\n",
      "----------------------------- ----------\r\n",
      "alembic                       1.7.4\r\n",
      "altair                        4.1.0\r\n",
      "anyio                         3.3.3\r\n",
      "appdirs                       1.4.4\r\n",
      "argon2-cffi                   21.1.0\r\n",
      "async-generator               1.10\r\n",
      "attrs                         21.2.0\r\n",
      "Babel                         2.9.1\r\n",
      "backcall                      0.2.0\r\n",
      "backports.functools-lru-cache 1.6.4\r\n",
      "beautifulsoup4                4.10.0\r\n",
      "bleach                        4.1.0\r\n",
      "blinker                       1.4\r\n",
      "bokeh                         2.4.1\r\n",
      "Bottleneck                    1.3.2\r\n",
      "brotlipy                      0.7.0\r\n",
      "cached-property               1.5.2\r\n",
      "certifi                       2021.10.8\r\n",
      "certipy                       0.1.3\r\n",
      "cffi                          1.14.6\r\n",
      "chardet                       4.0.0\r\n",
      "charset-normalizer            2.0.0\r\n",
      "click                         8.0.3\r\n",
      "cloudpickle                   2.0.0\r\n",
      "colorama                      0.4.4\r\n",
      "conda                         4.10.3\r\n",
      "conda-package-handling        1.7.3\r\n",
      "convertdate                   2.4.0\r\n",
      "cryptography                  35.0.0\r\n",
      "cycler                        0.10.0\r\n",
      "Cython                        0.29.24\r\n",
      "cytoolz                       0.11.0\r\n",
      "dask                          2021.9.1\r\n",
      "debugpy                       1.4.1\r\n",
      "decorator                     5.1.0\r\n",
      "defusedxml                    0.7.1\r\n",
      "dill                          0.3.4\r\n",
      "distributed                   2021.9.1\r\n",
      "entrypoints                   0.3\r\n",
      "fsspec                        2021.10.1\r\n",
      "gmpy2                         2.1.0b5\r\n",
      "greenlet                      1.1.2\r\n",
      "h5py                          3.4.0\r\n",
      "HeapDict                      1.0.1\r\n",
      "hijri-converter               2.2.4\r\n",
      "holidays                      0.15\r\n",
      "idna                          3.1\r\n",
      "imagecodecs                   2021.8.26\r\n",
      "imageio                       2.9.0\r\n",
      "importlib-metadata            4.8.1\r\n",
      "importlib-resources           5.2.3\r\n",
      "ipykernel                     6.4.1\r\n",
      "ipympl                        0.8.0\r\n",
      "ipython                       7.28.0\r\n",
      "ipython-genutils              0.2.0\r\n",
      "ipywidgets                    7.6.5\r\n",
      "jedi                          0.18.0\r\n",
      "Jinja2                        3.0.2\r\n",
      "joblib                        1.1.0\r\n",
      "json5                         0.9.5\r\n",
      "jsonschema                    4.1.0\r\n",
      "jupyter-client                7.0.6\r\n",
      "jupyter-core                  4.8.1\r\n",
      "jupyter-server                1.11.1\r\n",
      "jupyter-telemetry             0.1.0\r\n",
      "jupyterhub                    1.4.2\r\n",
      "jupyterlab                    3.2.0\r\n",
      "jupyterlab-pygments           0.1.2\r\n",
      "jupyterlab-server             2.8.2\r\n",
      "jupyterlab-widgets            1.0.2\r\n",
      "kiwisolver                    1.3.2\r\n",
      "korean-lunar-calendar         0.2.1\r\n",
      "llvmlite                      0.37.0\r\n",
      "locket                        0.2.0\r\n",
      "Mako                          1.1.5\r\n",
      "mamba                         0.17.0\r\n",
      "MarkupSafe                    2.0.1\r\n",
      "matplotlib                    3.4.3\r\n",
      "matplotlib-inline             0.1.3\r\n",
      "mistune                       0.8.4\r\n",
      "mock                          4.0.3\r\n",
      "mpmath                        1.2.1\r\n",
      "msgpack                       1.0.2\r\n",
      "nbclassic                     0.3.2\r\n",
      "nbclient                      0.5.4\r\n",
      "nbconvert                     6.2.0\r\n",
      "nbformat                      5.1.3\r\n",
      "nest-asyncio                  1.5.1\r\n",
      "networkx                      2.5\r\n",
      "notebook                      6.4.4\r\n",
      "numba                         0.54.1\r\n",
      "numexpr                       2.7.3\r\n",
      "numpy                         1.20.3\r\n",
      "oauthlib                      3.1.1\r\n",
      "olefile                       0.46\r\n",
      "packaging                     21.0\r\n",
      "pamela                        1.0.0\r\n",
      "pandas                        1.3.4\r\n",
      "pandocfilters                 1.5.0\r\n",
      "parso                         0.8.2\r\n",
      "partd                         1.2.0\r\n",
      "patsy                         0.5.2\r\n",
      "pexpect                       4.8.0\r\n",
      "pickleshare                   0.7.5\r\n",
      "Pillow                        8.3.2\r\n",
      "pip                           21.3\r\n",
      "pooch                         1.5.2\r\n",
      "prometheus-client             0.11.0\r\n",
      "prompt-toolkit                3.0.20\r\n",
      "protobuf                      3.18.1\r\n",
      "psutil                        5.8.0\r\n",
      "ptyprocess                    0.7.0\r\n",
      "pyarrow                       5.0.0\r\n",
      "pycosat                       0.6.3\r\n",
      "pycparser                     2.20\r\n",
      "pycurl                        7.44.1\r\n",
      "Pygments                      2.10.0\r\n",
      "PyJWT                         2.3.0\r\n",
      "PyMeeus                       0.5.11\r\n",
      "pyOpenSSL                     21.0.0\r\n",
      "pyparsing                     2.4.7\r\n",
      "pyrsistent                    0.17.3\r\n",
      "PySocks                       1.7.1\r\n",
      "pyspark                       3.1.2\r\n",
      "python-dateutil               2.8.2\r\n",
      "python-json-logger            2.0.1\r\n",
      "pytz                          2021.3\r\n",
      "PyWavelets                    1.1.1\r\n",
      "PyYAML                        6.0\r\n",
      "pyzmq                         22.3.0\r\n",
      "requests                      2.26.0\r\n",
      "requests-unixsocket           0.2.0\r\n",
      "ruamel.yaml                   0.17.16\r\n",
      "ruamel.yaml.clib              0.2.2\r\n",
      "ruamel-yaml-conda             0.15.80\r\n",
      "scikit-image                  0.18.3\r\n",
      "scikit-learn                  1.0\r\n",
      "scipy                         1.7.1\r\n",
      "seaborn                       0.11.2\r\n",
      "Send2Trash                    1.8.0\r\n",
      "setuptools                    58.2.0\r\n",
      "six                           1.16.0\r\n",
      "sniffio                       1.2.0\r\n",
      "sortedcontainers              2.4.0\r\n",
      "soupsieve                     2.0.1\r\n",
      "SQLAlchemy                    1.4.25\r\n",
      "statsmodels                   0.13.0\r\n",
      "sympy                         1.9\r\n",
      "tables                        3.6.1\r\n",
      "tblib                         1.7.0\r\n",
      "terminado                     0.12.1\r\n",
      "testpath                      0.5.0\r\n",
      "threadpoolctl                 3.0.0\r\n",
      "tifffile                      2021.10.12\r\n",
      "toolz                         0.11.1\r\n",
      "tornado                       6.1\r\n",
      "tqdm                          4.62.3\r\n",
      "traitlets                     5.1.0\r\n",
      "typing-extensions             3.10.0.2\r\n",
      "urllib3                       1.26.7\r\n",
      "wcwidth                       0.2.5\r\n",
      "webencodings                  0.5.1\r\n",
      "websocket-client              0.57.0\r\n",
      "wheel                         0.37.0\r\n",
      "widgetsnbextension            3.5.1\r\n",
      "xlrd                          2.0.1\r\n",
      "zict                          2.0.0\r\n",
      "zipp                          3.6.0\r\n"
     ]
    }
   ],
   "source": [
    "!pip list"
   ]
  },
  {
   "cell_type": "code",
   "execution_count": 2,
   "id": "c42d8dea",
   "metadata": {},
   "outputs": [
    {
     "name": "stdout",
     "output_type": "stream",
     "text": [
      "Requirement already satisfied: holidays in /opt/conda/lib/python3.9/site-packages (0.15)\r\n",
      "Requirement already satisfied: korean-lunar-calendar in /opt/conda/lib/python3.9/site-packages (from holidays) (0.2.1)\r\n",
      "Requirement already satisfied: convertdate>=2.3.0 in /opt/conda/lib/python3.9/site-packages (from holidays) (2.4.0)\r\n",
      "Requirement already satisfied: hijri-converter in /opt/conda/lib/python3.9/site-packages (from holidays) (2.2.4)\r\n",
      "Requirement already satisfied: python-dateutil in /opt/conda/lib/python3.9/site-packages (from holidays) (2.8.2)\r\n",
      "Requirement already satisfied: pymeeus<=1,>=0.3.13 in /opt/conda/lib/python3.9/site-packages (from convertdate>=2.3.0->holidays) (0.5.11)\r\n",
      "Requirement already satisfied: six>=1.5 in /opt/conda/lib/python3.9/site-packages (from python-dateutil->holidays) (1.16.0)\r\n"
     ]
    }
   ],
   "source": [
    "!pip install holidays"
   ]
  },
  {
   "cell_type": "code",
   "execution_count": 3,
   "id": "a869e521",
   "metadata": {},
   "outputs": [],
   "source": [
    "from datetime import date, timedelta\n",
    "from dateutil import easter\n",
    "from dateutil.relativedelta import *"
   ]
  },
  {
   "cell_type": "code",
   "execution_count": 4,
   "id": "d6320030",
   "metadata": {},
   "outputs": [],
   "source": [
    "from datetime import date\n",
    "import holidays"
   ]
  },
  {
   "cell_type": "code",
   "execution_count": 5,
   "id": "e051f7c7",
   "metadata": {},
   "outputs": [],
   "source": [
    "import pandas as pd"
   ]
  },
  {
   "cell_type": "code",
   "execution_count": 6,
   "id": "bf803c24",
   "metadata": {},
   "outputs": [],
   "source": [
    "# US holidays, an example"
   ]
  },
  {
   "cell_type": "code",
   "execution_count": 7,
   "id": "8f0b3bde",
   "metadata": {},
   "outputs": [
    {
     "data": {
      "text/plain": [
       "\"New Year's Day\""
      ]
     },
     "execution_count": 7,
     "metadata": {},
     "output_type": "execute_result"
    }
   ],
   "source": [
    "us_holidays = holidays.US()  # this is a dict\n",
    "# the below is the same, but takes a string:\n",
    "us_holidays = holidays.country_holidays('US')  # this is a dict\n",
    "\n",
    "date(2015, 1, 1) in us_holidays  # True\n",
    "date(2015, 1, 2) in us_holidays  # False\n",
    "us_holidays.get('2014-01-01')  # \"New Year's Day\""
   ]
  },
  {
   "cell_type": "code",
   "execution_count": 8,
   "id": "06e4f5f0",
   "metadata": {},
   "outputs": [],
   "source": [
    "# Adding extra holiday, an example"
   ]
  },
  {
   "cell_type": "code",
   "execution_count": 9,
   "id": "9464d7fc",
   "metadata": {},
   "outputs": [
    {
     "name": "stdout",
     "output_type": "stream",
     "text": [
      "False\n",
      "True\n",
      "Holiday\n",
      "Republic Day India, Holiday\n",
      "True\n",
      "True\n",
      "True\n"
     ]
    }
   ],
   "source": [
    "in_holidays = holidays.HolidayBase()\n",
    "\n",
    "# Let's check our republic day\n",
    "print('26-01-2019' in in_holidays)\n",
    "\n",
    "# Add Holiday without description\n",
    "in_holidays.append('26-01-2019')\n",
    "\n",
    "# Let's verify\n",
    "print('26-01-2019' in in_holidays) # True\n",
    "\n",
    "# Let's Check Description\n",
    "print(in_holidays.get('26-01-2019'))\n",
    "\n",
    "# Add Holiday with description\n",
    "in_holidays.append({'26-01-2019':'Republic Day India'})\n",
    "print(in_holidays.get('26-01-2019'))\n",
    "\n",
    "\n",
    "# Add list of Dates Together\n",
    "in_holidays.append(['02-10-2018', '15-08-2018'])\n",
    "print('15-08-2018' in in_holidays) # True\n",
    "print('02-10-2018' in in_holidays) # True\n",
    "\n",
    "# a single date item\n",
    "in_holidays.append(date(2018, 12, 25))\n",
    "print('25-12-2018' in in_holidays) # True\n"
   ]
  },
  {
   "cell_type": "code",
   "execution_count": 10,
   "id": "020936fc",
   "metadata": {},
   "outputs": [],
   "source": [
    "pl_holidays = holidays.PL()"
   ]
  },
  {
   "cell_type": "code",
   "execution_count": 11,
   "id": "065dc31f",
   "metadata": {},
   "outputs": [
    {
     "data": {
      "text/plain": [
       "True"
      ]
     },
     "execution_count": 11,
     "metadata": {},
     "output_type": "execute_result"
    }
   ],
   "source": [
    "date(2015, 1, 1) in pl_holidays"
   ]
  },
  {
   "cell_type": "code",
   "execution_count": 12,
   "id": "b3526188",
   "metadata": {},
   "outputs": [
    {
     "data": {
      "text/plain": [
       "False"
      ]
     },
     "execution_count": 12,
     "metadata": {},
     "output_type": "execute_result"
    }
   ],
   "source": [
    "date(2015, 1, 5) in pl_holidays"
   ]
  },
  {
   "cell_type": "code",
   "execution_count": 13,
   "id": "1cfaba47",
   "metadata": {},
   "outputs": [
    {
     "data": {
      "text/plain": [
       "True"
      ]
     },
     "execution_count": 13,
     "metadata": {},
     "output_type": "execute_result"
    }
   ],
   "source": [
    "date(2015, 1, 6) in pl_holidays"
   ]
  },
  {
   "cell_type": "code",
   "execution_count": 14,
   "id": "dc089ab6",
   "metadata": {},
   "outputs": [
    {
     "data": {
      "text/plain": [
       "13"
      ]
     },
     "execution_count": 14,
     "metadata": {},
     "output_type": "execute_result"
    }
   ],
   "source": [
    "len(pl_holidays)"
   ]
  },
  {
   "cell_type": "code",
   "execution_count": 15,
   "id": "2c9d2d95",
   "metadata": {},
   "outputs": [
    {
     "name": "stdout",
     "output_type": "stream",
     "text": [
      "2015-01-01\n",
      "2015-01-06\n",
      "2015-04-05\n",
      "2015-04-06\n",
      "2015-05-01\n",
      "2015-05-03\n",
      "2015-05-24\n",
      "2015-06-04\n",
      "2015-08-15\n",
      "2015-11-01\n",
      "2015-11-11\n",
      "2015-12-25\n",
      "2015-12-26\n"
     ]
    }
   ],
   "source": [
    "for holiday in pl_holidays:\n",
    "    print(holiday)"
   ]
  },
  {
   "cell_type": "code",
   "execution_count": 16,
   "id": "ea3adfd4",
   "metadata": {},
   "outputs": [],
   "source": [
    "years=[2022, 2023, 2024]"
   ]
  },
  {
   "cell_type": "code",
   "execution_count": 17,
   "id": "7cd8ec9d",
   "metadata": {},
   "outputs": [],
   "source": [
    "def get_holidays(years):\n",
    "    \"\"\" Returns Polish hollidays dates (legally considered non-working days) \"\"\"\n",
    "    \n",
    "    output = pd.DataFrame()\n",
    "    for year in years:\n",
    "        \n",
    "        easter_sunday = easter.easter(year)\n",
    "        holidays = {'New Year': date(year,1,1),\n",
    "                    'Trzech Kroli': date(year,1,6),\n",
    "                    'Easter Sunday': easter_sunday,\n",
    "                    'Easter Monday': easter_sunday + timedelta(days=1),\n",
    "                    'Labor Day': date(year,5,1),\n",
    "                    'Constitution Day': date(year,5,3),\n",
    "                    'Pentecost Sunday': easter_sunday + relativedelta(days=+1, weekday=SU(+7)),\n",
    "                    'Corpus Christi': easter_sunday + relativedelta(weekday=TH(+9)),\n",
    "                    'Assumption of the Blessed Virgin Mary': date(year,8,15),\n",
    "                    'All Saints\\' Day': date(year,11,1),\n",
    "                    'Independence Day': date(year,11,11),\n",
    "                    'Christmas  Day': date(year, 12, 25),\n",
    "                    'Boxing Day': date(year, 12, 26),\n",
    "                    }\n",
    "        \n",
    "        output = pd.concat([output, pd.DataFrame([holidays])], ignore_index=True)\n",
    "        output.index.names = ['id']\n",
    "\n",
    "    return output.T"
   ]
  },
  {
   "cell_type": "code",
   "execution_count": 18,
   "id": "6dba3f87",
   "metadata": {},
   "outputs": [],
   "source": [
    "df = get_holidays(years)"
   ]
  },
  {
   "cell_type": "code",
   "execution_count": 19,
   "id": "9fd94969",
   "metadata": {},
   "outputs": [
    {
     "name": "stdout",
     "output_type": "stream",
     "text": [
      "<class 'pandas.core.frame.DataFrame'>\n",
      "Index: 13 entries, New Year to Boxing Day\n",
      "Data columns (total 3 columns):\n",
      " #   Column  Non-Null Count  Dtype \n",
      "---  ------  --------------  ----- \n",
      " 0   0       13 non-null     object\n",
      " 1   1       13 non-null     object\n",
      " 2   2       13 non-null     object\n",
      "dtypes: object(3)\n",
      "memory usage: 416.0+ bytes\n"
     ]
    }
   ],
   "source": [
    "df.info()"
   ]
  },
  {
   "cell_type": "code",
   "execution_count": 20,
   "id": "cfc1de7d",
   "metadata": {},
   "outputs": [
    {
     "data": {
      "text/html": [
       "<div>\n",
       "<style scoped>\n",
       "    .dataframe tbody tr th:only-of-type {\n",
       "        vertical-align: middle;\n",
       "    }\n",
       "\n",
       "    .dataframe tbody tr th {\n",
       "        vertical-align: top;\n",
       "    }\n",
       "\n",
       "    .dataframe thead th {\n",
       "        text-align: right;\n",
       "    }\n",
       "</style>\n",
       "<table border=\"1\" class=\"dataframe\">\n",
       "  <thead>\n",
       "    <tr style=\"text-align: right;\">\n",
       "      <th>id</th>\n",
       "      <th>0</th>\n",
       "      <th>1</th>\n",
       "      <th>2</th>\n",
       "    </tr>\n",
       "  </thead>\n",
       "  <tbody>\n",
       "    <tr>\n",
       "      <th>New Year</th>\n",
       "      <td>2022-01-01</td>\n",
       "      <td>2023-01-01</td>\n",
       "      <td>2024-01-01</td>\n",
       "    </tr>\n",
       "    <tr>\n",
       "      <th>Trzech Kroli</th>\n",
       "      <td>2022-01-06</td>\n",
       "      <td>2023-01-06</td>\n",
       "      <td>2024-01-06</td>\n",
       "    </tr>\n",
       "    <tr>\n",
       "      <th>Easter Sunday</th>\n",
       "      <td>2022-04-17</td>\n",
       "      <td>2023-04-09</td>\n",
       "      <td>2024-03-31</td>\n",
       "    </tr>\n",
       "    <tr>\n",
       "      <th>Easter Monday</th>\n",
       "      <td>2022-04-18</td>\n",
       "      <td>2023-04-10</td>\n",
       "      <td>2024-04-01</td>\n",
       "    </tr>\n",
       "    <tr>\n",
       "      <th>Labor Day</th>\n",
       "      <td>2022-05-01</td>\n",
       "      <td>2023-05-01</td>\n",
       "      <td>2024-05-01</td>\n",
       "    </tr>\n",
       "    <tr>\n",
       "      <th>Constitution Day</th>\n",
       "      <td>2022-05-03</td>\n",
       "      <td>2023-05-03</td>\n",
       "      <td>2024-05-03</td>\n",
       "    </tr>\n",
       "    <tr>\n",
       "      <th>Pentecost Sunday</th>\n",
       "      <td>2022-06-05</td>\n",
       "      <td>2023-05-28</td>\n",
       "      <td>2024-05-19</td>\n",
       "    </tr>\n",
       "    <tr>\n",
       "      <th>Corpus Christi</th>\n",
       "      <td>2022-06-16</td>\n",
       "      <td>2023-06-08</td>\n",
       "      <td>2024-05-30</td>\n",
       "    </tr>\n",
       "    <tr>\n",
       "      <th>Assumption of the Blessed Virgin Mary</th>\n",
       "      <td>2022-08-15</td>\n",
       "      <td>2023-08-15</td>\n",
       "      <td>2024-08-15</td>\n",
       "    </tr>\n",
       "    <tr>\n",
       "      <th>All Saints' Day</th>\n",
       "      <td>2022-11-01</td>\n",
       "      <td>2023-11-01</td>\n",
       "      <td>2024-11-01</td>\n",
       "    </tr>\n",
       "    <tr>\n",
       "      <th>Independence Day</th>\n",
       "      <td>2022-11-11</td>\n",
       "      <td>2023-11-11</td>\n",
       "      <td>2024-11-11</td>\n",
       "    </tr>\n",
       "    <tr>\n",
       "      <th>Christmas  Day</th>\n",
       "      <td>2022-12-25</td>\n",
       "      <td>2023-12-25</td>\n",
       "      <td>2024-12-25</td>\n",
       "    </tr>\n",
       "    <tr>\n",
       "      <th>Boxing Day</th>\n",
       "      <td>2022-12-26</td>\n",
       "      <td>2023-12-26</td>\n",
       "      <td>2024-12-26</td>\n",
       "    </tr>\n",
       "  </tbody>\n",
       "</table>\n",
       "</div>"
      ],
      "text/plain": [
       "id                                              0           1           2\n",
       "New Year                               2022-01-01  2023-01-01  2024-01-01\n",
       "Trzech Kroli                           2022-01-06  2023-01-06  2024-01-06\n",
       "Easter Sunday                          2022-04-17  2023-04-09  2024-03-31\n",
       "Easter Monday                          2022-04-18  2023-04-10  2024-04-01\n",
       "Labor Day                              2022-05-01  2023-05-01  2024-05-01\n",
       "Constitution Day                       2022-05-03  2023-05-03  2024-05-03\n",
       "Pentecost Sunday                       2022-06-05  2023-05-28  2024-05-19\n",
       "Corpus Christi                         2022-06-16  2023-06-08  2024-05-30\n",
       "Assumption of the Blessed Virgin Mary  2022-08-15  2023-08-15  2024-08-15\n",
       "All Saints' Day                        2022-11-01  2023-11-01  2024-11-01\n",
       "Independence Day                       2022-11-11  2023-11-11  2024-11-11\n",
       "Christmas  Day                         2022-12-25  2023-12-25  2024-12-25\n",
       "Boxing Day                             2022-12-26  2023-12-26  2024-12-26"
      ]
     },
     "execution_count": 20,
     "metadata": {},
     "output_type": "execute_result"
    }
   ],
   "source": [
    "df"
   ]
  },
  {
   "cell_type": "code",
   "execution_count": 21,
   "id": "1f0d09e2",
   "metadata": {},
   "outputs": [
    {
     "data": {
      "text/plain": [
       "id\n",
       "0    2022-01-01\n",
       "1    2023-01-01\n",
       "2    2024-01-01\n",
       "Name: New Year, dtype: object"
      ]
     },
     "execution_count": 21,
     "metadata": {},
     "output_type": "execute_result"
    }
   ],
   "source": [
    "df.loc['New Year']"
   ]
  },
  {
   "cell_type": "code",
   "execution_count": 22,
   "id": "27dc2df6",
   "metadata": {},
   "outputs": [],
   "source": [
    "df_melted = df.stack().reset_index(name='date').rename(columns={'level_0':'holiday', 'id': 'year_id'})"
   ]
  },
  {
   "cell_type": "code",
   "execution_count": 23,
   "id": "8ac8f0d7",
   "metadata": {},
   "outputs": [
    {
     "data": {
      "text/html": [
       "<div>\n",
       "<style scoped>\n",
       "    .dataframe tbody tr th:only-of-type {\n",
       "        vertical-align: middle;\n",
       "    }\n",
       "\n",
       "    .dataframe tbody tr th {\n",
       "        vertical-align: top;\n",
       "    }\n",
       "\n",
       "    .dataframe thead th {\n",
       "        text-align: right;\n",
       "    }\n",
       "</style>\n",
       "<table border=\"1\" class=\"dataframe\">\n",
       "  <thead>\n",
       "    <tr style=\"text-align: right;\">\n",
       "      <th></th>\n",
       "      <th>holiday</th>\n",
       "      <th>year_id</th>\n",
       "      <th>date</th>\n",
       "    </tr>\n",
       "  </thead>\n",
       "  <tbody>\n",
       "    <tr>\n",
       "      <th>0</th>\n",
       "      <td>New Year</td>\n",
       "      <td>0</td>\n",
       "      <td>2022-01-01</td>\n",
       "    </tr>\n",
       "    <tr>\n",
       "      <th>1</th>\n",
       "      <td>New Year</td>\n",
       "      <td>1</td>\n",
       "      <td>2023-01-01</td>\n",
       "    </tr>\n",
       "    <tr>\n",
       "      <th>2</th>\n",
       "      <td>New Year</td>\n",
       "      <td>2</td>\n",
       "      <td>2024-01-01</td>\n",
       "    </tr>\n",
       "    <tr>\n",
       "      <th>3</th>\n",
       "      <td>Trzech Kroli</td>\n",
       "      <td>0</td>\n",
       "      <td>2022-01-06</td>\n",
       "    </tr>\n",
       "    <tr>\n",
       "      <th>4</th>\n",
       "      <td>Trzech Kroli</td>\n",
       "      <td>1</td>\n",
       "      <td>2023-01-06</td>\n",
       "    </tr>\n",
       "    <tr>\n",
       "      <th>5</th>\n",
       "      <td>Trzech Kroli</td>\n",
       "      <td>2</td>\n",
       "      <td>2024-01-06</td>\n",
       "    </tr>\n",
       "    <tr>\n",
       "      <th>6</th>\n",
       "      <td>Easter Sunday</td>\n",
       "      <td>0</td>\n",
       "      <td>2022-04-17</td>\n",
       "    </tr>\n",
       "    <tr>\n",
       "      <th>7</th>\n",
       "      <td>Easter Sunday</td>\n",
       "      <td>1</td>\n",
       "      <td>2023-04-09</td>\n",
       "    </tr>\n",
       "    <tr>\n",
       "      <th>8</th>\n",
       "      <td>Easter Sunday</td>\n",
       "      <td>2</td>\n",
       "      <td>2024-03-31</td>\n",
       "    </tr>\n",
       "    <tr>\n",
       "      <th>9</th>\n",
       "      <td>Easter Monday</td>\n",
       "      <td>0</td>\n",
       "      <td>2022-04-18</td>\n",
       "    </tr>\n",
       "    <tr>\n",
       "      <th>10</th>\n",
       "      <td>Easter Monday</td>\n",
       "      <td>1</td>\n",
       "      <td>2023-04-10</td>\n",
       "    </tr>\n",
       "    <tr>\n",
       "      <th>11</th>\n",
       "      <td>Easter Monday</td>\n",
       "      <td>2</td>\n",
       "      <td>2024-04-01</td>\n",
       "    </tr>\n",
       "    <tr>\n",
       "      <th>12</th>\n",
       "      <td>Labor Day</td>\n",
       "      <td>0</td>\n",
       "      <td>2022-05-01</td>\n",
       "    </tr>\n",
       "    <tr>\n",
       "      <th>13</th>\n",
       "      <td>Labor Day</td>\n",
       "      <td>1</td>\n",
       "      <td>2023-05-01</td>\n",
       "    </tr>\n",
       "    <tr>\n",
       "      <th>14</th>\n",
       "      <td>Labor Day</td>\n",
       "      <td>2</td>\n",
       "      <td>2024-05-01</td>\n",
       "    </tr>\n",
       "    <tr>\n",
       "      <th>15</th>\n",
       "      <td>Constitution Day</td>\n",
       "      <td>0</td>\n",
       "      <td>2022-05-03</td>\n",
       "    </tr>\n",
       "    <tr>\n",
       "      <th>16</th>\n",
       "      <td>Constitution Day</td>\n",
       "      <td>1</td>\n",
       "      <td>2023-05-03</td>\n",
       "    </tr>\n",
       "    <tr>\n",
       "      <th>17</th>\n",
       "      <td>Constitution Day</td>\n",
       "      <td>2</td>\n",
       "      <td>2024-05-03</td>\n",
       "    </tr>\n",
       "    <tr>\n",
       "      <th>18</th>\n",
       "      <td>Pentecost Sunday</td>\n",
       "      <td>0</td>\n",
       "      <td>2022-06-05</td>\n",
       "    </tr>\n",
       "    <tr>\n",
       "      <th>19</th>\n",
       "      <td>Pentecost Sunday</td>\n",
       "      <td>1</td>\n",
       "      <td>2023-05-28</td>\n",
       "    </tr>\n",
       "    <tr>\n",
       "      <th>20</th>\n",
       "      <td>Pentecost Sunday</td>\n",
       "      <td>2</td>\n",
       "      <td>2024-05-19</td>\n",
       "    </tr>\n",
       "    <tr>\n",
       "      <th>21</th>\n",
       "      <td>Corpus Christi</td>\n",
       "      <td>0</td>\n",
       "      <td>2022-06-16</td>\n",
       "    </tr>\n",
       "    <tr>\n",
       "      <th>22</th>\n",
       "      <td>Corpus Christi</td>\n",
       "      <td>1</td>\n",
       "      <td>2023-06-08</td>\n",
       "    </tr>\n",
       "    <tr>\n",
       "      <th>23</th>\n",
       "      <td>Corpus Christi</td>\n",
       "      <td>2</td>\n",
       "      <td>2024-05-30</td>\n",
       "    </tr>\n",
       "    <tr>\n",
       "      <th>24</th>\n",
       "      <td>Assumption of the Blessed Virgin Mary</td>\n",
       "      <td>0</td>\n",
       "      <td>2022-08-15</td>\n",
       "    </tr>\n",
       "    <tr>\n",
       "      <th>25</th>\n",
       "      <td>Assumption of the Blessed Virgin Mary</td>\n",
       "      <td>1</td>\n",
       "      <td>2023-08-15</td>\n",
       "    </tr>\n",
       "    <tr>\n",
       "      <th>26</th>\n",
       "      <td>Assumption of the Blessed Virgin Mary</td>\n",
       "      <td>2</td>\n",
       "      <td>2024-08-15</td>\n",
       "    </tr>\n",
       "    <tr>\n",
       "      <th>27</th>\n",
       "      <td>All Saints' Day</td>\n",
       "      <td>0</td>\n",
       "      <td>2022-11-01</td>\n",
       "    </tr>\n",
       "    <tr>\n",
       "      <th>28</th>\n",
       "      <td>All Saints' Day</td>\n",
       "      <td>1</td>\n",
       "      <td>2023-11-01</td>\n",
       "    </tr>\n",
       "    <tr>\n",
       "      <th>29</th>\n",
       "      <td>All Saints' Day</td>\n",
       "      <td>2</td>\n",
       "      <td>2024-11-01</td>\n",
       "    </tr>\n",
       "    <tr>\n",
       "      <th>30</th>\n",
       "      <td>Independence Day</td>\n",
       "      <td>0</td>\n",
       "      <td>2022-11-11</td>\n",
       "    </tr>\n",
       "    <tr>\n",
       "      <th>31</th>\n",
       "      <td>Independence Day</td>\n",
       "      <td>1</td>\n",
       "      <td>2023-11-11</td>\n",
       "    </tr>\n",
       "    <tr>\n",
       "      <th>32</th>\n",
       "      <td>Independence Day</td>\n",
       "      <td>2</td>\n",
       "      <td>2024-11-11</td>\n",
       "    </tr>\n",
       "    <tr>\n",
       "      <th>33</th>\n",
       "      <td>Christmas  Day</td>\n",
       "      <td>0</td>\n",
       "      <td>2022-12-25</td>\n",
       "    </tr>\n",
       "    <tr>\n",
       "      <th>34</th>\n",
       "      <td>Christmas  Day</td>\n",
       "      <td>1</td>\n",
       "      <td>2023-12-25</td>\n",
       "    </tr>\n",
       "    <tr>\n",
       "      <th>35</th>\n",
       "      <td>Christmas  Day</td>\n",
       "      <td>2</td>\n",
       "      <td>2024-12-25</td>\n",
       "    </tr>\n",
       "    <tr>\n",
       "      <th>36</th>\n",
       "      <td>Boxing Day</td>\n",
       "      <td>0</td>\n",
       "      <td>2022-12-26</td>\n",
       "    </tr>\n",
       "    <tr>\n",
       "      <th>37</th>\n",
       "      <td>Boxing Day</td>\n",
       "      <td>1</td>\n",
       "      <td>2023-12-26</td>\n",
       "    </tr>\n",
       "    <tr>\n",
       "      <th>38</th>\n",
       "      <td>Boxing Day</td>\n",
       "      <td>2</td>\n",
       "      <td>2024-12-26</td>\n",
       "    </tr>\n",
       "  </tbody>\n",
       "</table>\n",
       "</div>"
      ],
      "text/plain": [
       "                                  holiday  year_id        date\n",
       "0                                New Year        0  2022-01-01\n",
       "1                                New Year        1  2023-01-01\n",
       "2                                New Year        2  2024-01-01\n",
       "3                            Trzech Kroli        0  2022-01-06\n",
       "4                            Trzech Kroli        1  2023-01-06\n",
       "5                            Trzech Kroli        2  2024-01-06\n",
       "6                           Easter Sunday        0  2022-04-17\n",
       "7                           Easter Sunday        1  2023-04-09\n",
       "8                           Easter Sunday        2  2024-03-31\n",
       "9                           Easter Monday        0  2022-04-18\n",
       "10                          Easter Monday        1  2023-04-10\n",
       "11                          Easter Monday        2  2024-04-01\n",
       "12                              Labor Day        0  2022-05-01\n",
       "13                              Labor Day        1  2023-05-01\n",
       "14                              Labor Day        2  2024-05-01\n",
       "15                       Constitution Day        0  2022-05-03\n",
       "16                       Constitution Day        1  2023-05-03\n",
       "17                       Constitution Day        2  2024-05-03\n",
       "18                       Pentecost Sunday        0  2022-06-05\n",
       "19                       Pentecost Sunday        1  2023-05-28\n",
       "20                       Pentecost Sunday        2  2024-05-19\n",
       "21                         Corpus Christi        0  2022-06-16\n",
       "22                         Corpus Christi        1  2023-06-08\n",
       "23                         Corpus Christi        2  2024-05-30\n",
       "24  Assumption of the Blessed Virgin Mary        0  2022-08-15\n",
       "25  Assumption of the Blessed Virgin Mary        1  2023-08-15\n",
       "26  Assumption of the Blessed Virgin Mary        2  2024-08-15\n",
       "27                        All Saints' Day        0  2022-11-01\n",
       "28                        All Saints' Day        1  2023-11-01\n",
       "29                        All Saints' Day        2  2024-11-01\n",
       "30                       Independence Day        0  2022-11-11\n",
       "31                       Independence Day        1  2023-11-11\n",
       "32                       Independence Day        2  2024-11-11\n",
       "33                         Christmas  Day        0  2022-12-25\n",
       "34                         Christmas  Day        1  2023-12-25\n",
       "35                         Christmas  Day        2  2024-12-25\n",
       "36                             Boxing Day        0  2022-12-26\n",
       "37                             Boxing Day        1  2023-12-26\n",
       "38                             Boxing Day        2  2024-12-26"
      ]
     },
     "execution_count": 23,
     "metadata": {},
     "output_type": "execute_result"
    }
   ],
   "source": [
    "df_melted"
   ]
  },
  {
   "cell_type": "code",
   "execution_count": 24,
   "id": "28fbb976",
   "metadata": {},
   "outputs": [],
   "source": [
    "year = 2022"
   ]
  },
  {
   "cell_type": "code",
   "execution_count": 25,
   "id": "5822951a",
   "metadata": {},
   "outputs": [],
   "source": [
    "easter_sunday = easter.easter(year)"
   ]
  },
  {
   "cell_type": "code",
   "execution_count": 26,
   "id": "536af932",
   "metadata": {},
   "outputs": [
    {
     "name": "stdout",
     "output_type": "stream",
     "text": [
      "2022-01-06\n"
     ]
    }
   ],
   "source": [
    "print(date(year,1,6))"
   ]
  },
  {
   "cell_type": "code",
   "execution_count": 27,
   "id": "e9d0d8d6",
   "metadata": {},
   "outputs": [],
   "source": [
    "date_to_check = date(year,1,6)"
   ]
  },
  {
   "cell_type": "code",
   "execution_count": 28,
   "id": "adb7e4ea",
   "metadata": {},
   "outputs": [
    {
     "name": "stdout",
     "output_type": "stream",
     "text": [
      "True\n"
     ]
    }
   ],
   "source": [
    "if date_to_check in set(df_melted['date']):\n",
    "    print(True)\n",
    "else:\n",
    "    print(False)"
   ]
  },
  {
   "cell_type": "code",
   "execution_count": 29,
   "id": "7324089f",
   "metadata": {},
   "outputs": [],
   "source": [
    "date_to_check = date(year,1,5)"
   ]
  },
  {
   "cell_type": "code",
   "execution_count": 30,
   "id": "e8672f29",
   "metadata": {},
   "outputs": [
    {
     "name": "stdout",
     "output_type": "stream",
     "text": [
      "False\n"
     ]
    }
   ],
   "source": [
    "if date_to_check in set(df_melted['date']):\n",
    "    print(True)\n",
    "else:\n",
    "    print(False)"
   ]
  },
  {
   "cell_type": "code",
   "execution_count": null,
   "id": "8608bc33",
   "metadata": {},
   "outputs": [],
   "source": []
  }
 ],
 "metadata": {
  "kernelspec": {
   "display_name": "Python 3 (ipykernel)",
   "language": "python",
   "name": "python3"
  },
  "language_info": {
   "codemirror_mode": {
    "name": "ipython",
    "version": 3
   },
   "file_extension": ".py",
   "mimetype": "text/x-python",
   "name": "python",
   "nbconvert_exporter": "python",
   "pygments_lexer": "ipython3",
   "version": "3.9.7"
  }
 },
 "nbformat": 4,
 "nbformat_minor": 5
}
